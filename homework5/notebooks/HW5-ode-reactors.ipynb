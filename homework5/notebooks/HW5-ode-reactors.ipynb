{
 "cells": [
  {
   "cell_type": "markdown",
   "metadata": {},
   "source": [
    "# HW-5: Reaction Kinetics, Chemical Species, Non-Linear Least-Squares and Convolution Neural Networks "
   ]
  },
  {
   "cell_type": "markdown",
   "metadata": {},
   "source": [
    "## Import Libraries"
   ]
  },
  {
   "cell_type": "code",
   "execution_count": null,
   "metadata": {},
   "outputs": [],
   "source": [
    "import numpy as np\n",
    "print(\"Succesfully imported %s -- Version: %s\"%(np.__name__,np.__version__))\n",
    "import scipy\n",
    "print(\"Succesfully imported %s -- Version: %s\"%(scipy.__name__,scipy.__version__))\n",
    "import matplotlib.pyplot as plt\n",
    "print(\"Succesfully imported %s\"%plt.__name__)\n",
    "import pandas as pd\n",
    "print(\"Succesfully imported %s -- Version: %s\"%(pd.__name__,pd.__version__))\n",
    "import sympy as sym \n",
    "print(\"Succesfully imported %s -- Version: %s\"%(sym.__name__,sym.__version__))\n",
    "from scipy import optimize\n",
    "print(\"Succesfully imported %s\"%optimize.__name__)\n",
    "from scipy.optimize import fsolve\n",
    "print(\"Succesfully imported %s\"%fsolve.__name__)\n",
    "from scipy.signal import find_peaks\n",
    "print(\"Succesfully imported %s\"%find_peaks.__name__)\n",
    "from scipy.linalg import orth\n",
    "print(\"Succesfully imported %s\"%orth.__name__)\n",
    "from scipy.integrate import odeint\n",
    "print(\"Succesfully imported %s\"%odeint.__name__)"
   ]
  },
  {
   "cell_type": "markdown",
   "metadata": {},
   "source": [
    "## Section 1:/ Introduction\n",
    "\n",
    "### Objectives \n",
    "\n",
    "The objective of this homework assignment is to estimate reaction parameters from measured species concentrations. We will consider the Langmuir-Hinshelwood reaction mechanism for a single reactans as a example. The concepts introduced in this homework, however, do carry over to other applications. Examples include the Brusselator model considered in HW-2, an auto-catalytic reaction or a combustion reactions with synthetic fuel. Various approaches to solve the inverse parameter estimation problem will be explored. We will explore derivative-free methods (requires computing norm of $M(p)$), derivative-based methods and convolutional neural network appproaches.\n",
    "\n",
    "### Forward Model, Data and Inverse Model \n",
    "\n",
    "We will use the following three terms: forward model, data and inverse model. These terms are explained in the next paragraphs. \n",
    "\n",
    "The term forward model refers, loosely stated, to the numerical simulation model that mimmicks the underlying chemical system. The aim of solving the forward model is to arrive at a digital twin for the data collection process. In order to be more precise, we denote the state vector and the model parameter vector as $u$ and $p$, respectively. In our examples, the symbols $u$ and $p$ denote the vector of chemical species concentrations and the vector of reaction parameters, respectively. We will denote the time variable by $t$. For a given set of reaction parameters, the species concentration evolves over time. This implies that $u$ depends on both $t$ and $p$. We express this dependence by the notation $u(t,p)$. For a given vector $p$, the time evolution is described by a system of ordinary differential equations supplied with initial conditions $u_0$. The forward model can thus be expressed as: given a time interval $0 \\leq t \\leq T$, given a vector of reaction parameters $p$ and given a vector of initial conditions $u_0$, solve the system of ordinary differential equations \n",
    "\\begin{equation}\n",
    "\\frac{d \\, u}{dt} = f(u,p,t) \\text{ for } 0 \\leq t \\leq T\n",
    "  \\text{ supplied with initial conditions } u(t=0) = u_0 \n",
    "\\end{equation}\n",
    "to obtain $u(t,p)$. Techniques to solve this system of ordinary differential equations are explored in other homework assignments. The forward model assumes fixed parameter values $p$ when solving the system of ordinary differential equations for $u(t,p)$. The forward model can then be formaized as a mapping from the input $p$ to the output $u(t,p)$. After having solved the system of ordinary differential, the solution $u(t,p)$ is evaluated in a set of discrete time samples. In this way, a set of simulated values for $u(t,p)$ is found. In case that $n$ time samples are used, we have that $u$ is a vector of size $n$ or $u \\in R^n$. The forward model is thus a mapping from $R^p$ to $R^n$.      \n",
    "\n",
    "The term data refers to experimentally gathered measurements. We assume that data is collected in a discrete set of time instances ranging between $t=0$ and $t=T$. We will denote the measurements as $u^*$. We assume that the data is obtained from runnning forward model possibly perturbed by a noice term. This allows to experiment with various forms of measured data. We assume that the same time samples are used to construct both the measured $u^*$ and the simulated $u$ state values. Then both $u$ and $u^*$ are vectors of size $n$. \n",
    "\n",
    "The term inverse model refers to the process of determining the model parameters by combining the forward model and the data. In the inverse model, the model parameters $p$ are computed by solving a least squares problem. For arbitrary model parameters $p$, the output of the forward model differs from the measured values. This difference is also called model error or model discrepancy. It is denoted by $E(p)$ (as later its squared error is referred to as SSE. It is a vector of size $n$ thast is computed as \n",
    "\\begin{equation}\n",
    "  E(p) = u(p) - u^* \\in R^n \\, . \n",
    "\\end{equation}\n",
    "The magnitude (or squared norm) of $E(p)$ is computed as \n",
    "\\begin{equation}\n",
    "  SSE = \\| E(p) \\|^2 = \\| u(p) - u^* \\|^2 = \\sum_{i=1}^n [ u_i(p) - u_i^* ]^2 \n",
    "\\end{equation}\n",
    "The error vector $E(p)$ depends in general non-linearly on $p$. The objective in solving the inverse non-linear least-squares problem is to find a (local) minimizer of $E(p)$. For these parameter values, the forward model agrees best with the experimentally measured data. More formally, the objective is to find a set of parameters $p$ such that $E(p)$ has a (local) minimum in $p$. \n",
    "\n",
    "### Derivative-Free Optimization Methods \n",
    "\n",
    "Local search (simplex algorithm or Cobyla algorithm, see scipy.optimize): provide links to wiki for algorithm and to scipy.optimize for implementation details and usage.  \n",
    "\n",
    "Global search (genetic algorithm, see scipy.optimize): as above. \n",
    "\n",
    "### Derivative-Based Optimization Methods with Numerically Computed Sensitivity \n",
    "\n",
    "Run derivative-based algorithm with numerically computed sensitivity. \n",
    "\n",
    "Least-Squares algorithm and general optimization algorithms (gradient descent and Newton type algorithms). \n",
    "\n",
    "### Forward Model Sensitivity \n",
    "\n",
    "The model error $E(p)$ is a mapping from $R^p$ to $R^n$ (in the same way the forward model is). The Jacobian of this mapping is the $n$-by-$m$ matrix defined as \n",
    "\\begin{equation}\n",
    "  \\nabla_p E(p) = \\left[ \\partial E / \\partial p_1, \\ldots, \\partial E / \\partial p_m \\right] \\in R^{n \\times m}\n",
    "\\end{equation}\n",
    "(symbol $p$ attached to the nabla-operator to stress derivative wrt parameters $p$ is intended here). Given that the measured data is independent of $p$, this Jacobian can be equivalently written as \n",
    "\\begin{equation}\n",
    "  \\nabla_p E(p) = \\left[ \\partial u / \\partial p_1, \\ldots, \\partial u  / \\partial p_m \\right] \\in R^{n \\times m}\n",
    "\\end{equation}\n",
    "The partial derivatives $\\partial u / \\partial p_j$ can be computed after having solved the forward model for $u(t,p)$. These partial derivatives are computed after having solved the system of ordinary differential equations for $u(t,p)$. \n",
    "\n",
    "For the computation of $\\partial u / \\partial p_j$, the automatic differentiation (reverse in time) implemented in the library [JAX](https://jax.readthedocs.io/en/latest/notebooks/quickstart.html). An example for a pendulumn is given in [this example](https://github.com/google/jax/pull/2817). Another example is given in [Deep Implicit Layers](http://implicit-layers-tutorial.org/implicit_functions/) (using JAX, extension of Numpy, autograd outdated). An example of computing the sensitivities $\\partial u / \\partial p_j$ is given in Cantera, as shown in this example [sensivity computation in Cantera](https://cantera.org/examples/python/reactors/sensitivity1.py.html). \n",
    "\n",
    "### Derivative-Based Optimization Methods\n",
    "\n",
    "Run derivative-based algorithm sensitivity computed using automatic-differentiation. Reuse same derivative-based methods as above. \n",
    "\n",
    "### Convolutional Neural Network Models \n",
    "\n",
    "The example [blog page on the use of fluxdiffeq](https://julialang.org/blog/2019/01/fluxdiffeq/) will be used as a demonstration of what is currently possible (despite it being develop in Julia). \n",
    "\n",
    "### Overview of This Assignment \n",
    "\n",
    "In this homework assignment, we intend to go through the following steps: "
   ]
  },
  {
   "cell_type": "markdown",
   "metadata": {},
   "source": [
    "## Section 2/: Example from Catalytic Reactions from Alvirez-Raminez-2016 "
   ]
  },
  {
   "cell_type": "markdown",
   "metadata": {},
   "source": [
    "### Section 1.2/: Forward Model \n",
    "Describe the forward model as ODE both transient and quasi-state approximation. Describe the input-output relation of the forward model, describe the state $u$ and the parameters $p$. Describe how to solve the forward model numerically. Describe what the reference solutions are. \n",
    "\n",
    "Describe forward model Eqn. (17) in Alvirez-Raminez-2016; set-up forward model possibly using chempy; solve the forward model using scipy.integrate.solve_ivp() and compare solution with Fig. 1 ($\\Sigma_T=6.0$) and Fig. 2 ($\\Sigma_T=15.0$) in Alvirez-Raminez-2016;"
   ]
  },
  {
   "cell_type": "markdown",
   "metadata": {},
   "source": [
    "### Section 2.2:/ Available Data\n",
    "Describe what data is avaiable (either from lab or literature)."
   ]
  },
  {
   "cell_type": "markdown",
   "metadata": {},
   "source": [
    "### Section 3.3:/ Combining Model and Data to Infer Information \n",
    "Describe how to perform linear or non-linear regression to find the parameters.  \n",
    "\n",
    "Formulate cost functional as Eqn. (43) in Alvirez-Raminez-2016 (sum of various time samples of single concentration profile). "
   ]
  },
  {
   "cell_type": "markdown",
   "metadata": {},
   "source": [
    " ## Section 2:/ Forward Model: Time-Integration of a System of Coupled ODEs"
   ]
  },
  {
   "cell_type": "code",
   "execution_count": null,
   "metadata": {},
   "outputs": [],
   "source": []
  },
  {
   "cell_type": "markdown",
   "metadata": {},
   "source": []
  },
  {
   "cell_type": "code",
   "execution_count": null,
   "metadata": {},
   "outputs": [],
   "source": []
  },
  {
   "cell_type": "markdown",
   "metadata": {},
   "source": [
    "## Section 3/: Forward Model: Sensitivity of Solution wrt Model Parameters "
   ]
  },
  {
   "cell_type": "markdown",
   "metadata": {},
   "source": []
  },
  {
   "cell_type": "markdown",
   "metadata": {},
   "source": [
    "## Section 4/: Inverse Model Formulation and Sensivity "
   ]
  },
  {
   "cell_type": "markdown",
   "metadata": {},
   "source": [
    "Describe least-squares fit between model and measured data. The data can be output of the forward model perturbed eventually by noice. Describe gradient of least-squares functional wrt model parameters. Use upper and lower bounds on the design variables as the easier way to regularize the problem. "
   ]
  },
  {
   "cell_type": "markdown",
   "metadata": {},
   "source": []
  },
  {
   "cell_type": "markdown",
   "metadata": {},
   "source": [
    "## Section 6/:  Inverse Model Solve using Convolutional Neural Networks "
   ]
  },
  {
   "cell_type": "markdown",
   "metadata": {},
   "source": [
    "Training of network. Use network to solve non-linear least-squares problem. "
   ]
  },
  {
   "cell_type": "markdown",
   "metadata": {},
   "source": [
    "## References  "
   ]
  },
  {
   "cell_type": "markdown",
   "metadata": {},
   "source": [
    "1. [wiki on autocatalysis](https://en.wikipedia.org/wiki/Autocatalysis) \n",
    "2. [wiki on non-linear least-squares](https://en.wikipedia.org/wiki/Non-linear_least_squares)\n",
    "3. [wiki on Levenberg-Marquard algorithm](https://en.wikipedia.org/wiki/Levenberg–Marquardt_algorithm)  \n",
    "4. examples of non-linear least-squares problem with ODE constraint: [example](https://stackoverflow.com/questions/11278836/fitting-data-to-system-of-odes-using-python-via-scipy-numpy)\n",
    "5. [Cantera for chemical reactiions](https://cantera.org) \n",
    "6. not-Python: [blog page on the use of fluxdiffeq](https://julialang.org/blog/2019/01/fluxdiffeq/)\n",
    "7. not-Python: [Example of a non-linear least squares problem ready to roll](https://julialang.org/blog/2019/01/fluxdiffeq/) Non-Linear least-squares problem using a neural network problem."
   ]
  },
  {
   "cell_type": "code",
   "execution_count": 1,
   "metadata": {},
   "outputs": [
    {
     "ename": "RuntimeError",
     "evalue": "jaxlib is version 0.1.69, but this version of jax requires version >= 0.3.7.",
     "output_type": "error",
     "traceback": [
      "\u001b[0;31m---------------------------------------------------------------------------\u001b[0m",
      "\u001b[0;31mRuntimeError\u001b[0m                              Traceback (most recent call last)",
      "\u001b[0;32m<ipython-input-1-86af78331144>\u001b[0m in \u001b[0;36m<module>\u001b[0;34m\u001b[0m\n\u001b[0;32m----> 1\u001b[0;31m \u001b[0;32mimport\u001b[0m \u001b[0mjax\u001b[0m\u001b[0;34m\u001b[0m\u001b[0;34m\u001b[0m\u001b[0m\n\u001b[0m",
      "\u001b[0;32m/opt/anaconda3/lib/python3.7/site-packages/jax/__init__.py\u001b[0m in \u001b[0;36m<module>\u001b[0;34m\u001b[0m\n\u001b[1;32m     33\u001b[0m \u001b[0;31m# We want the exported object to be the class, so we first import the module\u001b[0m\u001b[0;34m\u001b[0m\u001b[0;34m\u001b[0m\u001b[0;34m\u001b[0m\u001b[0m\n\u001b[1;32m     34\u001b[0m \u001b[0;31m# to make sure a later import doesn't overwrite the class.\u001b[0m\u001b[0;34m\u001b[0m\u001b[0;34m\u001b[0m\u001b[0;34m\u001b[0m\u001b[0m\n\u001b[0;32m---> 35\u001b[0;31m \u001b[0;32mfrom\u001b[0m \u001b[0mjax\u001b[0m \u001b[0;32mimport\u001b[0m \u001b[0mconfig\u001b[0m \u001b[0;32mas\u001b[0m \u001b[0m_config_module\u001b[0m\u001b[0;34m\u001b[0m\u001b[0;34m\u001b[0m\u001b[0m\n\u001b[0m\u001b[1;32m     36\u001b[0m \u001b[0;32mdel\u001b[0m \u001b[0m_config_module\u001b[0m\u001b[0;34m\u001b[0m\u001b[0;34m\u001b[0m\u001b[0m\n\u001b[1;32m     37\u001b[0m \u001b[0;34m\u001b[0m\u001b[0m\n",
      "\u001b[0;32m/opt/anaconda3/lib/python3.7/site-packages/jax/config.py\u001b[0m in \u001b[0;36m<module>\u001b[0;34m\u001b[0m\n\u001b[1;32m     15\u001b[0m \u001b[0;31m# TODO(phawkins): fix users of this alias and delete this file.\u001b[0m\u001b[0;34m\u001b[0m\u001b[0;34m\u001b[0m\u001b[0;34m\u001b[0m\u001b[0m\n\u001b[1;32m     16\u001b[0m \u001b[0;34m\u001b[0m\u001b[0m\n\u001b[0;32m---> 17\u001b[0;31m \u001b[0;32mfrom\u001b[0m \u001b[0mjax\u001b[0m\u001b[0;34m.\u001b[0m\u001b[0m_src\u001b[0m\u001b[0;34m.\u001b[0m\u001b[0mconfig\u001b[0m \u001b[0;32mimport\u001b[0m \u001b[0mconfig\u001b[0m\u001b[0;34m\u001b[0m\u001b[0;34m\u001b[0m\u001b[0m\n\u001b[0m",
      "\u001b[0;32m/opt/anaconda3/lib/python3.7/site-packages/jax/_src/config.py\u001b[0m in \u001b[0;36m<module>\u001b[0;34m\u001b[0m\n\u001b[1;32m     25\u001b[0m \u001b[0;32mimport\u001b[0m \u001b[0mwarnings\u001b[0m\u001b[0;34m\u001b[0m\u001b[0;34m\u001b[0m\u001b[0m\n\u001b[1;32m     26\u001b[0m \u001b[0;34m\u001b[0m\u001b[0m\n\u001b[0;32m---> 27\u001b[0;31m \u001b[0;32mfrom\u001b[0m \u001b[0mjax\u001b[0m\u001b[0;34m.\u001b[0m\u001b[0m_src\u001b[0m \u001b[0;32mimport\u001b[0m \u001b[0mlib\u001b[0m\u001b[0;34m\u001b[0m\u001b[0;34m\u001b[0m\u001b[0m\n\u001b[0m\u001b[1;32m     28\u001b[0m \u001b[0;32mfrom\u001b[0m \u001b[0mjax\u001b[0m\u001b[0;34m.\u001b[0m\u001b[0m_src\u001b[0m\u001b[0;34m.\u001b[0m\u001b[0mlib\u001b[0m \u001b[0;32mimport\u001b[0m \u001b[0mjax_jit\u001b[0m\u001b[0;34m\u001b[0m\u001b[0;34m\u001b[0m\u001b[0m\n\u001b[1;32m     29\u001b[0m \u001b[0;32mfrom\u001b[0m \u001b[0mjax\u001b[0m\u001b[0;34m.\u001b[0m\u001b[0m_src\u001b[0m\u001b[0;34m.\u001b[0m\u001b[0mlib\u001b[0m \u001b[0;32mimport\u001b[0m \u001b[0mtransfer_guard_lib\u001b[0m\u001b[0;34m\u001b[0m\u001b[0;34m\u001b[0m\u001b[0m\n",
      "\u001b[0;32m/opt/anaconda3/lib/python3.7/site-packages/jax/_src/lib/__init__.py\u001b[0m in \u001b[0;36m<module>\u001b[0;34m\u001b[0m\n\u001b[1;32m    103\u001b[0m   \u001b[0mjax_version\u001b[0m\u001b[0;34m=\u001b[0m\u001b[0mjax\u001b[0m\u001b[0;34m.\u001b[0m\u001b[0mversion\u001b[0m\u001b[0;34m.\u001b[0m\u001b[0m__version__\u001b[0m\u001b[0;34m,\u001b[0m\u001b[0;34m\u001b[0m\u001b[0;34m\u001b[0m\u001b[0m\n\u001b[1;32m    104\u001b[0m   \u001b[0mjaxlib_version\u001b[0m\u001b[0;34m=\u001b[0m\u001b[0mjaxlib\u001b[0m\u001b[0;34m.\u001b[0m\u001b[0mversion\u001b[0m\u001b[0;34m.\u001b[0m\u001b[0m__version__\u001b[0m\u001b[0;34m,\u001b[0m\u001b[0;34m\u001b[0m\u001b[0;34m\u001b[0m\u001b[0m\n\u001b[0;32m--> 105\u001b[0;31m   minimum_jaxlib_version=jax.version._minimum_jaxlib_version)\n\u001b[0m\u001b[1;32m    106\u001b[0m \u001b[0;34m\u001b[0m\u001b[0m\n\u001b[1;32m    107\u001b[0m \u001b[0;34m\u001b[0m\u001b[0m\n",
      "\u001b[0;32m/opt/anaconda3/lib/python3.7/site-packages/jax/_src/lib/__init__.py\u001b[0m in \u001b[0;36mcheck_jaxlib_version\u001b[0;34m(jax_version, jaxlib_version, minimum_jaxlib_version)\u001b[0m\n\u001b[1;32m     89\u001b[0m     msg = (f'jaxlib is version {jaxlib_version}, but this version '\n\u001b[1;32m     90\u001b[0m            f'of jax requires version >= {minimum_jaxlib_version}.')\n\u001b[0;32m---> 91\u001b[0;31m     \u001b[0;32mraise\u001b[0m \u001b[0mRuntimeError\u001b[0m\u001b[0;34m(\u001b[0m\u001b[0mmsg\u001b[0m\u001b[0;34m)\u001b[0m\u001b[0;34m\u001b[0m\u001b[0;34m\u001b[0m\u001b[0m\n\u001b[0m\u001b[1;32m     92\u001b[0m \u001b[0;34m\u001b[0m\u001b[0m\n\u001b[1;32m     93\u001b[0m   \u001b[0;32mif\u001b[0m \u001b[0m_jaxlib_version\u001b[0m \u001b[0;34m>\u001b[0m \u001b[0m_jax_version\u001b[0m\u001b[0;34m:\u001b[0m\u001b[0;34m\u001b[0m\u001b[0;34m\u001b[0m\u001b[0m\n",
      "\u001b[0;31mRuntimeError\u001b[0m: jaxlib is version 0.1.69, but this version of jax requires version >= 0.3.7."
     ]
    }
   ],
   "source": [
    "import jax "
   ]
  },
  {
   "cell_type": "code",
   "execution_count": 2,
   "metadata": {},
   "outputs": [
    {
     "ename": "AttributeError",
     "evalue": "module 'jax' has no attribute 'version'",
     "output_type": "error",
     "traceback": [
      "\u001b[0;31m---------------------------------------------------------------------------\u001b[0m",
      "\u001b[0;31mAttributeError\u001b[0m                            Traceback (most recent call last)",
      "\u001b[0;32m<ipython-input-2-2bbafda0eb24>\u001b[0m in \u001b[0;36m<module>\u001b[0;34m\u001b[0m\n\u001b[1;32m      1\u001b[0m \u001b[0;32mfrom\u001b[0m \u001b[0mfunctools\u001b[0m \u001b[0;32mimport\u001b[0m \u001b[0mpartial\u001b[0m\u001b[0;34m\u001b[0m\u001b[0;34m\u001b[0m\u001b[0m\n\u001b[0;32m----> 2\u001b[0;31m \u001b[0;32mfrom\u001b[0m \u001b[0mjax\u001b[0m\u001b[0;34m.\u001b[0m\u001b[0mexperimental\u001b[0m\u001b[0;34m.\u001b[0m\u001b[0mode\u001b[0m \u001b[0;32mimport\u001b[0m \u001b[0modeint\u001b[0m\u001b[0;34m\u001b[0m\u001b[0;34m\u001b[0m\u001b[0m\n\u001b[0m\u001b[1;32m      3\u001b[0m \u001b[0;32mimport\u001b[0m \u001b[0mjax\u001b[0m\u001b[0;34m.\u001b[0m\u001b[0mnumpy\u001b[0m \u001b[0;32mas\u001b[0m \u001b[0mjnp\u001b[0m\u001b[0;34m\u001b[0m\u001b[0;34m\u001b[0m\u001b[0m\n\u001b[1;32m      4\u001b[0m \u001b[0;34m\u001b[0m\u001b[0m\n\u001b[1;32m      5\u001b[0m \u001b[0;32mdef\u001b[0m \u001b[0mf\u001b[0m\u001b[0;34m(\u001b[0m\u001b[0mstate\u001b[0m\u001b[0;34m,\u001b[0m \u001b[0mt\u001b[0m\u001b[0;34m,\u001b[0m \u001b[0mrho\u001b[0m\u001b[0;34m,\u001b[0m \u001b[0msigma\u001b[0m\u001b[0;34m,\u001b[0m \u001b[0mbeta\u001b[0m\u001b[0;34m)\u001b[0m\u001b[0;34m:\u001b[0m\u001b[0;34m\u001b[0m\u001b[0;34m\u001b[0m\u001b[0m\n",
      "\u001b[0;32m/opt/anaconda3/lib/python3.7/site-packages/jax/__init__.py\u001b[0m in \u001b[0;36m<module>\u001b[0;34m\u001b[0m\n\u001b[1;32m     33\u001b[0m \u001b[0;31m# We want the exported object to be the class, so we first import the module\u001b[0m\u001b[0;34m\u001b[0m\u001b[0;34m\u001b[0m\u001b[0;34m\u001b[0m\u001b[0m\n\u001b[1;32m     34\u001b[0m \u001b[0;31m# to make sure a later import doesn't overwrite the class.\u001b[0m\u001b[0;34m\u001b[0m\u001b[0;34m\u001b[0m\u001b[0;34m\u001b[0m\u001b[0m\n\u001b[0;32m---> 35\u001b[0;31m \u001b[0;32mfrom\u001b[0m \u001b[0mjax\u001b[0m \u001b[0;32mimport\u001b[0m \u001b[0mconfig\u001b[0m \u001b[0;32mas\u001b[0m \u001b[0m_config_module\u001b[0m\u001b[0;34m\u001b[0m\u001b[0;34m\u001b[0m\u001b[0m\n\u001b[0m\u001b[1;32m     36\u001b[0m \u001b[0;32mdel\u001b[0m \u001b[0m_config_module\u001b[0m\u001b[0;34m\u001b[0m\u001b[0;34m\u001b[0m\u001b[0m\n\u001b[1;32m     37\u001b[0m \u001b[0;34m\u001b[0m\u001b[0m\n",
      "\u001b[0;32m/opt/anaconda3/lib/python3.7/site-packages/jax/config.py\u001b[0m in \u001b[0;36m<module>\u001b[0;34m\u001b[0m\n\u001b[1;32m     15\u001b[0m \u001b[0;31m# TODO(phawkins): fix users of this alias and delete this file.\u001b[0m\u001b[0;34m\u001b[0m\u001b[0;34m\u001b[0m\u001b[0;34m\u001b[0m\u001b[0m\n\u001b[1;32m     16\u001b[0m \u001b[0;34m\u001b[0m\u001b[0m\n\u001b[0;32m---> 17\u001b[0;31m \u001b[0;32mfrom\u001b[0m \u001b[0mjax\u001b[0m\u001b[0;34m.\u001b[0m\u001b[0m_src\u001b[0m\u001b[0;34m.\u001b[0m\u001b[0mconfig\u001b[0m \u001b[0;32mimport\u001b[0m \u001b[0mconfig\u001b[0m\u001b[0;34m\u001b[0m\u001b[0;34m\u001b[0m\u001b[0m\n\u001b[0m",
      "\u001b[0;32m/opt/anaconda3/lib/python3.7/site-packages/jax/_src/config.py\u001b[0m in \u001b[0;36m<module>\u001b[0;34m\u001b[0m\n\u001b[1;32m     25\u001b[0m \u001b[0;32mimport\u001b[0m \u001b[0mwarnings\u001b[0m\u001b[0;34m\u001b[0m\u001b[0;34m\u001b[0m\u001b[0m\n\u001b[1;32m     26\u001b[0m \u001b[0;34m\u001b[0m\u001b[0m\n\u001b[0;32m---> 27\u001b[0;31m \u001b[0;32mfrom\u001b[0m \u001b[0mjax\u001b[0m\u001b[0;34m.\u001b[0m\u001b[0m_src\u001b[0m \u001b[0;32mimport\u001b[0m \u001b[0mlib\u001b[0m\u001b[0;34m\u001b[0m\u001b[0;34m\u001b[0m\u001b[0m\n\u001b[0m\u001b[1;32m     28\u001b[0m \u001b[0;32mfrom\u001b[0m \u001b[0mjax\u001b[0m\u001b[0;34m.\u001b[0m\u001b[0m_src\u001b[0m\u001b[0;34m.\u001b[0m\u001b[0mlib\u001b[0m \u001b[0;32mimport\u001b[0m \u001b[0mjax_jit\u001b[0m\u001b[0;34m\u001b[0m\u001b[0;34m\u001b[0m\u001b[0m\n\u001b[1;32m     29\u001b[0m \u001b[0;32mfrom\u001b[0m \u001b[0mjax\u001b[0m\u001b[0;34m.\u001b[0m\u001b[0m_src\u001b[0m\u001b[0;34m.\u001b[0m\u001b[0mlib\u001b[0m \u001b[0;32mimport\u001b[0m \u001b[0mtransfer_guard_lib\u001b[0m\u001b[0;34m\u001b[0m\u001b[0;34m\u001b[0m\u001b[0m\n",
      "\u001b[0;32m/opt/anaconda3/lib/python3.7/site-packages/jax/_src/lib/__init__.py\u001b[0m in \u001b[0;36m<module>\u001b[0;34m\u001b[0m\n\u001b[1;32m    101\u001b[0m \u001b[0mversion_str\u001b[0m \u001b[0;34m=\u001b[0m \u001b[0mjaxlib\u001b[0m\u001b[0;34m.\u001b[0m\u001b[0mversion\u001b[0m\u001b[0;34m.\u001b[0m\u001b[0m__version__\u001b[0m\u001b[0;34m\u001b[0m\u001b[0;34m\u001b[0m\u001b[0m\n\u001b[1;32m    102\u001b[0m version = check_jaxlib_version(\n\u001b[0;32m--> 103\u001b[0;31m   \u001b[0mjax_version\u001b[0m\u001b[0;34m=\u001b[0m\u001b[0mjax\u001b[0m\u001b[0;34m.\u001b[0m\u001b[0mversion\u001b[0m\u001b[0;34m.\u001b[0m\u001b[0m__version__\u001b[0m\u001b[0;34m,\u001b[0m\u001b[0;34m\u001b[0m\u001b[0;34m\u001b[0m\u001b[0m\n\u001b[0m\u001b[1;32m    104\u001b[0m   \u001b[0mjaxlib_version\u001b[0m\u001b[0;34m=\u001b[0m\u001b[0mjaxlib\u001b[0m\u001b[0;34m.\u001b[0m\u001b[0mversion\u001b[0m\u001b[0;34m.\u001b[0m\u001b[0m__version__\u001b[0m\u001b[0;34m,\u001b[0m\u001b[0;34m\u001b[0m\u001b[0;34m\u001b[0m\u001b[0m\n\u001b[1;32m    105\u001b[0m   minimum_jaxlib_version=jax.version._minimum_jaxlib_version)\n",
      "\u001b[0;31mAttributeError\u001b[0m: module 'jax' has no attribute 'version'"
     ]
    }
   ],
   "source": [
    "from functools import partial\n",
    "from jax.experimental.ode import odeint\n",
    "import jax.numpy as jnp\n",
    "\n",
    "def f(state, t, rho, sigma, beta):\n",
    "  x, y, z = state\n",
    "  return jnp.array([sigma * (y - x), x * (rho - z) - y, x * y - beta * z])\n",
    "\n",
    "ys = odeint(partial(f, rho=28., sigma=10., beta=8./3),\n",
    "            y0=jnp.array([1., 1., 1.]),\n",
    "            t=jnp.linspace(0, 10., 10000))"
   ]
  },
  {
   "cell_type": "code",
   "execution_count": null,
   "metadata": {},
   "outputs": [],
   "source": []
  },
  {
   "cell_type": "code",
   "execution_count": null,
   "metadata": {},
   "outputs": [],
   "source": []
  },
  {
   "cell_type": "code",
   "execution_count": null,
   "metadata": {},
   "outputs": [],
   "source": []
  },
  {
   "cell_type": "code",
   "execution_count": null,
   "metadata": {},
   "outputs": [],
   "source": []
  }
 ],
 "metadata": {
  "kernelspec": {
   "display_name": "Python 3",
   "language": "python",
   "name": "python3"
  },
  "language_info": {
   "codemirror_mode": {
    "name": "ipython",
    "version": 3
   },
   "file_extension": ".py",
   "mimetype": "text/x-python",
   "name": "python",
   "nbconvert_exporter": "python",
   "pygments_lexer": "ipython3",
   "version": "3.7.10"
  }
 },
 "nbformat": 4,
 "nbformat_minor": 2
}
