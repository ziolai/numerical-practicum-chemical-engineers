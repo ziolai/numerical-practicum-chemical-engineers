{
 "cells": [
  {
   "cell_type": "markdown",
   "metadata": {},
   "source": [
    "# Numerical Practicum: HW1 \n",
    "## Intro - Recap of Preliminaries"
   ]
  },
  {
   "cell_type": "code",
   "execution_count": 95,
   "metadata": {},
   "outputs": [
    {
     "name": "stdout",
     "output_type": "stream",
     "text": [
      "Succesfully imported numpy -- Version: 1.20.1\n",
      "Succesfully imported scipy -- Version: 1.6.2\n",
      "Succesfully imported matplotlib.pyplot\n",
      "Succesfully imported pandas -- Version: 1.2.4\n",
      "Succesfully imported scipy.optimize\n",
      "Succesfully imported solve_ivp\n"
     ]
    }
   ],
   "source": [
    "import numpy as np\n",
    "print(\"Succesfully imported %s -- Version: %s\"%(np.__name__,np.__version__))\n",
    "import scipy\n",
    "print(\"Succesfully imported %s -- Version: %s\"%(scipy.__name__,scipy.__version__))\n",
    "import matplotlib.pyplot as plt\n",
    "print(\"Succesfully imported %s\"%plt.__name__)\n",
    "import pandas as pd\n",
    "print(\"Succesfully imported %s -- Version: %s\"%(pd.__name__,pd.__version__))\n",
    "# from sympy import Function, dsolve, Eq, Derivative, symbols\n",
    "import sympy as sp\n",
    "from scipy import optimize\n",
    "print(\"Succesfully imported %s\"%optimize.__name__)\n",
    "import numpy as np\n",
    "from scipy.integrate import solve_ivp\n",
    "print(\"Succesfully imported %s\"%solve_ivp.__name__)"
   ]
  },
  {
   "cell_type": "markdown",
   "metadata": {},
   "source": [
    "## Section 5/6: Extension to Data Handling Methods  "
   ]
  },
  {
   "cell_type": "markdown",
   "metadata": {},
   "source": [
    "### Subsection 1/5/6: Numerical integration or quadrature  \n",
    "Motivation: (1/2) from solution of differential equation to inflow or outflow rates or heat fluxes; (2/2) uses in weighted average of the solution such as Fourier analysis; \n",
    "\n",
    "1. [Numerical Integration in Python](https://pythonnumericalmethods.berkeley.edu/notebooks/chapter21.00-Numerical-Integration.html) \n",
    "2. [Numerical Integration on wiki](https://en.wikipedia.org/wiki/Numerical_integration) \n",
    "3. Numerical implementation, analytical reference, exercises; easy, unless rapid oscillations or singularities;"
   ]
  },
  {
   "cell_type": "markdown",
   "metadata": {},
   "source": [
    "#### Symbolic Computations using sympy "
   ]
  },
  {
   "cell_type": "code",
   "execution_count": 130,
   "metadata": {},
   "outputs": [
    {
     "data": {
      "text/plain": [
       "<matplotlib.legend.Legend at 0x7fc6e9991410>"
      ]
     },
     "execution_count": 130,
     "metadata": {},
     "output_type": "execute_result"
    },
    {
     "data": {
      "image/png": "[encoded data removed]",
      "text/plain": [
       "<Figure size 432x288 with 2 Axes>"
      ]
     },
     "metadata": {
      "needs_background": "light"
     },
     "output_type": "display_data"
    }
   ],
   "source": [
    "#..define symbol x (spatial coordinate), function f (source) and function u (unknown)\n",
    "x = sp.symbols('x')\n",
    "u = sp.Function(\"u\") \n",
    "\n",
    "#..define the expression for the givrn function \n",
    "u = x**2 \n",
    "\n",
    "#..compute derivative symbolically\n",
    "U = sp.integrate(u, x) \n",
    "\n",
    "#..to switch from symbolic to numerical computation\n",
    "#..we need to perform a \"lambdification\" of the right-hand side of the solution\n",
    "#..the function created accepts vector arguments \n",
    "u_lambda = sp.lambdify(x, u)\n",
    "U_lambda = sp.lambdify(x, U)\n",
    "\n",
    "#..sample the lambda expression for the computed solution \n",
    "N = 100; Np1 = N+1;  \n",
    "xvec = np.linspace(0,1,Np1)\n",
    "uvec = u_lambda(xvec)\n",
    "Uvec = U_lambda(xvec)\n",
    "\n",
    "#..plot the computed solutions \n",
    "fig, axs = plt.subplots(1, 2) \n",
    "axs[0].plot(xvec, uvec, label='function')\n",
    "axs[0].set_xlabel('x')\n",
    "axs[0].set_ylabel('u(x)')\n",
    "axs[0].legend(loc='best')\n",
    "axs[0].grid()\n",
    "axs[1].plot(xvec, Uvec, label='primitive')\n",
    "axs[1].grid()\n",
    "axs[1].set_xlabel('x')\n",
    "axs[1].set_ylabel('U(x)')\n",
    "axs[1].legend(loc='best')"
   ]
  },
  {
   "cell_type": "markdown",
   "metadata": {},
   "source": [
    "#### Numerical Computations using scipy "
   ]
  },
  {
   "cell_type": "code",
   "execution_count": null,
   "metadata": {},
   "outputs": [],
   "source": []
  },
  {
   "cell_type": "markdown",
   "metadata": {},
   "source": [
    "#### Numerical Computations using sympy"
   ]
  },
  {
   "cell_type": "code",
   "execution_count": null,
   "metadata": {},
   "outputs": [],
   "source": []
  },
  {
   "cell_type": "markdown",
   "metadata": {},
   "source": [
    "### Subsection 2/5/6: Numerical Differentiation \n",
    "Motivation: (1/2) from position of a point-mass (molecule) to velocity (first order derivative) and acceleration (second order derivative), from species to reation rate and time-change of the reaction rate; (2/2) from potential to flux and field.     \n",
    "\n",
    "1. Numerical differentiation using linear, quadratic and cubic spline approximation using  [scipy.interpolate](https://docs.scipy.org/doc/scipy/tutorial/interpolate.html?highlight=spline);\n",
    "2. [Numerical differentiation in Python](https://pythonnumericalmethods.berkeley.edu/notebooks/chapter20.00-Numerical-Differentiation.html) \n",
    "3. [Numerical Differentiation on wiki](https://en.wikipedia.org/wiki/Numerical_differentiation)\n",
    "4. Finite difference method, analytical method (sympy) as reference, what goes wrong, slides as references, exercises; "
   ]
  },
  {
   "cell_type": "markdown",
   "metadata": {},
   "source": [
    "#### Symbolic Computations using sympy "
   ]
  },
  {
   "cell_type": "code",
   "execution_count": null,
   "metadata": {},
   "outputs": [],
   "source": [
    "#..define symbol x (spatial coordinate), function f (source) and function u (unknown)\n",
    "x = sp.symbols('x')\n",
    "u = sp.Function(\"u\") \n",
    "\n",
    "#..define the expression for the givrn function \n",
    "u = x**2 \n",
    "\n",
    "#..compute derivative symbolically\n",
    "ux = sp.diff(u, x)\n",
    "\n",
    "#..to switch from symbolic to numerical computation\n",
    "#..we need to perform a \"lambdification\" of the right-hand side of the solution\n",
    "#..the function created accepts vector arguments \n",
    "u_lambda = sp.lambdify(x, u)\n",
    "ux_lambda = sp.lambdify(x, ux)\n",
    "\n",
    "#..sample the lambda expression for the computed solution \n",
    "N = 100; Np1 = N+1;  \n",
    "xvec = np.linspace(0,1,Np1)\n",
    "uvec = u_lambda(xvec)\n",
    "uxvec = ux_lambda(xvec)\n",
    "\n",
    "#..plot the computed solution \n",
    "fig, axs = plt.subplots(1, 2) \n",
    "axs[0].plot(xvec, uvec, label='function')\n",
    "axs[0].set_xlabel('x')\n",
    "axs[0].set_ylabel('u(x)')\n",
    "axs[0].legend(loc='best')\n",
    "axs[0].grid()\n",
    "axs[1].plot(xvec, uxvec, label='derivative')\n",
    "axs[1].grid()\n",
    "axs[1].set_xlabel('x')\n",
    "axs[1].set_ylabel('ux(x)')\n",
    "axs[1].legend(loc='best')"
   ]
  },
  {
   "cell_type": "markdown",
   "metadata": {},
   "source": [
    "#### Numerical Computations using scipy "
   ]
  },
  {
   "cell_type": "code",
   "execution_count": 125,
   "metadata": {},
   "outputs": [
    {
     "data": {
      "image/png": "[encoded data removed]",
      "text/plain": [
       "<Figure size 432x288 with 2 Axes>"
      ]
     },
     "metadata": {
      "needs_background": "light"
     },
     "output_type": "display_data"
    }
   ],
   "source": [
    "from scipy import interpolate\n",
    "\n",
    "# generate data \n",
    "x = np.arange(0, 2*np.pi+np.pi/4, 2*np.pi/8)\n",
    "y = np.sin(x)\n",
    "\n",
    "# generate spline representation order k and smoothness s\n",
    "tck = interpolate.splrep(x, y, k=2, s=0)\n",
    "\n",
    "# generate data for plotting \n",
    "xnew = np.arange(0, 2*np.pi, np.pi/50)\n",
    "ynew = interpolate.splev(xnew, tck, der=0)\n",
    "\n",
    "fig, axs = plt.subplots(2, 1) \n",
    "axs[0].plot(x, y, 'x', xnew, ynew, xnew, np.sin(xnew))\n",
    "axs[0].legend(['Linear', 'Cubic Spline', 'True'])\n",
    "axs[0].axis([-0.05, 6.33, -1.05, 1.05])\n",
    "axs[0].grid()\n",
    "axs[1].plot(x, y, 'x', xnew, ynew, x, y, 'b')\n",
    "axs[1].legend(['Linear', 'Cubic Spline', 'True'])\n",
    "axs[1].axis([-0.05, 6.33, -1.05, 1.05])\n",
    "axs[1].grid()"
   ]
  },
  {
   "cell_type": "markdown",
   "metadata": {},
   "source": [
    "#### Numerical Computations using sympy"
   ]
  },
  {
   "cell_type": "code",
   "execution_count": 131,
   "metadata": {},
   "outputs": [],
   "source": [
    "def integrand(r):\n",
    "    return 1+r+r**2\n",
    "rmin = 0; rmax = 1; \n",
    "N = 100; rstep = (rmax-rmin)/N\n",
    "rsampled = np.linspace(rmin, rmax, num=N+1)\n",
    "integral = 0 \n",
    "for i in range(N): \n",
    "    rinterval = np.array([rsampled[i], rsampled[i+1]])\n",
    "    Iinterval = integrand(rinterval)\n",
    "    contrib = np.sum(Iinterval)*rstep/2 \n",
    "    integral += contrib; \n",
    "print(integral)"
   ]
  },
  {
   "cell_type": "code",
   "execution_count": null,
   "metadata": {},
   "outputs": [],
   "source": []
  },
  {
   "cell_type": "markdown",
   "metadata": {},
   "source": [
    "### Subsection 3/5/6: Fast Fourier Transform  \n",
    "1. (Fast Discrete) Fourier Transform, frequency content a signal in time using [sympy.fourierseries](https://docs.sympy.org/latest/modules/series/fourier.html) and [scipy.fft](https://docs.scipy.org/doc/scipy/reference/fft.html)\n",
    "2. [FFT in Python](https://pythonnumericalmethods.berkeley.edu/notebooks/chapter24.00-Fourier-Transforms.html)\n",
    "3. Tutorials on ANM, FFT of single frequency, multiple frequencies and more complex functions; "
   ]
  },
  {
   "cell_type": "markdown",
   "metadata": {},
   "source": [
    "#### Symbolic Computations using sympy \n",
    "Verify De Moivre using Fourier series "
   ]
  },
  {
   "cell_type": "code",
   "execution_count": 136,
   "metadata": {},
   "outputs": [
    {
     "name": "stdout",
     "output_type": "stream",
     "text": [
      "FourierSeries(sin(pi*t), (t, 0, 1), (2/pi, SeqFormula(2*Piecewise((0, Eq(_n, -1/2) | Eq(_n, 1/2)), (-cos(2*_n*pi)/(4*_n**2*pi - pi) - 1/(4*_n**2*pi - pi), True))*cos(2*_n*pi*t), (_n, 1, oo)), SeqFormula(2*Piecewise((-1/2, Eq(_n, -1/2)), (1/2, Eq(_n, 1/2)), (-sin(2*_n*pi)/(4*_n**2*pi - pi), True))*sin(2*_n*pi*t), (_n, 1, oo))))\n"
     ]
    }
   ],
   "source": [
    "#..define symbol x (spatial coordinate), function f (source) and function u (unknown)\n",
    "t = sp.symbols('t')\n",
    "u = sp.Function(\"u\") \n",
    "\n",
    "s = sp.fourier_series(sp.sin(sp.pi*t), (t, 0, 1))\n",
    "print(s)"
   ]
  },
  {
   "cell_type": "markdown",
   "metadata": {},
   "source": [
    "#### Numerical Computations using scipy "
   ]
  },
  {
   "cell_type": "code",
   "execution_count": null,
   "metadata": {},
   "outputs": [],
   "source": []
  },
  {
   "cell_type": "markdown",
   "metadata": {},
   "source": [
    "#### Numerical Computations using sympy"
   ]
  },
  {
   "cell_type": "code",
   "execution_count": null,
   "metadata": {},
   "outputs": [],
   "source": []
  },
  {
   "cell_type": "code",
   "execution_count": null,
   "metadata": {},
   "outputs": [],
   "source": []
  },
  {
   "cell_type": "code",
   "execution_count": 102,
   "metadata": {},
   "outputs": [],
   "source": [
    "?scipy.interpolate.splrep"
   ]
  },
  {
   "cell_type": "markdown",
   "metadata": {},
   "source": [
    "## Part 6/6: Extension to Optimization Methods  "
   ]
  },
  {
   "cell_type": "markdown",
   "metadata": {},
   "source": [
    "1. Change problem set-up to meet predefined target using non-linear optimization method. Boundary control. Source function control. Compute cost function gradient and Hessian. Solve optimization problem using built-in method; \n",
    "2. List here possibly other extensions and implementation specific issues; "
   ]
  },
  {
   "cell_type": "code",
   "execution_count": 106,
   "metadata": {},
   "outputs": [],
   "source": [
    "def model(x, u):\n",
    "     return x[0] * (u ** 2 + x[1] * u) / (u ** 2 + x[2] * u + x[3])\n",
    "\n",
    "def fun(x, u, y):\n",
    "     return model(x, u) - y\n",
    "\n",
    "def jac(x, u, y):\n",
    "     J = np.empty((u.size, x.size))\n",
    "     den = u ** 2 + x[2] * u + x[3]\n",
    "     num = u ** 2 + x[1] * u\n",
    "     J[:, 0] = num / den\n",
    "     J[:, 1] = x[0] * u / den\n",
    "     J[:, 2] = -x[0] * num * u / den ** 2\n",
    "     J[:, 3] = -x[0] * num / den ** 2\n",
    "     return J"
   ]
  },
  {
   "cell_type": "code",
   "execution_count": 107,
   "metadata": {},
   "outputs": [
    {
     "name": "stdout",
     "output_type": "stream",
     "text": [
      "`ftol` termination condition is satisfied.\n",
      "Function evaluations 131, initial cost 4.4383e+00, final cost 1.5375e-04, first-order optimality 4.52e-08.\n"
     ]
    }
   ],
   "source": [
    "u = np.array([4.0, 2.0, 1.0, 5.0e-1, 2.5e-1, 1.67e-1, 1.25e-1, 1.0e-1,\n",
    "...               8.33e-2, 7.14e-2, 6.25e-2])\n",
    ">>> y = np.array([1.957e-1, 1.947e-1, 1.735e-1, 1.6e-1, 8.44e-2, 6.27e-2,\n",
    "...               4.56e-2, 3.42e-2, 3.23e-2, 2.35e-2, 2.46e-2])\n",
    ">>> x0 = np.array([2.5, 3.9, 4.15, 3.9])\n",
    ">>> res = scipy.optimize.least_squares(fun, x0, jac=jac, bounds=(0, 100), args=(u, y), verbose=1)"
   ]
  },
  {
   "cell_type": "code",
   "execution_count": null,
   "metadata": {},
   "outputs": [],
   "source": []
  }
 ],
 "metadata": {
  "kernelspec": {
   "display_name": "Python 3",
   "language": "python",
   "name": "python3"
  },
  "language_info": {
   "codemirror_mode": {
    "name": "ipython",
    "version": 3
   },
   "file_extension": ".py",
   "mimetype": "text/x-python",
   "name": "python",
   "nbconvert_exporter": "python",
   "pygments_lexer": "ipython3",
   "version": "3.7.10"
  }
 },
 "nbformat": 4,
 "nbformat_minor": 4
}
