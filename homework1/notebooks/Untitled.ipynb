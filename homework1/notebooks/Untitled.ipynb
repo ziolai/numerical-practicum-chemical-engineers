{
 "cells": [
  {
   "cell_type": "markdown",
   "id": "4923a7d8",
   "metadata": {},
   "source": [
    "# Sandbox: 2D Poisson Equation "
   ]
  },
  {
   "cell_type": "code",
   "execution_count": 2,
   "id": "b92024f3",
   "metadata": {},
   "outputs": [],
   "source": [
    "import numpy as np\n",
    "import scipy as sp \n",
    "import matplotlib.pyplot as plt"
   ]
  },
  {
   "cell_type": "markdown",
   "id": "51482e2d",
   "metadata": {},
   "source": [
    "## Read/modify of submatrix of a given matrix"
   ]
  },
  {
   "cell_type": "markdown",
   "id": "440e85f4",
   "metadata": {},
   "source": [
    "### Matrix Created using Arange"
   ]
  },
  {
   "cell_type": "markdown",
   "id": "2348820d",
   "metadata": {},
   "source": [
    "#Submatrix with a to (b-1) row as new rows,  c to (d-1) columns as new columns\n",
    "A[a:b, c:d]  "
   ]
  },
  {
   "cell_type": "code",
   "execution_count": 5,
   "id": "637d295e",
   "metadata": {},
   "outputs": [
    {
     "name": "stdout",
     "output_type": "stream",
     "text": [
      "matrix A = [[1. 1.]\n",
      " [1. 1.]]\n"
     ]
    }
   ],
   "source": [
    "A = np.ones((2,2))\n",
    "print(\"matrix A =\",A)"
   ]
  },
  {
   "cell_type": "code",
   "execution_count": 21,
   "id": "d6568fc1",
   "metadata": {},
   "outputs": [
    {
     "name": "stdout",
     "output_type": "stream",
     "text": [
      "(array([[0],\n",
      "       [3]]), array([[0, 3]]))\n"
     ]
    }
   ],
   "source": [
    "II = np.ix_([0,3],[0,3])\n",
    "print(II)"
   ]
  },
  {
   "cell_type": "code",
   "execution_count": 23,
   "id": "e0fe394c",
   "metadata": {},
   "outputs": [
    {
     "name": "stdout",
     "output_type": "stream",
     "text": [
      "(array([[2],\n",
      "       [3],\n",
      "       [4]]), array([[2, 3, 4]]))\n"
     ]
    }
   ],
   "source": [
    "I = np.array([2,3,4]); J = np.array([2,3,4])\n",
    "II = np.ix_(I,J)\n",
    "print(II)"
   ]
  },
  {
   "cell_type": "code",
   "execution_count": 26,
   "id": "f51970b8",
   "metadata": {},
   "outputs": [
    {
     "name": "stdout",
     "output_type": "stream",
     "text": [
      "matrix A =  [[1. 1. 1. 1.]\n",
      " [1. 1. 1. 1.]\n",
      " [1. 1. 1. 1.]\n",
      " [1. 1. 1. 1.]]\n",
      "matrix B =  [[20. 20.]\n",
      " [20. 20.]]\n",
      "first modified matrix A =  [[ 1.  1.  1.  1.]\n",
      " [ 1.  1.  1.  1.]\n",
      " [ 1.  1. 20. 20.]\n",
      " [ 1.  1. 20. 20.]]\n",
      "second modified matrix A =  [[1.e+00 1.e+00 1.e+00 1.e+00]\n",
      " [1.e+00 1.e+00 1.e+00 1.e+00]\n",
      " [1.e+00 1.e+00 2.e+03 2.e+03]\n",
      " [1.e+00 1.e+00 2.e+03 2.e+03]]\n"
     ]
    }
   ],
   "source": [
    "A = np.ones((4,4))\n",
    "B = 20*np.ones((2,2))\n",
    "print(\"matrix A = \",A)\n",
    "print(\"matrix B = \",B)\n",
    "A[2:4,2:4] = B \n",
    "print(\"first modified matrix A = \",A)\n",
    "I = np.array([2,3]); J = np.array([2,3])\n",
    "II = np.ix_(I,J)\n",
    "A[II] = 100*B\n",
    "print(\"second modified matrix A = \",A)"
   ]
  },
  {
   "cell_type": "code",
   "execution_count": 7,
   "id": "32d1272a",
   "metadata": {},
   "outputs": [
    {
     "name": "stdout",
     "output_type": "stream",
     "text": [
      "submatrix A =  [[ 0  1  2  3]\n",
      " [ 4  5  6  7]\n",
      " [ 8  9 10 11]\n",
      " [12 13 14 15]]\n",
      "submatrix B =  [[1]\n",
      " [5]]\n",
      "modified matrix A =  [[ 0 20  2  3]\n",
      " [ 4 20  6  7]\n",
      " [ 8  9 10 11]\n",
      " [12 13 14 15]]\n",
      "submatrix C =  [[ 0  3]\n",
      " [12 15]]\n",
      "submatrix D =  [[20. 20.]\n",
      " [20. 20.]]\n"
     ]
    },
    {
     "ename": "ValueError",
     "evalue": "shape mismatch: value array of shape (2,2)  could not be broadcast to indexing result of shape (2,)",
     "output_type": "error",
     "traceback": [
      "\u001b[0;31m---------------------------------------------------------------------------\u001b[0m",
      "\u001b[0;31mValueError\u001b[0m                                Traceback (most recent call last)",
      "\u001b[0;32m<ipython-input-7-3f53cdba2443>\u001b[0m in \u001b[0;36m<module>\u001b[0;34m\u001b[0m\n\u001b[1;32m     16\u001b[0m \u001b[0mprint\u001b[0m\u001b[0;34m(\u001b[0m\u001b[0;34m\"submatrix D = \"\u001b[0m\u001b[0;34m,\u001b[0m\u001b[0mD\u001b[0m\u001b[0;34m)\u001b[0m\u001b[0;34m\u001b[0m\u001b[0;34m\u001b[0m\u001b[0m\n\u001b[1;32m     17\u001b[0m \u001b[0;31m# A[I, :][:,J] = D\u001b[0m\u001b[0;34m\u001b[0m\u001b[0;34m\u001b[0m\u001b[0;34m\u001b[0m\u001b[0m\n\u001b[0;32m---> 18\u001b[0;31m \u001b[0mA\u001b[0m\u001b[0;34m[\u001b[0m\u001b[0mI\u001b[0m\u001b[0;34m,\u001b[0m \u001b[0mJ\u001b[0m\u001b[0;34m]\u001b[0m \u001b[0;34m=\u001b[0m \u001b[0mD\u001b[0m\u001b[0;34m\u001b[0m\u001b[0;34m\u001b[0m\u001b[0m\n\u001b[0m\u001b[1;32m     19\u001b[0m \u001b[0mprint\u001b[0m\u001b[0;34m(\u001b[0m\u001b[0;34m\"modified matrix A = \"\u001b[0m\u001b[0;34m,\u001b[0m\u001b[0mA\u001b[0m\u001b[0;34m)\u001b[0m\u001b[0;34m\u001b[0m\u001b[0;34m\u001b[0m\u001b[0m\n",
      "\u001b[0;31mValueError\u001b[0m: shape mismatch: value array of shape (2,2)  could not be broadcast to indexing result of shape (2,)"
     ]
    }
   ],
   "source": [
    "# Create matrix to select a submatrix from \n",
    "A = np.arange(16).reshape(4,4)\n",
    "print(\"submatrix A = \",A)\n",
    "\n",
    "# Selection of submatrix with continguous rows and collumns \n",
    "B = A[0:2,1:2]\n",
    "print(\"submatrix B = \", B)\n",
    "A[0:2,1:2] = 20*np.ones(B.shape)\n",
    "print(\"modified matrix A = \",A)\n",
    "\n",
    "# Selection of submatrix specified by row and column indices \n",
    "I = [0,-1]; J = [0,-1]\n",
    "C = A[I, :][:,J]\n",
    "print(\"submatrix C = \",C)\n",
    "D = 20*np.ones(C.shape)\n",
    "print(\"submatrix D = \",D)  \n",
    "# A[I, :][:,J] = D \n",
    "A[I, J] = D \n",
    "print(\"modified matrix A = \",A)"
   ]
  },
  {
   "cell_type": "markdown",
   "id": "ba6aefb4",
   "metadata": {},
   "source": [
    "### Matrix Created Using Poisson1D "
   ]
  },
  {
   "cell_type": "code",
   "execution_count": 8,
   "id": "e4daac11",
   "metadata": {},
   "outputs": [
    {
     "name": "stdout",
     "output_type": "stream",
     "text": [
      "original matrix A1 =  [[   1.    0.    0.    0.    0.    0.    0.    0.    0.    0.    0.]\n",
      " [-100.  200. -100.    0.    0.    0.    0.    0.    0.    0.    0.]\n",
      " [   0. -100.  200. -100.    0.    0.    0.    0.    0.    0.    0.]\n",
      " [   0.    0. -100.  200. -100.    0.    0.    0.    0.    0.    0.]\n",
      " [   0.    0.    0. -100.  200. -100.    0.    0.    0.    0.    0.]\n",
      " [   0.    0.    0.    0. -100.  200. -100.    0.    0.    0.    0.]\n",
      " [   0.    0.    0.    0.    0. -100.  200. -100.    0.    0.    0.]\n",
      " [   0.    0.    0.    0.    0.    0. -100.  200. -100.    0.    0.]\n",
      " [   0.    0.    0.    0.    0.    0.    0. -100.  200. -100.    0.]\n",
      " [   0.    0.    0.    0.    0.    0.    0.    0. -100.  200. -100.]\n",
      " [   0.    0.    0.    0.    0.    0.    0.    0.    0.    0.    1.]]\n",
      "submatrix B =  [[ 200. -100.    0.    0.    0.]\n",
      " [-100.  200. -100.    0.    0.]\n",
      " [   0. -100.  200. -100.    0.]\n",
      " [   0.    0. -100.  200. -100.]\n",
      " [   0.    0.    0. -100.  200.]]\n",
      "modified matrix A1 =  [[   1.    0.    0.    0.    0.    0.    0.    0.    0.    0.    0.]\n",
      " [-100.  200. -100.    0.    0.    0.    0.    0.    0.    0.    0.]\n",
      " [   0. -100.  200. -100.    0.    0.    0.    0.    0.    0.    0.]\n",
      " [   0.    0. -100.  200. -100.    0.    0.    0.    0.    0.    0.]\n",
      " [   0.    0.    0. -100.  200. -100.    0.    0.    0.    0.    0.]\n",
      " [   0.    0.    0.    0. -100.  200. -100.    0.    0.    0.    0.]\n",
      " [   0.    0.    0.    0.    0. -100.  200. -100.    0.    0.    0.]\n",
      " [   0.    0.    0.    0.    0.    0. -100.  200. -100.    0.    0.]\n",
      " [   0.    0.    0.    0.    0.    0.    0. -100.  200. -100.    0.]\n",
      " [   0.    0.    0.    0.    0.    0.    0.    0. -100.  200. -100.]\n",
      " [   0.    0.    0.    0.    0.    0.    0.    0.    0.    0.    1.]]\n"
     ]
    }
   ],
   "source": [
    "def poisson_1d(N):\n",
    "    h = 1/N; h2=h*h; \n",
    "    e = np.ones(N+1); \n",
    "    A = np.diag(-e[:-1],k=1)+np.diag(2*e)+np.diag(-e[:-1],k=-1); # tridiagonal matrix \n",
    "    A = (1/h2)*A; \n",
    "    A[0][0]=1; A[0][1]=0;     # handling left-most Dirchlet boundary condition \n",
    "    A[-1][-1]=1; A[-1][-2]=0; # handling right-most Dirchlet boundary condition \n",
    "    return A\n",
    "\n",
    "N = 10; Np1 = N+1;\n",
    "\n",
    "# define spatial mesh \n",
    "xvec = np.linspace(0,1,N+1)\n",
    "\n",
    "# define matrix \n",
    "A1 = poisson_1d(N) \n",
    "\n",
    "print(\"original matrix A1 = \", A1)\n",
    "\n",
    "I = [1,2,3,4,5]; J = [1,2,3,4,5];\n",
    "\n",
    "B = A1[I, :][:,J]\n",
    "print(\"submatrix B = \", B)\n",
    "A1[I, :][:,J] = 20*np.ones(B.shape)\n",
    "\n",
    "print(\"modified matrix A1 = \", A1) "
   ]
  },
  {
   "cell_type": "code",
   "execution_count": 14,
   "id": "48e7dfc6",
   "metadata": {},
   "outputs": [
    {
     "name": "stdout",
     "output_type": "stream",
     "text": [
      "[[ 5]\n",
      " [ 6]\n",
      " [ 9]\n",
      " [10]]\n",
      "[[ 0]\n",
      " [ 1]\n",
      " [ 2]\n",
      " [ 3]\n",
      " [ 4]\n",
      " [ 7]\n",
      " [ 8]\n",
      " [11]\n",
      " [12]\n",
      " [13]\n",
      " [14]\n",
      " [15]]\n"
     ]
    }
   ],
   "source": [
    "N = 3; Np1 = N+1; \n",
    "A = np.zeros((Np1,Np1)); A[1:-1,1:-1]=-1;\n",
    "Avec = np.reshape(A,Np1**2)\n",
    "Iint = np.argwhere(Avec == -1); Ibnd = np.argwhere(Avec == 0)\n",
    "print(Iint)\n",
    "print(Ibnd)"
   ]
  },
  {
   "cell_type": "code",
   "execution_count": 60,
   "id": "1195e6f7",
   "metadata": {},
   "outputs": [
    {
     "data": {
      "image/png": "[encoded data removed]",
      "text/plain": [
       "<Figure size 432x288 with 1 Axes>"
      ]
     },
     "metadata": {
      "needs_background": "light"
     },
     "output_type": "display_data"
    }
   ],
   "source": [
    "def poisson_1d(N):\n",
    "    h = 1/N; h2=h*h; \n",
    "    e = np.ones(N+1); \n",
    "    A = np.diag(-e[:-1],k=1)+np.diag(2*e)+np.diag(-e[:-1],k=-1); # tridiagonal matrix \n",
    "    A = (1/h2)*A; \n",
    "    A[0][0]=1; A[0][1]=0;     # handling left-most Dirchlet boundary condition \n",
    "    A[-1][-1]=1; A[-1][-2]=0; # handling right-most Dirchlet boundary condition \n",
    "    return A\n",
    "\n",
    "def mark_boundary(N):\n",
    "    A = np.zeros((Np1,Np1)); A[1:-1,1:-1]=-1;\n",
    "    Avec = np.reshape(A,Np1**2)\n",
    "    Iint = np.argwhere(Avec == -1); Ibnd = np.argwhere(Avec == 0)\n",
    "    return Iint, Ibnd\n",
    "\n",
    "N = 10; Np1 = N+1;\n",
    "\n",
    "# define spatial mesh \n",
    "xvec = np.linspace(0,1,N+1)\n",
    "\n",
    "# define matrix \n",
    "A1 = poisson_1d(N) \n",
    "Iint, Ibnd = mark_boundary(N)\n",
    "I1 = np.identity(Np1)\n",
    "A  = np.kron(A1,I1) + np.kron(I1,A1); \n",
    "\n",
    "# define rhs-vector \n",
    "xx, yy = np.meshgrid(xvec, xvec)\n",
    "ff = xx*(xx-1)*yy*(yy-1)\n",
    "fvec = np.reshape(ff,Np1**2)\n",
    "\n",
    "# handle the boundary conditions in A \n",
    "IJ = np.ix_(Ibnd[:,0],Ibnd[:,0]); A[IJ] = np.identity(Ibnd[:,0].size); \n",
    "IJ = np.ix_(Ibnd[:,0],Iint[:,0]); A[IJ] = np.zeros((Ibnd[:,0].size,Iint[:,0].size)) \n",
    "\n",
    "# solve linear system for u \n",
    "u = np.linalg.solve(A,fvec)\n",
    "\n",
    "uu = np.reshape(u, (Np1, Np1))\n",
    "\n",
    "h = plt.contourf(xvec,xvec,uu)"
   ]
  },
  {
   "cell_type": "code",
   "execution_count": 56,
   "id": "42ce78ff",
   "metadata": {},
   "outputs": [],
   "source": [
    "?np.reshape"
   ]
  },
  {
   "cell_type": "code",
   "execution_count": 55,
   "id": "4161f223",
   "metadata": {},
   "outputs": [
    {
     "name": "stdout",
     "output_type": "stream",
     "text": [
      "[1]\n",
      "(12, 1)\n"
     ]
    }
   ],
   "source": [
    "def poisson_1d(N):\n",
    "    h = 1/N; h2=h*h; \n",
    "    e = np.ones(N+1); \n",
    "    A = np.diag(-e[:-1],k=1)+np.diag(2*e)+np.diag(-e[:-1],k=-1); # tridiagonal matrix \n",
    "    A = (1/h2)*A; \n",
    "    A[0][0]=1; A[0][1]=0;     # handling left-most Dirchlet boundary condition \n",
    "    A[-1][-1]=1; A[-1][-2]=0; # handling right-most Dirchlet boundary condition \n",
    "    return A\n",
    "\n",
    "def mark_boundary(N):\n",
    "    A = np.zeros((Np1,Np1)); A[1:-1,1:-1]=-1;\n",
    "    Avec = np.reshape(A,Np1**2)\n",
    "    Iint = np.argwhere(Avec == -1); Ibnd = np.argwhere(Avec == 0)\n",
    "    return Iint, Ibnd\n",
    "\n",
    "N = 3; Np1 = N+1;\n",
    "\n",
    "# define spatial mesh \n",
    "xvec = np.linspace(0,1,N+1)\n",
    "\n",
    "# define matrix \n",
    "A1 = poisson_1d(N) \n",
    "Iint, Ibnd = mark_boundary(N)\n",
    "I1 = np.identity(Np1)\n",
    "A  = np.kron(A1,I1) + np.kron(I1,A1)\n",
    "print(Ibnd[1])\n",
    "print(A[Ibnd,Ibnd].shape)"
   ]
  },
  {
   "cell_type": "code",
   "execution_count": 59,
   "id": "8e606417",
   "metadata": {},
   "outputs": [],
   "source": [
    "?np.arange"
   ]
  },
  {
   "cell_type": "code",
   "execution_count": 76,
   "id": "a11626c2",
   "metadata": {},
   "outputs": [
    {
     "name": "stdout",
     "output_type": "stream",
     "text": [
      "[[ 0  1  2  3]\n",
      " [ 4  5  6  7]\n",
      " [ 8  9 10 11]\n",
      " [12 13 14 15]]\n",
      "[[0 1]\n",
      " [4 5]]\n",
      "[[ 0  1  2  3]\n",
      " [ 4  5  6  7]\n",
      " [12 13 14 15]]\n"
     ]
    }
   ],
   "source": [
    "# submatrix selection \n",
    "B = np.arange(16).reshape(4,4)\n",
    "print(B)\n",
    "\n",
    "D = B[0:2,0:2]\n",
    "print(D)\n",
    "\n",
    "I = [0,1,3]; J = [0,1,2,3]\n",
    "E = B[I, :][:,J]\n",
    "print(E)"
   ]
  },
  {
   "cell_type": "code",
   "execution_count": 56,
   "id": "4899ee8a",
   "metadata": {},
   "outputs": [
    {
     "data": {
      "image/png": "[encoded data removed]",
      "text/plain": [
       "<Figure size 432x288 with 1 Axes>"
      ]
     },
     "metadata": {
      "needs_background": "light"
     },
     "output_type": "display_data"
    }
   ],
   "source": [
    "# for the right-hand vector \n",
    "x = np.arange(-5, 5, 0.1)\n",
    "y = np.arange(-5, 5, 0.1)\n",
    "xx, yy = np.meshgrid(x, y, sparse=True)\n",
    "z = np.sin(xx**2 + yy**2) / (xx**2 + yy**2)\n",
    "h = plt.contourf(x,y,z)"
   ]
  },
  {
   "cell_type": "code",
   "execution_count": 90,
   "id": "3ab46631",
   "metadata": {},
   "outputs": [
    {
     "name": "stdout",
     "output_type": "stream",
     "text": [
      "Object `np.slice` not found.\n"
     ]
    }
   ],
   "source": [
    "?np.slice"
   ]
  },
  {
   "cell_type": "code",
   "execution_count": 114,
   "id": "dab21e84",
   "metadata": {},
   "outputs": [
    {
     "ename": "SyntaxError",
     "evalue": "invalid syntax (<ipython-input-114-b55870bed798>, line 1)",
     "output_type": "error",
     "traceback": [
      "\u001b[0;36m  File \u001b[0;32m\"<ipython-input-114-b55870bed798>\"\u001b[0;36m, line \u001b[0;32m1\u001b[0m\n\u001b[0;31m    print(0:3)\u001b[0m\n\u001b[0m           ^\u001b[0m\n\u001b[0;31mSyntaxError\u001b[0m\u001b[0;31m:\u001b[0m invalid syntax\n"
     ]
    }
   ],
   "source": [
    "print(0:3)"
   ]
  },
  {
   "cell_type": "code",
   "execution_count": null,
   "id": "6c4bb4c9",
   "metadata": {},
   "outputs": [],
   "source": []
  }
 ],
 "metadata": {
  "kernelspec": {
   "display_name": "Python 3",
   "language": "python",
   "name": "python3"
  },
  "language_info": {
   "codemirror_mode": {
    "name": "ipython",
    "version": 3
   },
   "file_extension": ".py",
   "mimetype": "text/x-python",
   "name": "python",
   "nbconvert_exporter": "python",
   "pygments_lexer": "ipython3",
   "version": "3.7.10"
  }
 },
 "nbformat": 4,
 "nbformat_minor": 5
}
