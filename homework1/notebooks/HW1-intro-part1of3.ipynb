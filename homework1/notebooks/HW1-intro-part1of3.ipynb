{
 "cells": [
  {
   "cell_type": "markdown",
   "metadata": {},
   "source": [
    "# Numerical Practicum: HW1 \n",
    "## Intro - Recap of Preliminaries"
   ]
  },
  {
   "cell_type": "code",
   "execution_count": 2,
   "metadata": {},
   "outputs": [
    {
     "name": "stdout",
     "output_type": "stream",
     "text": [
      "Succesfully imported numpy -- Version: 1.20.1\n",
      "Succesfully imported scipy -- Version: 1.6.2\n",
      "Succesfully imported matplotlib.pyplot\n",
      "Succesfully imported pandas -- Version: 1.2.4\n",
      "Succesfully imported scipy.optimize\n",
      "Succesfully imported solve_ivp\n"
     ]
    }
   ],
   "source": [
    "import numpy as np\n",
    "print(\"Succesfully imported %s -- Version: %s\"%(np.__name__,np.__version__))\n",
    "import scipy\n",
    "print(\"Succesfully imported %s -- Version: %s\"%(scipy.__name__,scipy.__version__))\n",
    "import matplotlib.pyplot as plt\n",
    "print(\"Succesfully imported %s\"%plt.__name__)\n",
    "import pandas as pd\n",
    "print(\"Succesfully imported %s -- Version: %s\"%(pd.__name__,pd.__version__))\n",
    "# from sympy import Function, dsolve, Eq, Derivative, symbols\n",
    "import sympy as sp\n",
    "from scipy import optimize\n",
    "print(\"Succesfully imported %s\"%optimize.__name__)\n",
    "import numpy as np\n",
    "from scipy.integrate import solve_ivp\n",
    "print(\"Succesfully imported %s\"%solve_ivp.__name__)"
   ]
  },
  {
   "cell_type": "markdown",
   "metadata": {},
   "source": [
    "Our goal: Recap of prerequisites. Prepare for forthcoming assignments. In particular \n",
    "1. spatial discretization of first and second order derivatives in space and time using the finite difference method: used in solving Poisson-Boltzmann equation and reaction-diffusion systems; \n",
    "2. time-integration methods using explicit and implicit time-integration methods: used in solving reaction-diffusion problems and chemical reactors; \n",
    "3. non-linear system solvers using derivative-based methods including techniques to compute the Jacobian: used in Poisson-Boltzmann equation; \n",
    "4. solving linear systems solvers using direct solution methods: used in data handling methods and large scale partial differential equation problems; "
   ]
  },
  {
   "cell_type": "markdown",
   "metadata": {},
   "source": [
    "Out-of-scope: to be defined; \n",
    "\n",
    "References:  \n",
    "1. to be inserted \n",
    "\n",
    "Tentative deadline for students to hand-in their assignment: September 30th; \n",
    "\n",
    "Formative assessment: Discussion of how assignment went after grading of assignments;"
   ]
  },
  {
   "cell_type": "markdown",
   "metadata": {},
   "source": [
    "## Section 1/6: Linear Boundary Value Problems on the Interval"
   ]
  },
  {
   "cell_type": "markdown",
   "metadata": {},
   "source": [
    "Assignment in various sections on solving boundary value problem numerically.\n",
    "1. Intro into this assignment - explain what the goals are; \n",
    "2. State problem to solve. Boundary value problem for the Poisson equation (diffusion with constant coefficient only) on the unit interval with Dirichlet and Neumann boundary conditions;\n",
    "3. Generate analytical reference solution. Use either by pen-and-paper or using symbolic computations;\n",
    "4. Generate numerical solution using built-in numerical method (e.g. shooting implemented in the scipy.integrate.solve_bvp() function) \n",
    "5. Discretize the problem in space. Introduce into finite difference method for the boundary value problem. Treatment of interior and boundary nodes. Linear system formulation: matrix and right-hand side vector. Make sure to provide sufficient references; \n",
    "6. Solve linear system using LU decomposition of the coefficient matrix; compare LU with explicit matrix inverse; \n",
    "7. Give physical interpretation of solution obtained (steady state of diffusion of drop of dye in water);  \n",
    "8. Add linear reaction term. Revisit all previous steps;"
   ]
  },
  {
   "cell_type": "markdown",
   "metadata": {},
   "source": [
    "### Problem statement \n",
    "\n",
    "We aim at solving the scalar linear  non-homogeneous diffusion equation on the interval $0 \\leq x \\leq 1$. Our objective is to numerically approximate the function $u(x)$ that is the solution of the following problem.\n",
    "\n",
    "\\begin{equation}\n",
    " - \\frac{\\text{d}^2u}{\\text{d}x^2} = f(x) \\tag{1}\n",
    "\\end{equation}\n",
    "\n",
    "where the terms in the left-hand side and right-hand will be referred to as the \"diffusion term\" and the \"source term\", respectively. \n",
    "\n",
    "Find the function $u(x)$ that is the solution of the differential equation written above, supplied with the following non-homogeneous Dirichlet boundary condition in $x = 0$ and homogeneous Dirichlet boundary condition in $x = 1$:\n",
    "\n",
    "\\begin{equation}\n",
    " u(x=0)=1  \\text{          and         }  u(x=1)=0 \\tag{2}\n",
    "\\end{equation}\n",
    "\n",
    "Neumann (and/or Robin) boundary conditions can be introduced as well. "
   ]
  },
  {
   "cell_type": "markdown",
   "metadata": {},
   "source": [
    "### Concepts Introduced in this Section\n",
    "1. linear ordinary differential equation; \n",
    "2. boundary value problem;\n",
    "3. finite difference discretization on a uniform mesh; \n",
    "4. linear system of equations ands its numerical solution; "
   ]
  },
  {
   "cell_type": "markdown",
   "metadata": {},
   "source": [
    "### Analytical Reference Solution \n",
    "The differential equation $(1)$ supplied with the boundary conditions $(2)$ can be solved analytically by integrating $f(x)$ with respect to $x$ twice and using the boundary conditions to determine the constants of integration. Choosing for instance $f(x) = x^2$, one finds the solution:\n",
    "\n",
    "\\begin{equation}\n",
    " u(x)= ... \\tag{3}\n",
    "\\end{equation}\n",
    "\n",
    "Plot the source function $f(x)$ and the solution $u(x)$ on the same graph. Use a left and right vertical axis. Clearly label axes. Insert a legend. \n",
    "\n",
    "#### Exercises\n",
    "1. choose another expression for $f(x)$, i.e., $f(x) = \\sin(\\pi \\,x)$; \n",
    "2. change value enforced by the Dirichlet boundary conditins; \n",
    "3. switch to Neumann boundary conditions; "
   ]
  },
  {
   "cell_type": "markdown",
   "metadata": {},
   "source": [
    "### Solve Symbolically using sympy\n",
    "\n",
    "Solve symbolically using the [sympy.dsolve() function](https://docs.sympy.org/latest/modules/solvers/ode.html). Insert reference to Python introduction. More. Same exercises as above."
   ]
  },
  {
   "cell_type": "code",
   "execution_count": 3,
   "metadata": {},
   "outputs": [
    {
     "name": "stdout",
     "output_type": "stream",
     "text": [
      "[0.  0.5 1. ]\n"
     ]
    }
   ],
   "source": [
    "x = np.linspace(0,1,3)\n",
    "print(x)"
   ]
  },
  {
   "cell_type": "code",
   "execution_count": 4,
   "metadata": {},
   "outputs": [
    {
     "name": "stdout",
     "output_type": "stream",
     "text": [
      "The computed solution is -x**4/12 + x/12\n"
     ]
    },
    {
     "data": {
      "image/png": "[encoded data removed]",
      "text/plain": [
       "<Figure size 432x288 with 1 Axes>"
      ]
     },
     "metadata": {
      "needs_background": "light"
     },
     "output_type": "display_data"
    }
   ],
   "source": [
    "#..define symbol x (spatial coordinate), function f (source) and function u (unknown)\n",
    "x = sp.symbols('x')\n",
    "f = sp.Function(\"f\")\n",
    "u = sp.Function(\"u\") \n",
    "\n",
    "#..define the expression for the right-hand side function \n",
    "f = x**2 \n",
    "\n",
    "#..solve the differential equation - u''(x) = f(x) + BC symbolically\n",
    "computed = sp.dsolve(sp.Derivative(u(x), x, x) + f,ics={u(0):0,u(1):0})\n",
    "\n",
    "#..print the expression for the symbolic solution \n",
    "print(\"The computed solution is\", computed.rhs)\n",
    "\n",
    "#..to switch from symbolic to numerical computation\n",
    "#..we need to perform a \"lambdification\" of the right-hand side of the solution\n",
    "#..the function created accepts vector arguments \n",
    "computed_sol = sp.lambdify(x, computed.rhs)\n",
    "\n",
    "#..sample the lambda expression for the computed solution \n",
    "N = 100; Np1 = N+1;  \n",
    "xvec = np.linspace(0,1,Np1)\n",
    "computed_sol_vec = computed_sol(xvec)\n",
    "\n",
    "#..plot the computed solution \n",
    "plt.plot(xvec,computed_sol_vec,label='computed u(x)')\n",
    "plt.xlabel('x')\n",
    "plt.ylabel('u(x)')\n",
    "plt.legend(loc='best')\n",
    "plt.grid()\n",
    "plt.show()"
   ]
  },
  {
   "cell_type": "markdown",
   "metadata": {},
   "source": [
    "### Solve Numerically Using Build-In Function in Scipy\n",
    "\n",
    "Solve numerically using the [scipy.integrate.solve_bvp() function](https://docs.scipy.org/doc/scipy/reference/generated/scipy.integrate.solve_bvp.html). This function implements a shooting method. More explanation on the rhs-function. "
   ]
  },
  {
   "cell_type": "code",
   "execution_count": 17,
   "metadata": {},
   "outputs": [
    {
     "data": {
      "image/png": "[encoded data removed]",
      "text/plain": [
       "<Figure size 432x288 with 1 Axes>"
      ]
     },
     "metadata": {
      "needs_background": "light"
     },
     "output_type": "display_data"
    }
   ],
   "source": [
    "def righthandsidefunction(x, u):\n",
    "    return np.vstack((u[1], -x**2))\n",
    "\n",
    "#def boundaryconditions(ua, ub):\n",
    "#    return np.array([ua[0], ub[0]])\n",
    "\n",
    "def boundaryconditions(ua, ub):\n",
    "    return np.array([ua[0]-1, ub[1]-0])\n",
    "\n",
    "N = 100; Np1 = N+1;\n",
    "xvec = np.linspace(0,1,Np1)\n",
    "\n",
    "ustart = np.zeros((2, xvec.size))\n",
    "\n",
    "computed = scipy.integrate.solve_bvp(righthandsidefunction, boundaryconditions, xvec, ustart)\n",
    "\n",
    "plt.plot(xvec,computed.sol(xvec)[0],label='computed u(x)')\n",
    "plt.xlabel('x')\n",
    "plt.ylabel('u(x)')\n",
    "plt.legend(loc='best')\n",
    "plt.grid()\n",
    "plt.show()"
   ]
  },
  {
   "cell_type": "markdown",
   "metadata": {},
   "source": [
    "Again, we solve using the solve_bvp() function, this time elaborating on the use of the boundary conditions. "
   ]
  },
  {
   "cell_type": "code",
   "execution_count": 24,
   "metadata": {},
   "outputs": [
    {
     "data": {
      "text/plain": [
       "<matplotlib.legend.Legend at 0x7feccbed5f50>"
      ]
     },
     "execution_count": 24,
     "metadata": {},
     "output_type": "execute_result"
    },
    {
     "data": {
      "image/png": "[encoded data removed]",
      "text/plain": [
       "<Figure size 432x288 with 2 Axes>"
      ]
     },
     "metadata": {
      "needs_background": "light"
     },
     "output_type": "display_data"
    }
   ],
   "source": [
    "def righthandsidefunction(x, u):\n",
    "    return np.vstack((u[1], -x**2))\n",
    "\n",
    "# obverse the use of ua[0] and ub[0] to set the value of u at the left and right end point  \n",
    "def bndcond_dirichlet_dirichlet(ua, ub):\n",
    "    return np.array([ua[0]-1, ub[0]-2])\n",
    "\n",
    "# obverse the use of ub[1] to set the value of du/dx at the right end point  \n",
    "def bndcond_dirichlet_neumann(ua, ub):\n",
    "    return np.array([ua[0]-1, ub[1]])\n",
    "\n",
    "N = 100; Np1 = N+1;\n",
    "xvec = np.linspace(0,1,Np1)\n",
    "\n",
    "ustart = np.zeros((2, xvec.size))\n",
    "\n",
    "computed1 = scipy.integrate.solve_bvp(righthandsidefunction, bndcond_dirichlet_dirichlet, xvec, ustart)\n",
    "computed2 = scipy.integrate.solve_bvp(righthandsidefunction, bndcond_dirichlet_neumann, xvec, ustart)\n",
    "\n",
    "#..plot the computed solutions \n",
    "fig, axs = plt.subplots(1, 2) \n",
    "axs[0].plot(xvec, computed1.sol(xvec)[0], label='Dirichlet-Dirichlet')\n",
    "axs[0].set_xlabel('x')\n",
    "axs[0].set_ylabel('u(x)')\n",
    "axs[0].legend(loc='best')\n",
    "axs[0].grid()\n",
    "axs[1].plot(xvec, computed2.sol(xvec)[0], label='Dirichlet-Neumann')\n",
    "axs[1].grid()\n",
    "axs[1].set_xlabel('x')\n",
    "axs[1].set_ylabel('u(x)')\n",
    "axs[1].legend(loc='best')"
   ]
  },
  {
   "cell_type": "markdown",
   "metadata": {},
   "source": [
    "### Solving a Linear System in Scipy \n",
    "Put example here. "
   ]
  },
  {
   "cell_type": "markdown",
   "metadata": {},
   "source": [
    "### Solve Numerically using Home-Brewed Finite Difference Method \n",
    "Next we proceed with the finite difference approximation.\n",
    "\n",
    "#### Mesh \n",
    "Assume that the interval $0 < x < 1$ is discretized by an uniform mesh consisting of $N$ elements with mesh width $h = 1=N$ and vertices $x_{i} = (i-1)h$, where $i$ runs from 1 to $N + 1$. This enumeration includes the end points of the interval, that is, $x_{1} = 0$ and $x_{N+1} = 1$. The grid nodes can then be denoted by\n",
    "\n",
    "\\begin{equation}\n",
    " G_h=\\Bigg({x_{i}|x_{i}=(i-1)h; h=\\frac{1}{N}, 1\\leq i \\leq N+1}\\Bigg) \\tag{4}\n",
    "\\end{equation}\n",
    "\n",
    "\n",
    "Let $u^{h}$ denote the vector with $N+1$ components such its $i$-th component $u^{h}_{i}$ approximates the exact solution $u(x)$ in the $i$-th node.\n",
    "\n",
    "#### Discretization of the diffusion term in the interior nodes\n",
    "The differential equation holds in particular for all of the internal nodes, that is, we have that\n",
    "\n",
    "\\begin{equation}\n",
    " -\\frac{\\text{d}^2u}{\\text{d}x^2}\\Bigg|_{x=x_{i}} = f(x=x_i) \\text{  for all  } 2\\leq i \\leq N    \\tag{5}\n",
    "\\end{equation}\n",
    "\n",
    "\n",
    "To approximate the diffusion term, we proceed as in the tutorial and use a finite difference formula to discretize the second derivative $\\frac{\\text{d}^2u}{\\text{d}x^2}\\Bigg|_{x=x_{i}} = u''(x_{i})$ as follows\n",
    "\n",
    "\\begin{equation}\n",
    " u''(x_{i})\\approx\\frac{u'(x_{i}+h/2)-u'(x_{i}-h/2)}{h}    \\tag{6}\n",
    "\\end{equation}\n",
    "\n",
    "\n",
    "\\begin{equation}\n",
    " u''(x_{i})\\approx\\frac{u(x_{i+1})-2u(x_{i})+u(x_{i-1})}{h^2}    \n",
    "\\end{equation}\n",
    "\n",
    "(Using Taylor polynomials it can be shown that the local truncation error is of second order in $h$). The finite difference discretization thus leads to the following stencil for the approximation of $-ε\\frac{\\text{d}^2u}{\\text{d}x^2}\\Bigg|_{x=x_{i}}$ (beware of the minus-sign and the factor $-ε$)\n",
    "\n",
    "\\begin{equation}\n",
    " \\frac{1}{h^2}\\Bigg[\\begin{matrix}-ε &  2ε & -ε\\\\ x_{i-1} & x_{i} & x_{i+1} \\end{matrix}\\Bigg]       \\text{[central approximation for difussion]} \\tag{7}\n",
    "\\end{equation}\n",
    "\n",
    "\n",
    "This stencil implies that each node $x_{i}$ is coupled to its left ($x_{i-1}$) and right neighbour ($x_{i+1}$) with a weight of $-\\frac{ε}{h^2}$.\n",
    "\n",
    "\n",
    "#### Discretization of the convection term in the interior nodes \n",
    "\n",
    "The convective term can be approximated in two ways. The first option is to use a central approximation on neighboring nodes\n",
    "\n",
    "\\begin{equation}\n",
    " u'(x_{i})\\approx\\frac{u(x_{i+1})-u(x_{i-1})}{2h}   \\tag{8} \n",
    "\\end{equation}\n",
    "\n",
    "leading to the stencil\n",
    "\n",
    "\\begin{equation}\n",
    " \\frac{1}{2h}\\Bigg[\\begin{matrix}-1 &  0 & 1\\\\ x_{i-1} & x_{i} & x_{i+1} \\end{matrix}\\Bigg]       \\text{[central approximation for convection]} \\tag{9}\n",
    "\\end{equation}\n",
    "\n",
    "\n",
    "(The local approximation error of this scheme is of second order in $h$. This second order comes however at an expensive that we discover later in this assignment.) The second option is to approximate the first order\n",
    "derivative using the backward finite difference approximation\n",
    "\n",
    "\n",
    "\\begin{equation}\n",
    " u'(x_{i})\\approx\\frac{u(x_{i})-u(x_{i-1})}{h}   \\tag{10} \n",
    "\\end{equation}\n",
    "\n",
    "In this approximation information in $x_{i-1}$ is used to approximate the derivative in $x_{i}$. In this exercise the convective term propagates information from the left to the right. The node $x_{i-1}$  thus lies upstream from $x_{i}$. The above finite difference approximation is therefore referred to as the upwind approximation. This approximation leads to the stencil\n",
    "\n",
    "\n",
    "\\begin{equation}\n",
    " \\frac{1}{h}\\Bigg[\\begin{matrix}-1 & 1 & 0\\\\ x_{i-1} & x_{i} & x_{i+1} \\end{matrix}\\Bigg]       \\text{[upwind approximation for convection]} \\tag{11}\n",
    "\\end{equation}\n",
    "\n",
    "(The local approximation of this scheme is only of first order in h. Despite this lower order of accuracy, this scheme has a distinct advantage that we will discover later in this assignment.) The stencil of the diffusive and the convective term should be added to obtain the stencil for the coefficient matrix $A^h$ corresponding to the finite difference scheme.\n",
    "\n",
    "#### Discretization in the left and right boundary condition \n",
    "Verify that the Dirichlet boundary condition in the left and right end point can be enforced by requiring that\n",
    "\n",
    "\\begin{equation}\n",
    " u_{1}=1 \\text{          and that         }       u_{N+1}=0  \\tag{12}\n",
    "\\end{equation}\n",
    "\n",
    "The finite difference stencil in the left and right end point thus reduces to\n",
    "\n",
    "\\begin{equation}\n",
    " \\Bigg[\\begin{matrix}1 & 0 & 0\\\\ x_{1} & x_{2} & x_{3} \\end{matrix}\\Bigg]   \\text{          and         }    \\Bigg[\\begin{matrix}0 & 0 & 1\\\\ x_{N-1} & x_{N} & x_{N+1} \\end{matrix}\\Bigg] \\tag{13}\n",
    "\\end{equation}\n",
    "\n",
    "The non-homogeneous contribution in the left boundary condition (the term equal to 1) will be placed in the first component of the right-hand vector. The other components of this right-hand vector will remain equal to one."
   ]
  },
  {
   "cell_type": "markdown",
   "metadata": {},
   "source": [
    "#### Exercise\n",
    "\n",
    "Assume $h = 1/3$ (and thus $N=3$) and $ε = 0.5$. Assume that the central difference scheme $(8)$ is used to approximate the convective term in $(1)$. Determine the size of the global matrix $A^h$ and the global right-hand vector $f$. Give all the elements of this matrix and vector with pen (or pencil) and paper."
   ]
  },
  {
   "cell_type": "code",
   "execution_count": 36,
   "metadata": {},
   "outputs": [
    {
     "name": "stdout",
     "output_type": "stream",
     "text": [
      "Matrix Ah is [[ 1.  0.  0.  0.]\n",
      " [-6.  9. -3.  0.]\n",
      " [ 0. -6.  9. -3.]\n",
      " [ 0.  0.  0.  1.]]\n",
      "Global right hand vector is [[1]\n",
      " [0]\n",
      " [0]\n",
      " [0]]\n"
     ]
    }
   ],
   "source": [
    "#4x4 matrix\n",
    "#diffusie matrix en convectie matrix opstellen en die bij elkaar optellen\n",
    "#stencils geven aan hoe de consstructie eruit zou moeten zien maar het zijn niet the matrices zelf\n",
    "\n",
    "h = 1/3\n",
    "A = np.array([[1,0,0,0],\n",
    "             [-1/(2*(h**2)) - 1/(2*h), 1/h**2, -1/(2*(h**2)) + 1/(2*h), 0],\n",
    "             [0, -1/(2*(h**2)) - 1/(2*h), 1/h**2, -1/(2*(h**2)) + 1/(2*h)], \n",
    "             [0,0,0,1]])\n",
    "print ('Matrix Ah is',A)\n",
    "\n",
    "f = np.array([[1],[0],[0],[0]])\n",
    "print ('Global right hand vector is', f)"
   ]
  },
  {
   "cell_type": "code",
   "execution_count": 7,
   "metadata": {},
   "outputs": [
    {
     "data": {
      "image/png": "[encoded data removed]",
      "text/plain": [
       "<Figure size 432x288 with 1 Axes>"
      ]
     },
     "metadata": {
      "needs_background": "light"
     },
     "output_type": "display_data"
    }
   ],
   "source": [
    "def poisson_1d(N):\n",
    "    h = 1/N; h2=h*h; \n",
    "    e = np.ones(N+1); \n",
    "    A = np.diag(-e[:-1],k=1)+np.diag(2*e)+np.diag(-e[:-1],k=-1); # tridiagonal matrix \n",
    "    A = (1/h2)*A; \n",
    "    A[0][0]=1; A[0][1]=0;     # handling left-most Dirchlet boundary condition \n",
    "    A[-1][-1]=1; A[-1][-2]=0; # handling right-most Dirchlet boundary condition \n",
    "    return A\n",
    "\n",
    "N = 100; Np1 = N+1;\n",
    "\n",
    "# define spatial mesh \n",
    "xvec = np.linspace(0,1,N+1)\n",
    "\n",
    "# define matrix \n",
    "A = poisson_1d(N)\n",
    "\n",
    "# define right-hand side vector \n",
    "fvec = xvec**2\n",
    "fvec[0] = 0; fvec[-1] = 0;\n",
    "\n",
    "# solve linear system for u \n",
    "u = np.linalg.solve(A,fvec)\n",
    "\n",
    "plt.figure()\n",
    "plt.plot(xvec, u, label='Computed solution')\n",
    "plt.xlabel('x')\n",
    "plt.ylabel('u(x)')\n",
    "plt.grid()\n",
    "plt.show()"
   ]
  },
  {
   "cell_type": "markdown",
   "metadata": {},
   "source": [
    "### Application in computational chemical engineering: Diffusion\n",
    "Graph u and f on the same plot with different vertical axes. "
   ]
  },
  {
   "cell_type": "code",
   "execution_count": 10,
   "metadata": {},
   "outputs": [
    {
     "data": {
      "image/png": "[encoded data removed]",
      "text/plain": [
       "<Figure size 432x288 with 1 Axes>"
      ]
     },
     "metadata": {
      "needs_background": "light"
     },
     "output_type": "display_data"
    }
   ],
   "source": [
    "def poisson_1d(N):\n",
    "    h = 1/N; h2=h*h; \n",
    "    e = np.ones(N+1); \n",
    "    A = np.diag(-e[:-1],k=1)+np.diag(2*e)+np.diag(-e[:-1],k=-1); # tridiagonal matrix \n",
    "    A = (1/h2)*A; \n",
    "    A[0][0]=1; A[0][1]=0;     # handling left-most Dirchlet boundary condition \n",
    "    A[-1][-1]=1; A[-1][-2]=0; # handling right-most Dirchlet boundary condition \n",
    "    return A\n",
    "\n",
    "N = 100; Np1 = N+1;\n",
    "\n",
    "# define spatial mesh \n",
    "xvec = np.linspace(0,1,Np1)\n",
    "\n",
    "# define matrix \n",
    "A = poisson_1d(N)\n",
    "\n",
    "# define right-hand side vector \n",
    "fvec = np.exp(-(xvec-.4)**2/1e-3)\n",
    "fvec[0] = 0; fvec[-1] = 0;\n",
    "\n",
    "# solve linear system for u \n",
    "u = np.linalg.solve(A,fvec)\n",
    "\n",
    "plt.figure()\n",
    "plt.plot(xvec, u, label='Computed solution') \n",
    "plt.plot(xvec, fvec, label='Computed solution') \n",
    "plt.xlabel('x')\n",
    "plt.ylabel('u(x)')\n",
    "plt.grid()\n",
    "plt.show()"
   ]
  },
  {
   "cell_type": "markdown",
   "metadata": {},
   "source": [
    "#### Exercises\n",
    "1. change location, amplitude and spread of the source;\n",
    "2. add more sources; \n",
    "3. add sources and sinks; "
   ]
  },
  {
   "cell_type": "markdown",
   "metadata": {},
   "source": [
    "### References:  \n",
    "1. [One-Dimensional Finite Difference Method for BVP in Python (elementary, online book)](https://pythonnumericalmethods.berkeley.edu/notebooks/chapter23.03-Finite-Difference-Method.html)\n",
    "2. [Langtangen and Svinge: Finite Difference Computing with PDE (advanced, book)](https://library.oapen.org/bitstream/id/47d73f10-e062-45a7-8760-37b3aade3293/1002196.pdf) \n",
    "3. [LeVeque: Finite Difference Methods for Partial Differential Equations (advanced, notes)](https://edisciplinas.usp.br/pluginfile.php/41896/mod_resource/content/1/LeVeque%20Finite%20Diff.pdf) "
   ]
  },
  {
   "cell_type": "markdown",
   "metadata": {},
   "source": [
    "## Section 2/6: Extension to Non-Linear Boundary Value Problems on the Interval"
   ]
  },
  {
   "cell_type": "markdown",
   "metadata": {},
   "source": [
    "1. Add non-linear reaction term. Explain non-linear scalar problem with references. What is a good example? Revisit previous steps. Recognize the problem this time to be non-linear. Identify problem as a root-finding problem in N dimensions. Compute the Jacobian. Solve non-linear system using Newton-Raphson method. Compare with reference solution. Give physical interpretation; "
   ]
  },
  {
   "cell_type": "markdown",
   "metadata": {},
   "source": [
    "### Problem Formulation "
   ]
  },
  {
   "cell_type": "markdown",
   "metadata": {},
   "source": [
    "### Concepts Introduced "
   ]
  },
  {
   "cell_type": "markdown",
   "metadata": {},
   "source": [
    "### Linear Problem: Solve Numerically Using Scipy\n",
    "Solve numerically using the [scipy.integrate.solve_bvp() function](https://docs.scipy.org/doc/scipy/reference/generated/scipy.integrate.solve_bvp.html). This function implements a shooting method. More explanation on the rhs-function. "
   ]
  },
  {
   "cell_type": "code",
   "execution_count": 1,
   "metadata": {},
   "outputs": [
    {
     "ename": "NameError",
     "evalue": "name 'np' is not defined",
     "output_type": "error",
     "traceback": [
      "\u001b[0;31m---------------------------------------------------------------------------\u001b[0m",
      "\u001b[0;31mNameError\u001b[0m                                 Traceback (most recent call last)",
      "\u001b[0;32m<ipython-input-1-91bd19640b76>\u001b[0m in \u001b[0;36m<module>\u001b[0;34m\u001b[0m\n\u001b[1;32m      8\u001b[0m \u001b[0;34m\u001b[0m\u001b[0m\n\u001b[1;32m      9\u001b[0m \u001b[0;31m# define spatial mesh\u001b[0m\u001b[0;34m\u001b[0m\u001b[0;34m\u001b[0m\u001b[0;34m\u001b[0m\u001b[0m\n\u001b[0;32m---> 10\u001b[0;31m \u001b[0mxvec\u001b[0m \u001b[0;34m=\u001b[0m \u001b[0mnp\u001b[0m\u001b[0;34m.\u001b[0m\u001b[0mlinspace\u001b[0m\u001b[0;34m(\u001b[0m\u001b[0;36m0\u001b[0m\u001b[0;34m,\u001b[0m\u001b[0;36m1\u001b[0m\u001b[0;34m,\u001b[0m\u001b[0mNp1\u001b[0m\u001b[0;34m)\u001b[0m\u001b[0;34m\u001b[0m\u001b[0;34m\u001b[0m\u001b[0m\n\u001b[0m\u001b[1;32m     11\u001b[0m \u001b[0;34m\u001b[0m\u001b[0m\n\u001b[1;32m     12\u001b[0m \u001b[0mustart\u001b[0m \u001b[0;34m=\u001b[0m \u001b[0mnp\u001b[0m\u001b[0;34m.\u001b[0m\u001b[0mzeros\u001b[0m\u001b[0;34m(\u001b[0m\u001b[0;34m(\u001b[0m\u001b[0;36m2\u001b[0m\u001b[0;34m,\u001b[0m \u001b[0mxvec\u001b[0m\u001b[0;34m.\u001b[0m\u001b[0msize\u001b[0m\u001b[0;34m)\u001b[0m\u001b[0;34m)\u001b[0m\u001b[0;34m\u001b[0m\u001b[0;34m\u001b[0m\u001b[0m\n",
      "\u001b[0;31mNameError\u001b[0m: name 'np' is not defined"
     ]
    }
   ],
   "source": [
    "def righthandsidefunction(x, u):\n",
    "    return np.vstack((u[1], -x**2))\n",
    "\n",
    "def boundaryconditions(ua, ub):\n",
    "    return np.array([ua[0], ub[0]])\n",
    "\n",
    "N = 100; Np1 = N+1;\n",
    "\n",
    "# define spatial mesh \n",
    "xvec = np.linspace(0,1,Np1)\n",
    "\n",
    "ustart = np.zeros((2, xvec.size))\n",
    "\n",
    "computed = scipy.integrate.solve_bvp(righthandsidefunction, boundaryconditions, xvec, ustart)\n",
    "\n",
    "plt.plot(xvec,computed.sol(xvec)[0],label='computed u(x)')\n",
    "plt.xlabel('x')\n",
    "plt.ylabel('u(x)')\n",
    "plt.legend(loc='best')\n",
    "plt.grid()\n",
    "plt.show()"
   ]
  },
  {
   "cell_type": "markdown",
   "metadata": {},
   "source": [
    "### Solve Non-Linear Problem in One Variable Using SciPy \n",
    "Put tutorial example here. "
   ]
  },
  {
   "cell_type": "markdown",
   "metadata": {},
   "source": [
    "### Linear Problem: Solve Numerically using Home-Brewed Finite Difference Method"
   ]
  },
  {
   "cell_type": "markdown",
   "metadata": {},
   "source": [
    "We discretize using finite differences and solve the non-linear problem using a Newton method implemented in [scipy.optimize.root](https://docs.scipy.org/doc/scipy/reference/generated/scipy.optimize.root.html#scipy.optimize.root). Our goal is to arrive at a solution method that allows to treat two and three-dimensional problems. For linear systems, we pass matrix and rgh vector to solve function. For non-linear problems, we pass function for residual and its Jacobian to the solve function.  "
   ]
  },
  {
   "cell_type": "code",
   "execution_count": 57,
   "metadata": {},
   "outputs": [
    {
     "name": "stdout",
     "output_type": "stream",
     "text": [
      "[1. 1. 1.]\n"
     ]
    }
   ],
   "source": [
    "# sandbox \n",
    "t = np.ones(3)\n",
    "print(t)"
   ]
  },
  {
   "cell_type": "code",
   "execution_count": 75,
   "metadata": {},
   "outputs": [
    {
     "name": "stdout",
     "output_type": "stream",
     "text": [
      "  number of function evaluation =  205\n"
     ]
    },
    {
     "name": "stderr",
     "output_type": "stream",
     "text": [
      "/opt/anaconda3/lib/python3.7/site-packages/scipy/optimize/_root.py:162: RuntimeWarning: Method lm does not accept callback.\n",
      "  RuntimeWarning)\n"
     ]
    },
    {
     "data": {
      "image/png": "[encoded data removed]",
      "text/plain": [
       "<Figure size 432x288 with 1 Axes>"
      ]
     },
     "metadata": {
      "needs_background": "light"
     },
     "output_type": "display_data"
    }
   ],
   "source": [
    "def poisson_1d(N):\n",
    "    h = 1/N; h2=h*h; \n",
    "    e = np.ones(N+1); \n",
    "    A = np.diag(-e[:-1],k=1)+np.diag(2*e)+np.diag(-e[:-1],k=-1); # tridiagonal matrix \n",
    "    A = (1/h2)*A; \n",
    "    A[0][0]=1; A[0][1]=0;     # handling left-most Dirchlet boundary condition \n",
    "    A[-1][-1]=1; A[-1][-2]=0; # handling right-most Dirchlet boundary condition \n",
    "    return A\n",
    "\n",
    "def residual(u,A,fvec):\n",
    "    r = A@u - fvec \n",
    "    return r \n",
    "\n",
    "def residualprime(u,A,fvec): \n",
    "    return A\n",
    "\n",
    "iter = 0; \n",
    "\n",
    "def callbackFunc(u,r):\n",
    "    global iter\n",
    "    print('{0:4d} {1: 3.6e}'.format(iter, np.linalg.norm(r)))\n",
    "    iter += 1\n",
    "    \n",
    "N = 100; Np1 = N+1;\n",
    "\n",
    "# define spatial mesh \n",
    "xvec = np.linspace(0,1,Np1)\n",
    "\n",
    "# define matrix \n",
    "A = poisson_1d(N)\n",
    "\n",
    "# define right-hand side vector \n",
    "fvec = np.exp(-(xvec-.4)**2/1e-3)\n",
    "fvec[0] = 0; fvec[-1] = 0;\n",
    "\n",
    "# set initial guess: should the initial guess satisfy the boundary conditions?  \n",
    "ustart = np.ones(Np1);\n",
    "\n",
    "t = A@ustart \n",
    "\n",
    "# seperately test call to the residual function \n",
    "r = residual(ustart,A,fvec)\n",
    "\n",
    "# solve non-linear problem\n",
    "#computed = optimize.root(residual,ustart,args=(A,fvec),jac=residualprime, method='lm', callback=callbackFunc)\n",
    "computed = optimize.root(residual,ustart,args=(A,fvec),jac=False, method='lm', callback=callbackFunc)\n",
    "print('  number of function evaluation = ', computed.nfev)\n",
    "#print('  number of jacobian evaluation = ', computed.njev)\n",
    "\n",
    "plt.plot(xvec,computed.x,label='computed u(x)')\n",
    "plt.xlabel('x')\n",
    "plt.ylabel('u(x)')\n",
    "plt.legend(loc='best')\n",
    "plt.grid()\n",
    "plt.show()"
   ]
  },
  {
   "cell_type": "code",
   "execution_count": 66,
   "metadata": {},
   "outputs": [
    {
     "data": {
      "text/plain": [
       "dict_keys(['x', 'message', 'status', 'success', 'cov_x', 'fun', 'nfev', 'njev', 'fjac', 'ipvt', 'qtf'])"
      ]
     },
     "execution_count": 66,
     "metadata": {},
     "output_type": "execute_result"
    }
   ],
   "source": [
    "computed.keys()"
   ]
  },
  {
   "cell_type": "code",
   "execution_count": 48,
   "metadata": {},
   "outputs": [
    {
     "name": "stdout",
     "output_type": "stream",
     "text": [
      "[-1.00000991e+04  2.00295989e+04 -1.00002109e+04 ... -5.03012760e+02\n",
      "  5.25253991e+02 -7.07863040e-01]\n"
     ]
    }
   ],
   "source": [
    "computed.keys()\n",
    "print(computed.r)"
   ]
  },
  {
   "cell_type": "markdown",
   "metadata": {},
   "source": [
    "References:  \n",
    "1. [Newton's Method in Python](https://pythonnumericalmethods.berkeley.edu/notebooks/chapter19.04-Newton-Raphson-Method.html)\n",
    "2. [Newton's Method on wiki](https://en.wikipedia.org/wiki/Newton%27s_method)\n",
    "3. [Jacobian on wiki](https://en.wikipedia.org/wiki/Jacobian_matrix_and_determinant)"
   ]
  },
  {
   "cell_type": "code",
   "execution_count": null,
   "metadata": {},
   "outputs": [],
   "source": []
  }
 ],
 "metadata": {
  "kernelspec": {
   "display_name": "Python 3",
   "language": "python",
   "name": "python3"
  },
  "language_info": {
   "codemirror_mode": {
    "name": "ipython",
    "version": 3
   },
   "file_extension": ".py",
   "mimetype": "text/x-python",
   "name": "python",
   "nbconvert_exporter": "python",
   "pygments_lexer": "ipython3",
   "version": "3.7.10"
  }
 },
 "nbformat": 4,
 "nbformat_minor": 4
}
