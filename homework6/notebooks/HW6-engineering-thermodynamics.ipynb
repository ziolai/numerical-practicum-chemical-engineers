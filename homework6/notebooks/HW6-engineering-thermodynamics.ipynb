{
 "cells": [
  {
   "cell_type": "markdown",
   "id": "8097202d",
   "metadata": {},
   "source": [
    "# HW6: Engineering Thermodynamics "
   ]
  },
  {
   "cell_type": "markdown",
   "id": "48616c9f",
   "metadata": {},
   "source": [
    "## Import Libraries"
   ]
  },
  {
   "cell_type": "code",
   "execution_count": 1,
   "id": "c6f395c0",
   "metadata": {},
   "outputs": [
    {
     "name": "stdout",
     "output_type": "stream",
     "text": [
      "Succesfully imported numpy -- Version: 1.21.6\n",
      "Succesfully imported scipy -- Version: 1.7.3\n",
      "Succesfully imported matplotlib.pyplot\n",
      "Succesfully imported pandas -- Version: 1.2.4\n",
      "Succesfully imported sympy -- Version: 1.8\n",
      "Succesfully imported scipy.optimize\n",
      "Succesfully imported fsolve\n",
      "Succesfully imported find_peaks\n",
      "Succesfully imported orth\n",
      "Succesfully imported odeint\n"
     ]
    }
   ],
   "source": [
    "import numpy as np\n",
    "print(\"Succesfully imported %s -- Version: %s\"%(np.__name__,np.__version__))\n",
    "import scipy\n",
    "print(\"Succesfully imported %s -- Version: %s\"%(scipy.__name__,scipy.__version__))\n",
    "import matplotlib.pyplot as plt\n",
    "print(\"Succesfully imported %s\"%plt.__name__)\n",
    "import pandas as pd\n",
    "print(\"Succesfully imported %s -- Version: %s\"%(pd.__name__,pd.__version__))\n",
    "import sympy as sym \n",
    "print(\"Succesfully imported %s -- Version: %s\"%(sym.__name__,sym.__version__))\n",
    "from scipy import optimize\n",
    "print(\"Succesfully imported %s\"%optimize.__name__)\n",
    "from scipy.optimize import fsolve\n",
    "print(\"Succesfully imported %s\"%fsolve.__name__)\n",
    "from scipy.signal import find_peaks\n",
    "print(\"Succesfully imported %s\"%find_peaks.__name__)\n",
    "from scipy.linalg import orth\n",
    "print(\"Succesfully imported %s\"%orth.__name__)\n",
    "from scipy.integrate import odeint\n",
    "print(\"Succesfully imported %s\"%odeint.__name__)"
   ]
  },
  {
   "cell_type": "markdown",
   "id": "9af9cf1a",
   "metadata": {},
   "source": [
    "shape of measured and simulated data do not match.  "
   ]
  },
  {
   "cell_type": "markdown",
   "id": "84348980",
   "metadata": {},
   "source": [
    "## Section 1/: Introduction "
   ]
  },
  {
   "cell_type": "markdown",
   "id": "39d86584",
   "metadata": {},
   "source": [
    "This assignment will be deployed in week 5 - 6 of Q2 \n",
    "\n",
    "This assignment consists of the following four parts:   \n",
    "1. theoretical part; derivation of equations with final answer; (input from Anna in Latex form); \n",
    "2. material copper: model for C_V from data; at constant volume we have that C_V = C_P; \n",
    "3. somnething intermediate from Anna's work; \n",
    "4. molten glass from Celsian BV Eindhoven; "
   ]
  },
  {
   "cell_type": "markdown",
   "id": "a1740225",
   "metadata": {},
   "source": [
    "## Section 2/: Model Development \n",
    "\n",
    "### Einstein and Debye models\n",
    "\n",
    "Einstein developed in 1907 a model for the heat capacity at constant volume $C_V$ based on the following assumptions:\n",
    "1. all atoms in a crystal vibrate independently of each other\n",
    "2. these atoms vibrate with a single vibration frequency $w_e$\n",
    "3. atoms are assumed to behave as harmonic oscillators\n",
    "\n",
    "The energy states associated with the vibrational motions with frequency $w_e$ are given by:\n",
    "\\begin{equation}\n",
    "\\epsilon_n = (n + 1/2)hw_e\n",
    "\\end{equation}\n",
    "where the quantum number $n$=0, 1, 2 etc, and $h$ is Planck constant. \n",
    "\n",
    "The partition function for a crystal of N atoms in the model of Einstein is given by:\n",
    "\\begin{equation}\n",
    "Z(N, V, T) = \\sum_{states~i}e^{-E_i(N, V)/kT}\n",
    "\\end{equation}\n",
    "\n",
    "In this equation, the energy $E_i(N, V)$ is made of two components: a first contribution from the interaction energies $u$ of the atoms with each other which we write $E^{int}=Nu$, and a second contribution from the vibrational motions.\n",
    "\n",
    "We can thus write the partition function as follows:\n",
    "\\begin{equation}\n",
    "Z(N, V, T) = e^{-E^{int}(N, V)/kT}(\\sum_{states~n}e^{-\\epsilon_n/kT})^{3N} \n",
    "\\end{equation}\n",
    "or\n",
    "\\begin{equation}\n",
    "Z(N, V, T) = e^{-E^{int}(N, V)/kT}(q_{vib})^{3N}\n",
    "\\end{equation}\t\t\t\t\t\n",
    "where $q_{vib}$ is the single particle vibrational function $q_{vib}=\\sum_{n=0}^{n=\\infty}e^{-\\epsilon_n/kT}$\n",
    "\n",
    "{\\color{blue}{Derive the expression for the partition function of the crystal of N atoms as function of the Einstein vibrational temperature $\\theta_E=hw_e/k$.\n",
    "Show that the heat capacity in this model is given by:\n",
    "\\begin{equation}\n",
    "C_V(\\theta_{E})  =3Nkx^{2}\\frac{e^{-x}}{[1-e^{-x}]^{2}},\\;\\;\\: where\\;x=\\frac{\\theta_{E}}{T}\n",
    "\\end{equation}}}\n",
    "\n",
    "The limit of $C_V(\\theta_{E})$ when T approaches zero is given by \n",
    "\\begin{equation}\n",
    "C_V(\\theta_{E})  =3Nkx^{2}e^{-x}\n",
    "\\end{equation}\n",
    "which leads to $C_V(\\theta_{E})$ = 0 at 0 K in accordance with the third law of thermodynamics. However, it is observed experimentally that $C_V$ goes to zero as $T^3$ and not following an exponential decay. \n",
    "\n",
    "The approximation of atoms vibrating independently of each other is a crude one that leads to the discrepancies observed with the experiments. Debye developed in 1912 a model that accounts for collective lattice vibrations, and assumes a frequency distribution between 0 and a cut-off frequency $w_D$, with a frequency distribution between those two values given by $g(w) = \\alpha w^2$. The corresponding heat capacity model is given by: \n",
    "\\begin{equation}\n",
    "C_V(\\theta_{D})  =9Nk\\left(\\frac{T}{\\theta_{D}}\\right)^{3}\\intop_{0}^{\\,\\,\\, \\theta_{D}/T}\\frac{e^x x^{4}}{[e^x-1]^{2}} dx\\;\\;\\: where\\; x=\\frac{\\theta_{D}}{T}\n",
    "\\end{equation}\n",
    "\n",
    "### Fitting Cu heat capacity data\n",
    "You are given the molar heat capacity data at constant pressure $C_{p,m}$ of copper between ... and ... K. \n",
    "\n",
    "1. Why can we approximate the heat capacity at constant pressure $C_{p,m}$ with the heat capacity at constant volume $C_{V,m}$ in this case?\n",
    "\n",
    "2. The Einstein temperature of Cu is $\\theta_{E(Cu)} = $. Fit the data for Cu with the following Einstein model:\n",
    "\\begin{equation}\n",
    "C_{V,m}(\\theta_{E}) = 3Rx^{2}\\frac{e^x}{[e^x-1]^{2}},\\;\\;\\: x=\\frac{\\theta_{E}}{T} \n",
    "\\end{equation}\n",
    "Note the use of $R = N_{Av}k$ is this equation to fit molar heat capacity data. \n",
    "\\\\\n",
    "3. When fitting such model to an unknown material, the characteristic Einstein temperature will need to be optimized too in the fitting process. Using a {\\color{red}{Levenbergh Marquardt (or other)}}  iteration algorithm, derive the Einstein temperature yourself. \n",
    "\\\\\n",
    "4. The Debye temperature of Cu is $\\theta_{D(Cu)} = $. Fit the data for Cu with the following Debye model:\n",
    "\\begin{equation}\n",
    "C_{V,m}(\\theta_{D}) = 9R\\left(\\frac{T}{\\theta_{D}}\\right)^{3}\\intop_{0}^{\\,\\,\\, \\theta_{D}/T}\\frac{e^x x^{4}}{[e^x-1]^{2}} dx,\\;\\;\\: x=\\frac{\\theta_{D}}{T} \n",
    "\\end{equation}\n",
    "\\\\\n",
    "5. When fitting such model to an unknown material, the characteristic Debye temperature will need to be optimized too in the fitting process. Using a {\\color{red}{Levenbergh Marquardt (or other)}}  iteration algorithm, derive the Debye temperature yourself. \n",
    "\n",
    "### Fitting heat capacity data of more complex materials\n",
    "\n",
    "Fitting heat capacity data on materials with more than one chemical species cannot be done satisfactorily with an Einstein or Debye model alone as these do not capture the complexity of the lattice vibrations. One can fit with different models over certain temperature ranges. \n",
    "\n",
    "In the low-temperature region (below typically $T$ = 10-20 K), the lattice contribution can be modelled using an harmonic-lattice model \\cite{2003Majzlan}, as given by equation (\\ref{eq:harmonic_model}), where the number of required terms augments with the high temperature limit of the fit:\n",
    "\\begin{equation}\n",
    "C_{latt}=\\sum B_{n}T^{n},\\;\\;\\;\\; where\\; n=3,5,7,9...\n",
    "\\label{eq:harmonic_model}\n",
    "\\end{equation}\n",
    "\n",
    "\n",
    "The electronic contribution of the conduction electrons at the Fermi surface are expressed with a linear term $\\gamma T$ \\cite{1966Gopal}.\n",
    "\n",
    "In the high-temperature region, the lattice contribution is modelled using a combination of Debye and Einstein functions \\cite{2020Rosen}, as expressed in equation (\\ref{eq:lattice_fitting}). The sum ($n_D + n_{E1} + n_{E2}$) should be close to the number of atoms in the formula unit. \n",
    "\n",
    "\\begin{equation}\n",
    "C_\\textup{p,m}=n_{D}D(\\theta_{D})+n_{E1}E(\\theta_{E1})+n_{E2}E(\\theta_{E2})\n",
    "\\label{eq:lattice_fitting}\n",
    "\\end{equation}\n",
    "where $D(\\theta_{D})$, $E(\\theta_{E1})$ and $E(\\theta_{E2})$ are the Debye and Einstein functions, respectively, as written in equations (\\ref{eq:debye_eq}) and (\\ref{eq:einstein_eq2}). $\\theta_{D}$, $\\theta_{E1}$, and $\\theta_{E2}$ are the characteristic Debye and Einstein temperatures. $n_D$, $n_{E1}$, and $n_{E2}$  are adjustable parameters, whose sum ($n_D + n_{E1} + n_{E2}$) should be approximately equal to the number of atoms in the formula unit.\n",
    "\\begin{equation}\n",
    "D(\\theta_{D}) = 9R\\left(\\frac{T}{\\theta_{D}}\\right)^{3}\\intop_{0}^{\\,\\,\\, \\theta_{D}/T}\\frac{e^x x^{4}}{[e^x-1]^{2}} dx\n",
    "\\label{eq:debye_eq} \n",
    "\\end{equation}\n",
    "\n",
    "\\begin{equation}\n",
    "E(\\theta_{E}) = 3Rx^{2}\\frac{e^x}{[e^x-1]^{2}},\\;\\;\\: x=\\frac{\\theta_{E}}{T} \\label{eq:einstein_eq2} \n",
    "\\end{equation}\n",
    "where $R$ is the universal gas constant. \n",
    "\n",
    "1. You are given data for BaMoO$_4$. Fit the data below $T$ = 16 K using the harmonic lattice model as given by equation (\\ref{eq:harmonic_model}).  The electronic specific heat of BaMoO$_4$ is zero, as could be expected for such an insulating material. \n",
    "\n",
    "2. Fit the data above $T$ = 16 K with a Debye and Einstein fit. What are the derived characteristic temperatures and sum ($n_D + n_{E1} + n_{E2}$)?"
   ]
  },
  {
   "cell_type": "markdown",
   "id": "b4536cab",
   "metadata": {},
   "source": [
    "## Section 3:/ Copper "
   ]
  },
  {
   "cell_type": "markdown",
   "id": "0cb89926",
   "metadata": {},
   "source": [
    "The code that follows was taken from [notebook.community](https://notebook.community/hwagit/jupyter-notebooks/mod-phase-trans-metals-alloys/tmt4260_exercise1)."
   ]
  },
  {
   "cell_type": "markdown",
   "id": "3ef302ef",
   "metadata": {},
   "source": [
    "### Section 1.3:/ Forward Model and Measured Data  "
   ]
  },
  {
   "cell_type": "code",
   "execution_count": 57,
   "id": "71c1464e",
   "metadata": {},
   "outputs": [],
   "source": [
    "# define gas constant \n",
    "R = 8.314472  # [J/(mol K)]\n",
    "# define optimal theta value for copper for Einstein model \n",
    "theta_ECu = 244  # [K]\n",
    "# define optimal theta value for copper for Debye model \n",
    "theta_DCu = 315  # [K]\n",
    "\n",
    "# define integrand of the Debye model \n",
    "def debye_integrand(x):\n",
    "    return x**4*(np.exp(x)/(np.exp(x) - 1)**2)\n",
    "\n",
    "# define c_V as a function of vector T and scalar theta  \n",
    "def heat_capacity(T, theta, model='debye'):\n",
    "    if model=='debye':\n",
    "        C_V = [9*R*(i/theta)**3*scipy.integrate.quad(debye_integrand, 0, theta/i)[0] for i in T]\n",
    "    else:\n",
    "        C_V = [3*R*(theta/i)**2*(np.exp(theta/i)/(np.exp(theta/i) - 1)**2) for i in T]\n",
    "    return C_V"
   ]
  },
  {
   "cell_type": "code",
   "execution_count": 58,
   "id": "570878c1",
   "metadata": {},
   "outputs": [],
   "source": [
    "# experimentally determined (T, C_V) values\n",
    "C_V_exp = np.array([3.74, 6.14, 8.58, 10.83, 12.80, 14.49, 15.91, 18.11, 19.65, 20.78, 21.59,\n",
    "                    22.23, 22.72, 23.07, 23.36, 23.58, 23.74, 24.02, 24.23, 24.44, 24.58,\n",
    "                    24.70, 24.79, 24.87, 24.94, 25.03, 25.15, 25.30, 25.57, 25.98, 26.22,\n",
    "                    26.80])\n",
    "T_exp = np.array([40, 50, 60, 70, 80, 90, 100, 120, 140, 160, 180, 200, 220, 240, 260, 280,\n",
    "                  300, 350, 400, 450, 500, 550, 600, 650, 700, 800, 900, 1000, 1100, 1200,\n",
    "                  1250, 1300])\n",
    "\n",
    "# Declare T values from 20 to 400\n",
    "T = np.linspace(20, 400, 400 - 20 + 1)\n",
    "# asymptotic value for both the Einstein and Debye model for large values of T \n",
    "threeR = np.full(len(T), 3*R)"
   ]
  },
  {
   "cell_type": "code",
   "execution_count": 59,
   "id": "0774ab5a",
   "metadata": {},
   "outputs": [],
   "source": [
    "# modeled values of C_V using the einstein and Debye model \n",
    "C_V_E = heat_capacity(T, theta_ECu, model='einstein')\n",
    "C_V_D = heat_capacity(T, theta_DCu)"
   ]
  },
  {
   "cell_type": "code",
   "execution_count": 60,
   "id": "fad38295",
   "metadata": {
    "scrolled": true
   },
   "outputs": [
    {
     "data": {
      "text/plain": [
       "<matplotlib.legend.Legend at 0x7f9bca3d0ad0>"
      ]
     },
     "execution_count": 60,
     "metadata": {},
     "output_type": "execute_result"
    },
    {
     "data": {
      "image/png": "[encoded data removed]",
      "text/plain": [
       "<Figure size 432x288 with 1 Axes>"
      ]
     },
     "metadata": {
      "needs_background": "light"
     },
     "output_type": "display_data"
    }
   ],
   "source": [
    "fig, ax = plt.subplots()\n",
    "ax.plot(T, threeR, '--', label='$3R$ asymptotic values')\n",
    "ax.plot(T, C_V_D, '--', label='Debye')\n",
    "ax.plot(T, C_V_E, label='Einstein')\n",
    "ax.plot(T_exp[:19], C_V_exp[:19], 'o', label='White & Collocott (1984)')\n",
    "ax.set_xlabel('$T$ [K]')\n",
    "ax.set_ylabel('$C_\\mathrm{V}$ [J mol$^{-1}$ K$^{-1}$]')\n",
    "ax.legend()"
   ]
  },
  {
   "cell_type": "code",
   "execution_count": 144,
   "id": "72f835b1",
   "metadata": {},
   "outputs": [
    {
     "name": "stdout",
     "output_type": "stream",
     "text": [
      "(381,)\n"
     ]
    }
   ],
   "source": [
    "print(np.shape(C_V_E))"
   ]
  },
  {
   "cell_type": "markdown",
   "id": "792104c9",
   "metadata": {},
   "source": [
    "### Section 2.3:/ Least-Squares Fit: Recovering listed values of theta "
   ]
  },
  {
   "cell_type": "code",
   "execution_count": 134,
   "id": "5cfba0f9",
   "metadata": {},
   "outputs": [],
   "source": [
    "# compute mismatch between model and data at time instance  \n",
    "def mismatch(x, T, y):\n",
    "    theta_Cu = x\n",
    "    modeled_C_V = heat_capacity(T, theta_Cu) \n",
    "    mismatch_vec = np.array(modeled_C_V) - np.array(y).T\n",
    "    mismatch_vec = mismatch_vec[:]\n",
    "    mismatch_norm = np.linalg.norm(mismatch_vec)\n",
    "    print(\"x = \", x, \"norm =\", mismatch_norm)\n",
    "    return mismatch_vec"
   ]
  },
  {
   "cell_type": "code",
   "execution_count": 145,
   "id": "88738c9c",
   "metadata": {},
   "outputs": [
    {
     "name": "stdout",
     "output_type": "stream",
     "text": [
      "(4, 1)\n",
      "x =  [315] norm = 15.111775947812259\n",
      "(4, 1)\n"
     ]
    },
    {
     "data": {
      "image/png": "[encoded data removed]",
      "text/plain": [
       "<Figure size 432x288 with 1 Axes>"
      ]
     },
     "metadata": {
      "needs_background": "light"
     },
     "output_type": "display_data"
    }
   ],
   "source": [
    "T_train = T_exp[:19]\n",
    "y_train = C_V_exp[:19]\n",
    "T_train = T_exp[:4]\n",
    "y_train = C_V_exp[:4]\n",
    "\n",
    "x0 = np.array([315])\n",
    "\n",
    "y_modeled = heat_capacity(T_train, x0)\n",
    "\n",
    "print(np.array(y_modeled).shape)\n",
    "\n",
    "mismatch(x0, T_train, y_train)\n",
    "\n",
    "fig, ax = plt.subplots()\n",
    "ax.plot(T_train, y_modeled) \n",
    "ax.plot(T_train, y_train, 'o', label='White & Collocott (1984)')\n",
    "ax.set_xlabel('$T$ [K]')\n",
    "ax.set_ylabel('$C_\\mathrm{V}$ [J mol$^{-1}$ K$^{-1}$]')\n",
    "ax.legend()\n",
    "\n",
    "print(np.shape(y_modeled))"
   ]
  },
  {
   "cell_type": "code",
   "execution_count": null,
   "id": "de211d5f",
   "metadata": {},
   "outputs": [],
   "source": []
  },
  {
   "cell_type": "code",
   "execution_count": 136,
   "id": "1795f4d6",
   "metadata": {},
   "outputs": [
    {
     "name": "stdout",
     "output_type": "stream",
     "text": [
      "x =  [315.] norm = 15.111775947812259\n",
      "x =  [315.] norm = 15.111775947812259\n"
     ]
    },
    {
     "ename": "ValueError",
     "evalue": "`fun` must return at most 1-d array_like. f0.shape: (4, 4)",
     "output_type": "error",
     "traceback": [
      "\u001b[0;31m---------------------------------------------------------------------------\u001b[0m",
      "\u001b[0;31mValueError\u001b[0m                                Traceback (most recent call last)",
      "\u001b[0;32m<ipython-input-136-fa34e43e5510>\u001b[0m in \u001b[0;36m<module>\u001b[0;34m\u001b[0m\n\u001b[1;32m      6\u001b[0m \u001b[0mmodeled_C_V\u001b[0m \u001b[0;34m=\u001b[0m \u001b[0mheat_capacity\u001b[0m\u001b[0;34m(\u001b[0m\u001b[0mT_train\u001b[0m\u001b[0;34m,\u001b[0m \u001b[0mx0\u001b[0m\u001b[0;34m)\u001b[0m\u001b[0;34m\u001b[0m\u001b[0;34m\u001b[0m\u001b[0m\n\u001b[1;32m      7\u001b[0m \u001b[0mres\u001b[0m \u001b[0;34m=\u001b[0m \u001b[0mmismatch\u001b[0m\u001b[0;34m(\u001b[0m\u001b[0mx0\u001b[0m\u001b[0;34m,\u001b[0m \u001b[0mT_train\u001b[0m\u001b[0;34m,\u001b[0m \u001b[0my_train\u001b[0m\u001b[0;34m)\u001b[0m\u001b[0;34m\u001b[0m\u001b[0;34m\u001b[0m\u001b[0m\n\u001b[0;32m----> 8\u001b[0;31m \u001b[0mres_lsq\u001b[0m \u001b[0;34m=\u001b[0m \u001b[0mscipy\u001b[0m\u001b[0;34m.\u001b[0m\u001b[0moptimize\u001b[0m\u001b[0;34m.\u001b[0m\u001b[0mleast_squares\u001b[0m\u001b[0;34m(\u001b[0m\u001b[0mmismatch\u001b[0m\u001b[0;34m,\u001b[0m \u001b[0mx0\u001b[0m\u001b[0;34m,\u001b[0m \u001b[0margs\u001b[0m\u001b[0;34m=\u001b[0m\u001b[0;34m(\u001b[0m\u001b[0mT_train\u001b[0m\u001b[0;34m,\u001b[0m \u001b[0my_train\u001b[0m\u001b[0;34m)\u001b[0m\u001b[0;34m,\u001b[0m\u001b[0mverbose\u001b[0m\u001b[0;34m=\u001b[0m\u001b[0;36m2\u001b[0m\u001b[0;34m)\u001b[0m\u001b[0;34m\u001b[0m\u001b[0;34m\u001b[0m\u001b[0m\n\u001b[0m\u001b[1;32m      9\u001b[0m \u001b[0mprint\u001b[0m\u001b[0;34m(\u001b[0m\u001b[0mT_train\u001b[0m\u001b[0;34m)\u001b[0m\u001b[0;34m\u001b[0m\u001b[0;34m\u001b[0m\u001b[0m\n\u001b[1;32m     10\u001b[0m \u001b[0mprint\u001b[0m\u001b[0;34m(\u001b[0m\u001b[0my_train\u001b[0m\u001b[0;34m)\u001b[0m\u001b[0;34m\u001b[0m\u001b[0;34m\u001b[0m\u001b[0m\n",
      "\u001b[0;32m/opt/anaconda3/lib/python3.7/site-packages/scipy/optimize/_lsq/least_squares.py\u001b[0m in \u001b[0;36mleast_squares\u001b[0;34m(fun, x0, jac, bounds, method, ftol, xtol, gtol, x_scale, loss, f_scale, diff_step, tr_solver, tr_options, jac_sparsity, max_nfev, verbose, args, kwargs)\u001b[0m\n\u001b[1;32m    822\u001b[0m     \u001b[0;32mif\u001b[0m \u001b[0mf0\u001b[0m\u001b[0;34m.\u001b[0m\u001b[0mndim\u001b[0m \u001b[0;34m!=\u001b[0m \u001b[0;36m1\u001b[0m\u001b[0;34m:\u001b[0m\u001b[0;34m\u001b[0m\u001b[0;34m\u001b[0m\u001b[0m\n\u001b[1;32m    823\u001b[0m         raise ValueError(\"`fun` must return at most 1-d array_like. \"\n\u001b[0;32m--> 824\u001b[0;31m                          \"f0.shape: {0}\".format(f0.shape))\n\u001b[0m\u001b[1;32m    825\u001b[0m \u001b[0;34m\u001b[0m\u001b[0m\n\u001b[1;32m    826\u001b[0m     \u001b[0;32mif\u001b[0m \u001b[0;32mnot\u001b[0m \u001b[0mnp\u001b[0m\u001b[0;34m.\u001b[0m\u001b[0mall\u001b[0m\u001b[0;34m(\u001b[0m\u001b[0mnp\u001b[0m\u001b[0;34m.\u001b[0m\u001b[0misfinite\u001b[0m\u001b[0;34m(\u001b[0m\u001b[0mf0\u001b[0m\u001b[0;34m)\u001b[0m\u001b[0;34m)\u001b[0m\u001b[0;34m:\u001b[0m\u001b[0;34m\u001b[0m\u001b[0;34m\u001b[0m\u001b[0m\n",
      "\u001b[0;31mValueError\u001b[0m: `fun` must return at most 1-d array_like. f0.shape: (4, 4)"
     ]
    }
   ],
   "source": [
    "T_train = T_exp[:19]\n",
    "y_train = C_V_exp[:19]\n",
    "T_train = T_exp[:4]\n",
    "y_train = C_V_exp[:4]\n",
    "x0 = np.array([315.])\n",
    "modeled_C_V = heat_capacity(T_train, x0)\n",
    "res = mismatch(x0, T_train, y_train)\n",
    "res_lsq = scipy.optimize.least_squares(mismatch, x0, args=(T_train, y_train),verbose=2)\n",
    "print(T_train)\n",
    "print(y_train) \n",
    "print(modeled_C_V)\n",
    "print(res)"
   ]
  },
  {
   "cell_type": "code",
   "execution_count": 137,
   "id": "96a21fff",
   "metadata": {},
   "outputs": [
    {
     "name": "stdout",
     "output_type": "stream",
     "text": [
      "x =  [315.] norm = 172.63886288312645\n"
     ]
    },
    {
     "ename": "ValueError",
     "evalue": "`fun` must return at most 1-d array_like. f0.shape: (19, 19)",
     "output_type": "error",
     "traceback": [
      "\u001b[0;31m---------------------------------------------------------------------------\u001b[0m",
      "\u001b[0;31mValueError\u001b[0m                                Traceback (most recent call last)",
      "\u001b[0;32m<ipython-input-137-e451f4a3ea15>\u001b[0m in \u001b[0;36m<module>\u001b[0;34m\u001b[0m\n\u001b[1;32m      4\u001b[0m \u001b[0;31m# T_train = T_exp\u001b[0m\u001b[0;34m\u001b[0m\u001b[0;34m\u001b[0m\u001b[0;34m\u001b[0m\u001b[0m\n\u001b[1;32m      5\u001b[0m \u001b[0;31m# y_train = C_V_exp\u001b[0m\u001b[0;34m\u001b[0m\u001b[0;34m\u001b[0m\u001b[0;34m\u001b[0m\u001b[0m\n\u001b[0;32m----> 6\u001b[0;31m \u001b[0mres_lsq\u001b[0m \u001b[0;34m=\u001b[0m \u001b[0mscipy\u001b[0m\u001b[0;34m.\u001b[0m\u001b[0moptimize\u001b[0m\u001b[0;34m.\u001b[0m\u001b[0mleast_squares\u001b[0m\u001b[0;34m(\u001b[0m\u001b[0mmismatch\u001b[0m\u001b[0;34m,\u001b[0m \u001b[0mx0\u001b[0m\u001b[0;34m,\u001b[0m \u001b[0margs\u001b[0m\u001b[0;34m=\u001b[0m\u001b[0;34m(\u001b[0m\u001b[0mT_train\u001b[0m\u001b[0;34m,\u001b[0m \u001b[0my_train\u001b[0m\u001b[0;34m)\u001b[0m\u001b[0;34m,\u001b[0m\u001b[0mverbose\u001b[0m\u001b[0;34m=\u001b[0m\u001b[0;36m2\u001b[0m\u001b[0;34m)\u001b[0m\u001b[0;34m\u001b[0m\u001b[0;34m\u001b[0m\u001b[0m\n\u001b[0m\u001b[1;32m      7\u001b[0m \u001b[0mx_opt\u001b[0m \u001b[0;34m=\u001b[0m \u001b[0mres_lsq\u001b[0m\u001b[0;34m.\u001b[0m\u001b[0mx\u001b[0m\u001b[0;34m\u001b[0m\u001b[0;34m\u001b[0m\u001b[0m\n\u001b[1;32m      8\u001b[0m \u001b[0mprint\u001b[0m\u001b[0;34m(\u001b[0m\u001b[0;34m\"optimal found = \"\u001b[0m\u001b[0;34m,\u001b[0m \u001b[0mres_lsq\u001b[0m\u001b[0;34m.\u001b[0m\u001b[0mx\u001b[0m\u001b[0;34m)\u001b[0m\u001b[0;34m\u001b[0m\u001b[0;34m\u001b[0m\u001b[0m\n",
      "\u001b[0;32m/opt/anaconda3/lib/python3.7/site-packages/scipy/optimize/_lsq/least_squares.py\u001b[0m in \u001b[0;36mleast_squares\u001b[0;34m(fun, x0, jac, bounds, method, ftol, xtol, gtol, x_scale, loss, f_scale, diff_step, tr_solver, tr_options, jac_sparsity, max_nfev, verbose, args, kwargs)\u001b[0m\n\u001b[1;32m    822\u001b[0m     \u001b[0;32mif\u001b[0m \u001b[0mf0\u001b[0m\u001b[0;34m.\u001b[0m\u001b[0mndim\u001b[0m \u001b[0;34m!=\u001b[0m \u001b[0;36m1\u001b[0m\u001b[0;34m:\u001b[0m\u001b[0;34m\u001b[0m\u001b[0;34m\u001b[0m\u001b[0m\n\u001b[1;32m    823\u001b[0m         raise ValueError(\"`fun` must return at most 1-d array_like. \"\n\u001b[0;32m--> 824\u001b[0;31m                          \"f0.shape: {0}\".format(f0.shape))\n\u001b[0m\u001b[1;32m    825\u001b[0m \u001b[0;34m\u001b[0m\u001b[0m\n\u001b[1;32m    826\u001b[0m     \u001b[0;32mif\u001b[0m \u001b[0;32mnot\u001b[0m \u001b[0mnp\u001b[0m\u001b[0;34m.\u001b[0m\u001b[0mall\u001b[0m\u001b[0;34m(\u001b[0m\u001b[0mnp\u001b[0m\u001b[0;34m.\u001b[0m\u001b[0misfinite\u001b[0m\u001b[0;34m(\u001b[0m\u001b[0mf0\u001b[0m\u001b[0;34m)\u001b[0m\u001b[0;34m)\u001b[0m\u001b[0;34m:\u001b[0m\u001b[0;34m\u001b[0m\u001b[0;34m\u001b[0m\u001b[0m\n",
      "\u001b[0;31mValueError\u001b[0m: `fun` must return at most 1-d array_like. f0.shape: (19, 19)"
     ]
    }
   ],
   "source": [
    "x0 = np.array(315)\n",
    "T_train = T_exp[:19] \n",
    "y_train = C_V_exp[:19]\n",
    "# T_train = T_exp \n",
    "# y_train = C_V_exp\n",
    "res_lsq = scipy.optimize.least_squares(mismatch, x0, args=(T_train, y_train),verbose=2)\n",
    "x_opt = res_lsq.x \n",
    "print(\"optimal found = \", res_lsq.x)\n",
    "x_opt = theta_ECu\n",
    "y_opt = heat_capacity(T_train, x_opt)\n",
    "\n",
    "fig, ax = plt.subplots()\n",
    "ax.plot(T_train, y_opt) \n",
    "ax.plot(T_train, y_train, 'o', label='White & Collocott (1984)')\n",
    "ax.set_xlabel('$T$ [K]')\n",
    "ax.set_ylabel('$C_\\mathrm{V}$ [J mol$^{-1}$ K$^{-1}$]')\n",
    "ax.legend()"
   ]
  },
  {
   "cell_type": "markdown",
   "id": "d4b2fdfb",
   "metadata": {},
   "source": [
    "## Section 4:/ More Complex Material "
   ]
  },
  {
   "cell_type": "markdown",
   "id": "c871a1d4",
   "metadata": {},
   "source": [
    "## Section 5:/ Molten Glass  "
   ]
  },
  {
   "cell_type": "markdown",
   "id": "b6cb5917",
   "metadata": {},
   "source": [
    "## Conclusions"
   ]
  },
  {
   "cell_type": "markdown",
   "id": "b81ec120",
   "metadata": {},
   "source": [
    "## References \n",
    "\n",
    "To be extended.\n",
    "\n",
    "1. [wikki on Computational_thermodynamics](https://en.wikipedia.org/wiki/Computational_thermodynamics) : interesting for the links it provides; \n",
    "2. [wiki on Calphad](https://en.wikipedia.org/wiki/CALPHAD) \n",
    "3. [PyCalphad](https://pycalphad.org/docs/latest/)\n",
    "4. [OpenCalphad](http://www.opencalphad.com)"
   ]
  },
  {
   "cell_type": "code",
   "execution_count": null,
   "id": "a18ef6fc",
   "metadata": {},
   "outputs": [],
   "source": []
  }
 ],
 "metadata": {
  "kernelspec": {
   "display_name": "Python 3",
   "language": "python",
   "name": "python3"
  },
  "language_info": {
   "codemirror_mode": {
    "name": "ipython",
    "version": 3
   },
   "file_extension": ".py",
   "mimetype": "text/x-python",
   "name": "python",
   "nbconvert_exporter": "python",
   "pygments_lexer": "ipython3",
   "version": "3.7.10"
  }
 },
 "nbformat": 4,
 "nbformat_minor": 5
}
