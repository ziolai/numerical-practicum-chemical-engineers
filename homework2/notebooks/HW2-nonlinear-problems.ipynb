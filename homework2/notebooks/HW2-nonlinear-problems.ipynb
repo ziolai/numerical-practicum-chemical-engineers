{
 "cells": [
  {
   "cell_type": "markdown",
   "id": "8097202d",
   "metadata": {},
   "source": [
    "# HW2: Solving Non-Linear Problems"
   ]
  },
  {
   "cell_type": "markdown",
   "id": "9626a33b",
   "metadata": {},
   "source": [
    "## What is our goal?   \n",
    "\n",
    "Our goal is to solve non-linear problems numerically: "
   ]
  },
  {
   "cell_type": "markdown",
   "id": "48616c9f",
   "metadata": {},
   "source": [
    "## Import Libraries"
   ]
  },
  {
   "cell_type": "code",
   "execution_count": 1,
   "id": "c6f395c0",
   "metadata": {},
   "outputs": [
    {
     "name": "stdout",
     "output_type": "stream",
     "text": [
      "Succesfully imported numpy -- Version: 1.20.1\n",
      "Succesfully imported scipy -- Version: 1.6.2\n",
      "Succesfully imported matplotlib.pyplot\n",
      "Succesfully imported pandas -- Version: 1.2.4\n",
      "Succesfully imported sympy -- Version: 1.8\n",
      "Succesfully imported scipy.optimize\n",
      "Succesfully imported fsolve\n",
      "Succesfully imported find_peaks\n",
      "Succesfully imported orth\n",
      "Succesfully imported odeint\n"
     ]
    }
   ],
   "source": [
    "import numpy as np\n",
    "print(\"Succesfully imported %s -- Version: %s\"%(np.__name__,np.__version__))\n",
    "import scipy\n",
    "print(\"Succesfully imported %s -- Version: %s\"%(scipy.__name__,scipy.__version__))\n",
    "import matplotlib.pyplot as plt\n",
    "print(\"Succesfully imported %s\"%plt.__name__)\n",
    "import pandas as pd\n",
    "print(\"Succesfully imported %s -- Version: %s\"%(pd.__name__,pd.__version__))\n",
    "import sympy as sym \n",
    "print(\"Succesfully imported %s -- Version: %s\"%(sym.__name__,sym.__version__))\n",
    "from scipy import optimize\n",
    "print(\"Succesfully imported %s\"%optimize.__name__)\n",
    "from scipy.optimize import fsolve\n",
    "print(\"Succesfully imported %s\"%fsolve.__name__)\n",
    "from scipy.signal import find_peaks\n",
    "print(\"Succesfully imported %s\"%find_peaks.__name__)\n",
    "from scipy.linalg import orth\n",
    "print(\"Succesfully imported %s\"%orth.__name__)\n",
    "from scipy.integrate import odeint\n",
    "print(\"Succesfully imported %s\"%odeint.__name__)"
   ]
  },
  {
   "cell_type": "markdown",
   "id": "84348980",
   "metadata": {},
   "source": [
    "## Section 1/: Introduction and Model Description"
   ]
  },
  {
   "cell_type": "markdown",
   "id": "39d86584",
   "metadata": {},
   "source": [
    "Extend version of introduction given above.   \n",
    "\n",
    "List here various function to solve (systems of) non-linear equations in scipy. Using the optimize.root() function and alternatives. "
   ]
  },
  {
   "cell_type": "code",
   "execution_count": null,
   "id": "1fb5a165",
   "metadata": {},
   "outputs": [],
   "source": []
  },
  {
   "cell_type": "code",
   "execution_count": 12,
   "id": "1f5604af",
   "metadata": {},
   "outputs": [
    {
     "name": "stderr",
     "output_type": "stream",
     "text": [
      "/opt/anaconda3/lib/python3.7/site-packages/ipykernel_launcher.py:2: RuntimeWarning: overflow encountered in sinh\n",
      "  \n",
      "/opt/anaconda3/lib/python3.7/site-packages/scipy/integrate/_bvp.py:312: RuntimeWarning: overflow encountered in multiply\n",
      "  4 * f_middle)\n",
      "/opt/anaconda3/lib/python3.7/site-packages/scipy/integrate/_bvp.py:40: RuntimeWarning: invalid value encountered in subtract\n",
      "  df_dy[:, i, :] = (f_new - f0) / hi\n",
      "/opt/anaconda3/lib/python3.7/site-packages/scipy/integrate/_bvp.py:40: RuntimeWarning: overflow encountered in true_divide\n",
      "  df_dy[:, i, :] = (f_new - f0) / hi\n",
      "/opt/anaconda3/lib/python3.7/site-packages/scipy/integrate/_bvp.py:566: RuntimeWarning: invalid value encountered in true_divide\n",
      "  r_middle /= 1 + np.abs(f_middle)\n",
      "/opt/anaconda3/lib/python3.7/site-packages/scipy/integrate/_bvp.py:567: RuntimeWarning: invalid value encountered in true_divide\n",
      "  r1 /= 1 + np.abs(f1)\n",
      "/opt/anaconda3/lib/python3.7/site-packages/scipy/integrate/_bvp.py:568: RuntimeWarning: invalid value encountered in true_divide\n",
      "  r2 /= 1 + np.abs(f2)\n"
     ]
    },
    {
     "ename": "NameError",
     "evalue": "name 'plot' is not defined",
     "output_type": "error",
     "traceback": [
      "\u001b[0;31m---------------------------------------------------------------------------\u001b[0m",
      "\u001b[0;31mNameError\u001b[0m                                 Traceback (most recent call last)",
      "\u001b[0;32m<ipython-input-12-e1f05e7685fb>\u001b[0m in \u001b[0;36m<module>\u001b[0;34m\u001b[0m\n\u001b[1;32m     18\u001b[0m \u001b[0;34m\u001b[0m\u001b[0m\n\u001b[1;32m     19\u001b[0m \u001b[0;31m#..plot the computed solutions\u001b[0m\u001b[0;34m\u001b[0m\u001b[0;34m\u001b[0m\u001b[0;34m\u001b[0m\u001b[0m\n\u001b[0;32m---> 20\u001b[0;31m \u001b[0mplot\u001b[0m\u001b[0;34m(\u001b[0m\u001b[0mxvec\u001b[0m\u001b[0;34m,\u001b[0m \u001b[0mcomputed2\u001b[0m\u001b[0;34m.\u001b[0m\u001b[0msol\u001b[0m\u001b[0;34m(\u001b[0m\u001b[0mxvec\u001b[0m\u001b[0;34m)\u001b[0m\u001b[0;34m[\u001b[0m\u001b[0;36m0\u001b[0m\u001b[0;34m]\u001b[0m\u001b[0;34m,\u001b[0m \u001b[0mlabel\u001b[0m\u001b[0;34m=\u001b[0m\u001b[0;34m'Dirichlet-Neumann'\u001b[0m\u001b[0;34m)\u001b[0m\u001b[0;34m\u001b[0m\u001b[0;34m\u001b[0m\u001b[0m\n\u001b[0m\u001b[1;32m     21\u001b[0m \u001b[0mgrid\u001b[0m\u001b[0;34m(\u001b[0m\u001b[0;34m)\u001b[0m\u001b[0;34m\u001b[0m\u001b[0;34m\u001b[0m\u001b[0m\n\u001b[1;32m     22\u001b[0m \u001b[0mset_xlabel\u001b[0m\u001b[0;34m(\u001b[0m\u001b[0;34m'x'\u001b[0m\u001b[0;34m)\u001b[0m\u001b[0;34m\u001b[0m\u001b[0;34m\u001b[0m\u001b[0m\n",
      "\u001b[0;31mNameError\u001b[0m: name 'plot' is not defined"
     ]
    }
   ],
   "source": [
    "def righthandsidefunction(x, u):\n",
    "    return np.vstack((u[1], -np.sinh(u[0]*10)))\n",
    "\n",
    "# obverse the use of ua[0] and ub[0] to set the value of u at the left and right end point  \n",
    "def bndcond_dirichlet_dirichlet(ua, ub):\n",
    "    return np.array([ua[0]-1, ub[0]-2])\n",
    "\n",
    "# obverse the use of ub[1] to set the value of du/dx at the right end point  \n",
    "def bndcond_dirichlet_neumann(ua, ub):\n",
    "    return np.array([ua[0]-1, ub[1]])\n",
    "\n",
    "N = 100; Np1 = N+1;\n",
    "xvec = np.linspace(0,1,Np1)\n",
    "\n",
    "ustart = np.zeros((2, xvec.size))\n",
    "\n",
    "computed2 = scipy.integrate.solve_bvp(righthandsidefunction, bndcond_dirichlet_neumann, xvec, ustart)\n",
    "\n",
    "#..plot the computed solutions \n",
    "plot(xvec, computed2.sol(xvec)[0], label='Dirichlet-Neumann')\n",
    "grid()\n",
    "set_xlabel('x')\n",
    "set_ylabel('u(x)')\n",
    "legend(loc='best')"
   ]
  },
  {
   "cell_type": "code",
   "execution_count": null,
   "id": "210f0c20",
   "metadata": {},
   "outputs": [],
   "source": []
  }
 ],
 "metadata": {
  "kernelspec": {
   "display_name": "Python 3",
   "language": "python",
   "name": "python3"
  },
  "language_info": {
   "codemirror_mode": {
    "name": "ipython",
    "version": 3
   },
   "file_extension": ".py",
   "mimetype": "text/x-python",
   "name": "python",
   "nbconvert_exporter": "python",
   "pygments_lexer": "ipython3",
   "version": "3.7.10"
  }
 },
 "nbformat": 4,
 "nbformat_minor": 5
}
