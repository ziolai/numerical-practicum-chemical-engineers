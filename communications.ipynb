{
 "cells": [
  {
   "cell_type": "markdown",
   "id": "61045e0f",
   "metadata": {},
   "source": [
    "# CH3133: Numerical Practicum 2022 - Cummunication"
   ]
  },
  {
   "cell_type": "markdown",
   "id": "dc46446d",
   "metadata": {},
   "source": [
    "## Meeting on July 4th \n",
    "\n",
    "### Concerns by D. Lahaye \n",
    "15 ECTS in Q1 remains large. \n",
    "\n",
    "### Questions by D. Lahaye \n",
    "\n",
    "1. PDC requires non-python solutions? \n",
    "2. what happens in Q2? "
   ]
  },
  {
   "cell_type": "markdown",
   "id": "508a70f7",
   "metadata": {},
   "source": [
    "## Minutes Meeting on CP-2022 with Artur / Bijoy / Domenico / Toine / Jan on 14 juni 2022\n",
    "\n",
    "### Python Introduction \n",
    "\n",
    "Preparatory information to be spread among students prior to start of the course\n",
    "https://github.com/ziolai/numerical-practicum-chemical-engineers/blob/main/intro-python/notebooks/pointers_on_python.ipynb \n",
    "\n",
    "### First Quarter  \n",
    "\n",
    "Established?\n",
    "\n",
    "### Second Quarter \n",
    "\n",
    "#### TA voor opdracht Engineering Thermodynamics - Anna Smith \n",
    "Beschrijving opdracht met deliverables; Jupiter notebook; concept questions; auto-grading via nb-grader on Vocareum; \n",
    "https://github.com/ziolai/numerical-practicum-chemical-engineers/blob/main/homework6/notebooks/HW6-engineering-thermodynamics.ipynb \n",
    "\n",
    "#### TA voor opdracht Transport Phenomena - Tom Bourdiny \n",
    "Beschrijving opdracht met deliverables; as above \n",
    "https://github.com/ziolai/numerical-practicum-chemical-engineers/blob/main/homework4/notebooks/HW4-applied-transport-phenomena.ipynb\n",
    "\n",
    "#### Guest lectures by Celsian, Albermarle and Danieli Corus in Q2 \n",
    "\n",
    "#### Assignment on Colloids and Interfaces (Laura); in progress \n",
    "see https://github.com/ziolai/numerical-practicum-chemical-engineers\n",
    "\n",
    "#### Inorganic Materials Engineering (Ferdinand); in progress \n",
    "see https://github.com/ziolai/numerical-practicum-chemical-engineers\n",
    "\n",
    "#### Organic Materials Engineering (Eduardo); in progress  \n",
    "see https://github.com/ziolai/numerical-practicum-chemical-engineers"
   ]
  },
  {
   "cell_type": "markdown",
   "id": "a394cb2b",
   "metadata": {},
   "source": [
    "## Communication with Bijoy Bera - May 24th \n",
    "Hi Domenico,\n",
    "\n",
    "Ik heb je al verteld dat ik Pouyan had gesproken en dat hij en Eduardo niet echt tijd hebben om nog een bijdrage te doen bij ons Numeriek Practicum.\n",
    "\n",
    "Vanmiddag heb ik nog Tom Burdyny (van Applied Transport Phenomena) gesproken. Hij is wel best ver met zijn opdracht beschrijving en hij verwacht, zoals hij beloofd had, om t/m eind deze maand een complete assignment beschrijving en de uitwerking bij ons te kunnen inleveren.\n",
    "Kennende Tom, zou ik een voorstander zijn om dit even af te wachten.\n",
    "\n",
    "Ferdinand heb ik nog niet kunnen spreken. Hij is deze week sowieso niet in de afdeling.\n",
    "\n",
    "Ik verneem graag hoe je hiermee verder wil en welke update ik naar Jan kan sturen.\n",
    "\n",
    "hartelijke groet,\n",
    "Bijoy"
   ]
  },
  {
   "cell_type": "code",
   "execution_count": null,
   "id": "90637921",
   "metadata": {},
   "outputs": [],
   "source": []
  },
  {
   "cell_type": "markdown",
   "id": "29b8795e",
   "metadata": {},
   "source": [
    "## Communication with Valeria Gabin - May 30th \n",
    "Hi Domenico,\n",
    "\n",
    "I have checked with Pouyan (Cc) and he confirmed that for MTP only the 1D case of Poisson-Boltzmann is used.\n",
    "\n",
    "On the other hand I hadn't realized that Random Walk is not planned to be part of ANM practicum. Pouyan and I propose that we can still offer it as part of MTP for this first year of the new curriculum and see how it goes. We can then re-evaluate for 2023-24.\n",
    "\n",
    "For Colloids and Interfaces, unfortunately I cannot give you any input! I am only teaching a couple of lectures. I am not in charge of the course and not very familiar with the rest of the content.\n",
    "\n",
    "This I think resolves the outstanding issues and I suggest to skip the meeting we had planned for June 14 since we are all busy in this last stretch of Q4...\n",
    "\n",
    "Thanks!\n",
    "Valeria "
   ]
  },
  {
   "cell_type": "markdown",
   "id": "98e9a539",
   "metadata": {},
   "source": []
  },
  {
   "cell_type": "markdown",
   "id": "420bf6e4",
   "metadata": {},
   "source": []
  },
  {
   "cell_type": "markdown",
   "id": "f7f3ecb7",
   "metadata": {},
   "source": []
  },
  {
   "cell_type": "markdown",
   "id": "85393c9d",
   "metadata": {},
   "source": []
  }
 ],
 "metadata": {
  "kernelspec": {
   "display_name": "Python 3",
   "language": "python",
   "name": "python3"
  },
  "language_info": {
   "codemirror_mode": {
    "name": "ipython",
    "version": 3
   },
   "file_extension": ".py",
   "mimetype": "text/x-python",
   "name": "python",
   "nbconvert_exporter": "python",
   "pygments_lexer": "ipython3",
   "version": "3.7.10"
  }
 },
 "nbformat": 4,
 "nbformat_minor": 5
}
