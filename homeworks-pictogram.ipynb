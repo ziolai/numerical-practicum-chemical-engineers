{
 "cells": [
  {
   "cell_type": "markdown",
   "id": "d64d240b",
   "metadata": {},
   "source": [
    "# Pictograms of Homework Assignments"
   ]
  },
  {
   "cell_type": "markdown",
   "id": "7de7e027",
   "metadata": {},
   "source": [
    "## HW1 \n",
    "### Compulsory parts \n",
    "1. Stationary Diffusion Equation in One Spatial Dimension  (using home-brewed finite difference code on uniform mesh; use coarse, intermediate and finer mesh); \n",
    "2. Fourier Transform of One Dimensional Data \n",
    "3. Optimization Problem in One Design Variable\n",
    "\n",
    "### Elective part (symbols refer to compulsory parts listed above)\n",
    "1. Verification using changes in the excitation, verification using alternative solution methods and verification using analytical reference solution; (change in boundary conditions, two-dimensional problems)\n",
    "2. Performing Fourier transform on other types of data, performing operations in frequency domain and performing inverse Fourier transform;   \n",
    "3. Changing in the optimization objective, two design variables and exploring alternative solutions \n"
   ]
  },
  {
   "cell_type": "markdown",
   "id": "bcf1d3cc",
   "metadata": {},
   "source": [
    "## HW2 \n",
    "### Compulsory parts \n",
    "1. Linear model solve using finite-difference method; \n",
    "2. Non-Linear model solve using  finite-difference method without explicit Jacobian using the scipy.optimize.root() function; \n",
    "3. Proving the analytical Jacobian and rerun \n",
    "\n",
    "### Elective part \n",
    "1. Generate reference solution using sympy, compare analytical and numerical solution of sequence of finer meshes and perform parameter study of the reference solution;\n",
    "2. Generate reference solution using the solve_bvp() function, compare analytical and numerical solution of sequence of finer meshes and analyze computational efficiency by supplying the gradient; \n",
    "3. Use of JAX package to evaluate the Jacobian, compare analytical and automatically differentiated Jacobian, compare number of function evaluations with and without the Jacobian;  "
   ]
  },
  {
   "cell_type": "markdown",
   "id": "12dadf1b",
   "metadata": {},
   "source": [
    "## HW3"
   ]
  },
  {
   "cell_type": "markdown",
   "id": "a6b9d7c7",
   "metadata": {},
   "source": [
    "### Compulsory parts \n",
    "1. Formulation as system of ordinary differential equations; \n",
    "2. Formulation as system of partial differential equations in one-dimensional space \n",
    "3. Formulation as system of partial differential equations in two-dimensional space and time\n",
    "\n",
    "### cElective part \n",
    "1. Stability analysis via spectral analysis of the Jacobian, numerical verification of the stability analysis and computational aspects of the time-integration; \n",
    "2. Reference solution using the solve_bvp() function;\n",
    "3. Steady-state and oscillatory solution; "
   ]
  },
  {
   "cell_type": "code",
   "execution_count": null,
   "id": "ac6aefcb",
   "metadata": {},
   "outputs": [],
   "source": []
  }
 ],
 "metadata": {
  "kernelspec": {
   "display_name": "Python 3",
   "language": "python",
   "name": "python3"
  },
  "language_info": {
   "codemirror_mode": {
    "name": "ipython",
    "version": 3
   },
   "file_extension": ".py",
   "mimetype": "text/x-python",
   "name": "python",
   "nbconvert_exporter": "python",
   "pygments_lexer": "ipython3",
   "version": "3.7.10"
  }
 },
 "nbformat": 4,
 "nbformat_minor": 5
}
