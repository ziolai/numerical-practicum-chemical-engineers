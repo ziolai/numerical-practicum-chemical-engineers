{
 "cells": [
  {
   "cell_type": "markdown",
   "id": "9af2f9be",
   "metadata": {},
   "source": [
    "# Solving Optimization Problems"
   ]
  },
  {
   "cell_type": "markdown",
   "id": "d988cd32",
   "metadata": {},
   "source": [
    "## Import Libraries"
   ]
  },
  {
   "cell_type": "code",
   "execution_count": 2,
   "id": "e0020e1c",
   "metadata": {},
   "outputs": [
    {
     "name": "stdout",
     "output_type": "stream",
     "text": [
      "Succesfully imported numpy -- Version: 1.21.6\n",
      "Succesfully imported scipy -- Version: 1.7.3\n",
      "Succesfully imported matplotlib.pyplot\n",
      "Succesfully imported pandas -- Version: 1.2.4\n",
      "Succesfully imported sympy -- Version: 1.8\n",
      "Succesfully imported scipy.optimize\n",
      "Succesfully imported fsolve\n",
      "Succesfully imported find_peaks\n",
      "Succesfully imported orth\n",
      "Succesfully imported odeint\n"
     ]
    }
   ],
   "source": [
    "import numpy as np\n",
    "print(\"Succesfully imported %s -- Version: %s\"%(np.__name__,np.__version__))\n",
    "import scipy\n",
    "print(\"Succesfully imported %s -- Version: %s\"%(scipy.__name__,scipy.__version__))\n",
    "import matplotlib.pyplot as plt\n",
    "print(\"Succesfully imported %s\"%plt.__name__)\n",
    "import pandas as pd\n",
    "print(\"Succesfully imported %s -- Version: %s\"%(pd.__name__,pd.__version__))\n",
    "import sympy as sym \n",
    "print(\"Succesfully imported %s -- Version: %s\"%(sym.__name__,sym.__version__))\n",
    "from scipy import optimize\n",
    "print(\"Succesfully imported %s\"%optimize.__name__)\n",
    "from scipy.optimize import fsolve\n",
    "print(\"Succesfully imported %s\"%fsolve.__name__)\n",
    "from scipy.signal import find_peaks\n",
    "print(\"Succesfully imported %s\"%find_peaks.__name__)\n",
    "from scipy.linalg import orth\n",
    "print(\"Succesfully imported %s\"%orth.__name__)\n",
    "from scipy.integrate import odeint\n",
    "print(\"Succesfully imported %s\"%odeint.__name__)"
   ]
  },
  {
   "cell_type": "markdown",
   "id": "b9c4ad30",
   "metadata": {},
   "source": [
    "## Section 1:/ Using Non-Linear Least-Squares on an Analytical Example with Four Parameters "
   ]
  },
  {
   "cell_type": "code",
   "execution_count": 3,
   "id": "438ddc5d",
   "metadata": {},
   "outputs": [],
   "source": [
    "def model(x, u):\n",
    "...     return x[0] * (u ** 2 + x[1] * u) / (u ** 2 + x[2] * u + x[3])\n",
    "\n",
    "def fun(x, u, y):\n",
    "...     return model(x, u) - y\n",
    "\n",
    "def jac(x, u, y):\n",
    "...     J = np.empty((u.size, x.size))\n",
    "...     den = u ** 2 + x[2] * u + x[3]\n",
    "...     num = u ** 2 + x[1] * u\n",
    "...     J[:, 0] = num / den\n",
    "...     J[:, 1] = x[0] * u / den\n",
    "...     J[:, 2] = -x[0] * num * u / den ** 2\n",
    "...     J[:, 3] = -x[0] * num / den ** 2\n",
    "...     return J"
   ]
  },
  {
   "cell_type": "code",
   "execution_count": 4,
   "id": "de1019be",
   "metadata": {},
   "outputs": [
    {
     "name": "stdout",
     "output_type": "stream",
     "text": [
      "`ftol` termination condition is satisfied.\n",
      "Function evaluations 131, initial cost 4.4383e+00, final cost 1.5375e-04, first-order optimality 4.52e-08.\n"
     ]
    }
   ],
   "source": [
    "u = np.array([4.0, 2.0, 1.0, 5.0e-1, 2.5e-1, 1.67e-1, 1.25e-1, 1.0e-1,\n",
    "...               8.33e-2, 7.14e-2, 6.25e-2])\n",
    ">>> y = np.array([1.957e-1, 1.947e-1, 1.735e-1, 1.6e-1, 8.44e-2, 6.27e-2,\n",
    "...               4.56e-2, 3.42e-2, 3.23e-2, 2.35e-2, 2.46e-2])\n",
    ">>> x0 = np.array([2.5, 3.9, 4.15, 3.9])\n",
    ">>> res = scipy.optimize.least_squares(fun, x0, jac=jac, bounds=(0, 100), args=(u, y), verbose=1)"
   ]
  },
  {
   "cell_type": "code",
   "execution_count": 5,
   "id": "e6e6cec6",
   "metadata": {},
   "outputs": [
    {
     "data": {
      "image/png": "[encoded data removed]",
      "text/plain": [
       "<Figure size 432x288 with 1 Axes>"
      ]
     },
     "metadata": {
      "needs_background": "light"
     },
     "output_type": "display_data"
    }
   ],
   "source": [
    "u_test = np.linspace(0, 5)\n",
    "y_test = model(res.x, u_test)\n",
    "plt.plot(u, y, 'o', markersize=4, label='data') \n",
    "plt.plot(u_test, y_test, label='fitted model')\n",
    "plt.xlabel(\"u\")\n",
    "plt.ylabel(\"y\")\n",
    "plt.legend(loc='lower right')\n",
    "plt.show()"
   ]
  },
  {
   "cell_type": "markdown",
   "id": "b41b5dd6",
   "metadata": {},
   "source": [
    "## Section 2: Non-Linear Least-Squares on Example with Explicit Function in t"
   ]
  },
  {
   "cell_type": "code",
   "execution_count": 6,
   "id": "be9166bc",
   "metadata": {},
   "outputs": [],
   "source": [
    "from numpy.random import default_rng\n",
    "\n",
    "rng = default_rng()\n",
    "\n",
    "def gen_data(t, a, b, c, noise=0., n_outliers=0, seed=None):\n",
    "     rng = default_rng(seed)\n",
    "\n",
    "     y = a + b * np.exp(t * c)\n",
    "\n",
    "     error = noise * rng.standard_normal(t.size)\n",
    "     outliers = rng.integers(0, t.size, n_outliers)\n",
    "     error[outliers] *= 10\n",
    "\n",
    "     return y + error\n",
    "\n",
    "a = 0.5\n",
    "b = 2.0\n",
    "c = -1\n",
    "t_min = 0\n",
    "t_max = 10\n",
    "n_points = 15\n",
    "\n",
    "t_train = np.linspace(t_min, t_max, n_points)\n",
    "y_train = gen_data(t_train, a, b, c, noise=0.1, n_outliers=3)"
   ]
  },
  {
   "cell_type": "code",
   "execution_count": 7,
   "id": "2265c48e",
   "metadata": {},
   "outputs": [
    {
     "name": "stdout",
     "output_type": "stream",
     "text": [
      "   Iteration     Total nfev        Cost      Cost reduction    Step norm     Optimality   \n",
      "       0              1         2.7056e+01                                    2.05e+01    \n",
      "       1              2         6.6216e+00      2.04e+01       7.34e+00       2.33e+00    \n",
      "       2              4         5.6991e+00      9.23e-01       3.67e+00       5.40e-01    \n",
      "       3              5         5.6818e+00      1.73e-02       7.34e+00       5.60e-01    \n",
      "       4              6         5.6772e+00      4.61e-03       7.34e+00       3.41e-03    \n",
      "       5              9         5.6770e+00      1.38e-04       9.18e-01       2.51e-02    \n",
      "       6             10         5.6769e+00      1.18e-04       1.84e+00       7.52e-03    \n",
      "       7             11         5.6768e+00      1.15e-04       3.67e+00       3.64e-02    \n",
      "       8             12         5.6767e+00      6.69e-05       7.34e+00       9.93e-02    \n",
      "       9             13         5.6764e+00      3.02e-04       1.84e+00       3.66e-03    \n",
      "      10             14         5.6763e+00      1.16e-04       3.67e+00       1.85e-02    \n",
      "      11             15         5.6762e+00      1.22e-04       7.34e+00       5.46e-02    \n",
      "      12             16         5.6760e+00      2.01e-04       7.34e+00       4.26e-02    \n",
      "      13             17         5.6758e+00      1.73e-04       7.34e+00       2.98e-02    \n",
      "      14             19         5.6757e+00      1.00e-04       3.67e+00       4.30e-03    \n",
      "      15             20         5.6756e+00      9.33e-05       7.34e+00       1.85e-02    \n",
      "      16             21         5.6756e+00      2.56e-05       1.47e+01       5.22e-02    \n",
      "      17             22         5.6754e+00      2.01e-04       3.67e+00       6.73e-04    \n",
      "      18             23         5.6753e+00      6.18e-05       7.34e+00       7.09e-03    \n",
      "      19             24         5.6753e+00      6.25e-05       1.47e+01       2.36e-02    \n",
      "      20             25         5.6751e+00      1.12e-04       1.47e+01       1.46e-02    \n",
      "      21             27         5.6751e+00      5.92e-05       7.34e+00       1.49e-03    \n",
      "      22             28         5.6750e+00      5.16e-05       1.47e+01       9.21e-03    \n",
      "      23             29         5.6750e+00      5.81e-05       1.47e+01       6.04e-03    \n",
      "      24             30         5.6750e+00      2.37e-05       2.94e+01       1.81e-02    \n",
      "      25             31         5.6749e+00      8.13e-05       7.34e+00       6.78e-04    \n",
      "      26             32         5.6748e+00      2.92e-05       1.47e+01       2.56e-03    \n",
      "      27             33         5.6748e+00      3.50e-05       2.94e+01       7.68e-03    \n",
      "      28             34         5.6748e+00      5.15e-05       2.94e+01       4.15e-03    \n",
      "      29             35         5.6748e+00      7.11e-08       5.87e+01       1.16e-02    \n",
      "      30             36         5.6747e+00      7.80e-05       1.47e+01       5.25e-04    \n",
      "      31             37         5.6747e+00      1.98e-05       2.94e+01       1.53e-03    \n",
      "      32             38         5.6746e+00      2.22e-05       5.87e+01       4.04e-03    \n",
      "      33             39         5.6746e+00      3.53e-05       5.87e+01       1.92e-03    \n",
      "      34             40         5.6746e+00      2.18e-06       1.17e+02       5.12e-03    \n",
      "      35             41         5.6745e+00      4.60e-05       2.94e+01       2.21e-04    \n",
      "      36             42         5.6745e+00      1.19e-05       5.87e+01       6.36e-04    \n",
      "      37             43         5.6745e+00      1.44e-05       1.17e+02       1.55e-03    \n",
      "      38             44         5.6745e+00      1.96e-05       1.17e+02       6.77e-04    \n",
      "      39             45         5.6745e+00      6.82e-06       2.35e+02       1.75e-03    \n",
      "      40             46         5.6745e+00      1.96e-05       5.87e+01       6.99e-05    \n",
      "      41             47         5.6745e+00      6.67e-06       1.17e+02       2.08e-04    \n",
      "      42             48         5.6745e+00      8.90e-06       2.35e+02       4.89e-04    \n",
      "      43             49         5.6745e+00      9.72e-06       2.35e+02       2.04e-04    \n",
      "      44             50         5.6744e+00      6.58e-06       4.70e+02       5.17e-04    \n",
      "      45             51         5.6744e+00      1.17e-05       4.70e+02       1.60e-04    \n",
      "      46             52         5.6744e+00      4.15e-06       9.40e+02       3.41e-04    \n",
      "      47             53         5.6744e+00      1.06e-05       9.40e+02       7.87e-05    \n",
      "      48             54         5.6744e+00      3.16e-06       1.88e+03       1.52e-04    \n",
      "      49             55         5.6744e+00      6.67e-06       1.88e+03       2.76e-05    \n",
      "      50             56         5.6744e+00      2.43e-06       3.76e+03       6.92e-05    \n",
      "      51             57         5.6744e+00      3.27e-06       3.76e+03       1.39e-05    \n",
      "      52             58         5.6744e+00      1.61e-06       7.52e+03       3.89e-05    \n",
      "      53             59         5.6744e+00      1.46e-06       7.52e+03       7.14e-06    \n",
      "      54             60         5.6744e+00      9.37e-07       1.50e+04       2.06e-05    \n",
      "      55             61         5.6744e+00      6.51e-07       1.50e+04       3.57e-06    \n",
      "      56             62         5.6744e+00      5.06e-07       3.01e+04       1.06e-05    \n",
      "      57             63         5.6744e+00      3.02e-07       3.01e+04       1.77e-06    \n",
      "      58             64         5.6744e+00      2.64e-07       6.01e+04       5.33e-06    \n",
      "      59             65         5.6744e+00      1.44e-07       6.01e+04       8.11e-07    \n",
      "      60             66         5.6744e+00      1.34e-07       1.20e+05       2.93e-06    \n",
      "      61             67         5.6744e+00      7.08e-08       1.20e+05       3.87e-07    \n",
      "      62             68         5.6744e+00      6.79e-08       2.41e+05       1.39e-06    \n",
      "      63             69         5.6744e+00      5.48e-08       4.81e+05       1.36e-06    \n",
      "`ftol` termination condition is satisfied.\n",
      "Function evaluations 69, initial cost 2.7056e+01, final cost 5.6744e+00, first-order optimality 1.36e-06.\n"
     ]
    }
   ],
   "source": [
    "res_lsq = scipy.optimize.least_squares(fun, x0, args=(t_train, y_train),verbose=2)"
   ]
  },
  {
   "cell_type": "code",
   "execution_count": 8,
   "id": "bf62e7f8",
   "metadata": {},
   "outputs": [
    {
     "name": "stderr",
     "output_type": "stream",
     "text": [
      "/opt/anaconda3/lib/python3.7/site-packages/ipykernel_launcher.py:8: RuntimeWarning: overflow encountered in exp\n",
      "  \n"
     ]
    },
    {
     "data": {
      "image/png": "[encoded data removed]",
      "text/plain": [
       "<Figure size 432x288 with 1 Axes>"
      ]
     },
     "metadata": {
      "needs_background": "light"
     },
     "output_type": "display_data"
    }
   ],
   "source": [
    "t_test = np.linspace(t_min, t_max, n_points * 10)\n",
    "y_true = gen_data(t_test, a, b, c)\n",
    "y_lsq = gen_data(t_test, *res_lsq.x)\n",
    "\n",
    "plt.plot(t_train, y_train, 'o')\n",
    "plt.plot(t_test, y_true, 'k', linewidth=2, label='true')\n",
    "plt.plot(t_test, y_lsq, label='linear loss')\n",
    "plt.xlabel(\"t\")\n",
    "plt.ylabel(\"y\")\n",
    "plt.legend()\n",
    "plt.show()"
   ]
  },
  {
   "cell_type": "markdown",
   "id": "837eed50",
   "metadata": {},
   "source": [
    "## Section 3:/ Using lmfit \n",
    "The lmfit package is documented here [lmfit](https://lmfit.github.io/lmfit-py/). \n",
    "The example shown here is taken from the page [example of usage of lmfit](https://stackoverflow.com/questions/11278836/fitting-data-to-system-of-odes-using-python-via-scipy-numpy). "
   ]
  },
  {
   "cell_type": "code",
   "execution_count": 8,
   "id": "ff6971f6",
   "metadata": {},
   "outputs": [
    {
     "name": "stdout",
     "output_type": "stream",
     "text": [
      "[[Fit Statistics]]\n",
      "    # fitting method   = leastsq\n",
      "    # function evals   = 16\n",
      "    # data points      = 10\n",
      "    # variables        = 2\n",
      "    chi-square         = 0.00505747\n",
      "    reduced chi-square = 6.3218e-04\n",
      "    Akaike info crit   = -71.8947443\n",
      "    Bayesian info crit = -71.2895741\n",
      "[[Variables]]\n",
      "    x10:  5 (fixed)\n",
      "    x20:  0 (fixed)\n",
      "    x30:  0 (fixed)\n",
      "    k0:   0.12183302 +/- 0.00590992 (4.85%) (init = 0.2)\n",
      "    k1:   0.77583947 +/- 0.02663942 (3.43%) (init = 0.3)\n",
      "[[Correlations]] (unreported correlations are < 0.100)\n",
      "    C(k0, k1) = 0.809\n"
     ]
    },
    {
     "data": {
      "image/png": "[encoded data removed]",
      "text/plain": [
       "<Figure size 432x288 with 1 Axes>"
      ]
     },
     "metadata": {
      "needs_background": "light"
     },
     "output_type": "display_data"
    }
   ],
   "source": [
    "import numpy as np\n",
    "import matplotlib.pyplot as plt\n",
    "from scipy.integrate import odeint\n",
    "from lmfit import minimize, Parameters, Parameter, report_fit\n",
    "from scipy.integrate import odeint\n",
    "\n",
    "\n",
    "def f(y, t, paras):\n",
    "    \"\"\"\n",
    "    Your system of differential equations\n",
    "    \"\"\"\n",
    "\n",
    "    x1 = y[0]\n",
    "    x2 = y[1]\n",
    "    x3 = y[2]\n",
    "\n",
    "    try:\n",
    "        k0 = paras['k0'].value\n",
    "        k1 = paras['k1'].value\n",
    "\n",
    "    except KeyError:\n",
    "        k0, k1 = paras\n",
    "    # the model equations\n",
    "    f0 = -k0 * x1\n",
    "    f1 = k0 * x1 - k1 * x2\n",
    "    f2 = k1 * x2\n",
    "    return [f0, f1, f2]\n",
    "\n",
    "def g(t, x0, paras):\n",
    "    \"\"\"\n",
    "    Solution to the ODE x'(t) = f(t,x,k) with initial condition x(0) = x0\n",
    "    \"\"\"\n",
    "    x = odeint(f, x0, t, args=(paras,))\n",
    "    return x\n",
    "\n",
    "\n",
    "def residual(paras, t, data):\n",
    "\n",
    "    \"\"\"\n",
    "    compute the residual between actual data and fitted data\n",
    "    \"\"\"\n",
    "\n",
    "    x0 = paras['x10'].value, paras['x20'].value, paras['x30'].value\n",
    "    model = g(t, x0, paras)\n",
    "\n",
    "    # you only have data for one of your variables\n",
    "    x2_model = model[:, 1]\n",
    "    return (x2_model - data).ravel()\n",
    "\n",
    "\n",
    "# initial conditions\n",
    "x10 = 5.\n",
    "x20 = 0\n",
    "x30 = 0\n",
    "y0 = [x10, x20, x30]\n",
    "\n",
    "# measured data\n",
    "t_measured = np.linspace(0, 9, 10)\n",
    "x2_measured = np.array([0.000, 0.416, 0.489, 0.595, 0.506, 0.493, 0.458, 0.394, 0.335, 0.309])\n",
    "\n",
    "plt.figure()\n",
    "plt.scatter(t_measured, x2_measured, marker='o', color='b', label='measured data', s=75)\n",
    "\n",
    "# set parameters including bounds; you can also fix parameters (use vary=False)\n",
    "params = Parameters()\n",
    "params.add('x10', value=x10, vary=False)\n",
    "params.add('x20', value=x20, vary=False)\n",
    "params.add('x30', value=x30, vary=False)\n",
    "params.add('k0', value=0.2, min=0.0001, max=2.)\n",
    "params.add('k1', value=0.3, min=0.0001, max=2.)\n",
    "\n",
    "# fit model\n",
    "result = minimize(residual, params, args=(t_measured, x2_measured), method='leastsq')  # leastsq nelder\n",
    "# check results of the fit\n",
    "data_fitted = g(np.linspace(0., 9., 100), y0, result.params)\n",
    "\n",
    "# plot fitted data\n",
    "plt.plot(np.linspace(0., 9., 100), data_fitted[:, 1], '-', linewidth=2, color='red', label='fitted data')\n",
    "plt.legend()\n",
    "plt.xlim([0, max(t_measured)])\n",
    "plt.ylim([0, 1.1 * max(data_fitted[:, 1])])\n",
    "# display fitted statistics\n",
    "report_fit(result)\n",
    "\n",
    "plt.show()"
   ]
  },
  {
   "cell_type": "code",
   "execution_count": null,
   "id": "65d8d2e6",
   "metadata": {},
   "outputs": [],
   "source": []
  },
  {
   "cell_type": "code",
   "execution_count": null,
   "id": "cd107f15",
   "metadata": {},
   "outputs": [],
   "source": []
  }
 ],
 "metadata": {
  "kernelspec": {
   "display_name": "Python 3",
   "language": "python",
   "name": "python3"
  },
  "language_info": {
   "codemirror_mode": {
    "name": "ipython",
    "version": 3
   },
   "file_extension": ".py",
   "mimetype": "text/x-python",
   "name": "python",
   "nbconvert_exporter": "python",
   "pygments_lexer": "ipython3",
   "version": "3.7.10"
  }
 },
 "nbformat": 4,
 "nbformat_minor": 5
}
