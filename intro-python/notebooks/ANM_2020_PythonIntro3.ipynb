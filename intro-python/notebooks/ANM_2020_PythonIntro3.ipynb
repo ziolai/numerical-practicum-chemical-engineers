{
 "cells": [
  {
   "cell_type": "markdown",
   "metadata": {},
   "source": [
    "# 3/4: Conditional statements, loops, vectorization and function handles"
   ]
  },
  {
   "cell_type": "markdown",
   "metadata": {},
   "source": [
    "## Import Libraries"
   ]
  },
  {
   "cell_type": "code",
   "execution_count": 1,
   "metadata": {},
   "outputs": [
    {
     "name": "stdout",
     "output_type": "stream",
     "text": [
      "Succesfully imported numpy -- Version: 1.15.0\n",
      "Succesfully imported scipy -- Version: 1.1.0\n",
      "Succesfully imported matplotlib.pyplot\n",
      "Succesfully imported pandas -- Version: 0.23.3\n",
      "Succesfully imported sympy -- Version: 1.2\n",
      "Succesfully imported scipy.optimize\n"
     ]
    }
   ],
   "source": [
    "import numpy as np\n",
    "print(\"Succesfully imported %s -- Version: %s\"%(np.__name__,np.__version__))\n",
    "import scipy\n",
    "print(\"Succesfully imported %s -- Version: %s\"%(scipy.__name__,scipy.__version__))\n",
    "import matplotlib.pyplot as plt\n",
    "print(\"Succesfully imported %s\"%plt.__name__)\n",
    "import pandas as pd\n",
    "print(\"Succesfully imported %s -- Version: %s\"%(pd.__name__,pd.__version__))\n",
    "import sympy as sym \n",
    "print(\"Succesfully imported %s -- Version: %s\"%(sym.__name__,sym.__version__))\n",
    "from scipy import optimize\n",
    "print(\"Succesfully imported %s\"%optimize.__name__)"
   ]
  },
  {
   "cell_type": "markdown",
   "metadata": {},
   "source": [
    "## Conditional Statements \n",
    "• Try using if and if-else statements to solve a complex problem of your preference."
   ]
  },
  {
   "cell_type": "code",
   "execution_count": null,
   "metadata": {},
   "outputs": [],
   "source": []
  },
  {
   "cell_type": "markdown",
   "metadata": {},
   "source": [
    "## Using the for-loop"
   ]
  },
  {
   "cell_type": "markdown",
   "metadata": {},
   "source": [
    "• Compute the first ninety (90) Fibionacci numbers. These numbers are defined as x(1) = 1; x(2) =1; x(k) = x(k-1) + x(k-2) for k larger than or equal to 3. Use a for-loop over k. Compute for the last five (5) values of k the ratio x(k+1)/x(k). Compare this value with the value of the so-called Golden Ratio defined as (1 + np.sqrt(5))/2. "
   ]
  },
  {
   "cell_type": "code",
   "execution_count": null,
   "metadata": {
    "scrolled": true
   },
   "outputs": [],
   "source": []
  },
  {
   "cell_type": "markdown",
   "metadata": {},
   "source": [
    "## Compute pi \n",
    "\n",
    "• The value of pi can be defined as the ratio of two surface areas. The first surface area is the area of a disk with radius R. The second surface area is the area of a square with side 2R. The first area is equal to pi * R^2. The second area is equal to 4 * R^2. The ratio of the surface area is indeed equal to (pi * R^2) / (4 * R^2) = pi/4. This ratio can be used to compute pi by random sampling. \n",
    "\n",
    "Proceed to this end by selecting random points in the square with side R. Mark for each point whether the point lies inside of the disk with radius R or inside of the square with side 2 * R. Compute the ratio of points inside of the disk and inside of the square.  \n"
   ]
  },
  {
   "cell_type": "code",
   "execution_count": null,
   "metadata": {
    "scrolled": true
   },
   "outputs": [],
   "source": []
  },
  {
   "cell_type": "markdown",
   "metadata": {},
   "source": [
    "## Summations \n",
    "\n",
    "The geometric sequence with ratio r is defined as: $$\\sum_{k=0}^{\\infty} r^k$$ Write a Python code that sums the first N+1 terms of this sequence, and that returns as output: $$S =  \\sum_{k=0}^{N+1} r^k$$ Assume that N=10 and r=0.5. Proceed in two ways.\n",
    "    \n",
    "• In the first way, use a for-loop.\n"
   ]
  },
  {
   "cell_type": "code",
   "execution_count": null,
   "metadata": {},
   "outputs": [],
   "source": []
  },
  {
   "cell_type": "markdown",
   "metadata": {},
   "source": [
    "• In the second way, first use a vector R of N+1 components to store the individual terms r^k for 0 <= k <=N. This means that R(k) = r^{k}. Observe that Python starts numbering from 0. Next use the np.sum() command to sum up all the components of R. "
   ]
  },
  {
   "cell_type": "code",
   "execution_count": null,
   "metadata": {},
   "outputs": [],
   "source": []
  },
  {
   "cell_type": "markdown",
   "metadata": {},
   "source": [
    "## Some more plotting\n",
    "\n",
    "• Plot the functions exp(x), cosh(x), sinh(x) and tanh(x) for -1 <= x <= 1 in a single figure. Use a grid spacing in x of 0.01. Use different symbols for the different graphs. Label the axis using a fontsize of 12 pnt. Add a title using a fontsize of 14 pnt.\n"
   ]
  },
  {
   "cell_type": "code",
   "execution_count": null,
   "metadata": {},
   "outputs": [],
   "source": []
  },
  {
   "cell_type": "markdown",
   "metadata": {},
   "source": [
    "• Plot a second figure in which the four graphs are shown in four subfigures. Use the function plt.subplot() to this end. "
   ]
  },
  {
   "cell_type": "code",
   "execution_count": null,
   "metadata": {},
   "outputs": [],
   "source": []
  },
  {
   "cell_type": "markdown",
   "metadata": {},
   "source": [
    "## Loops \n",
    "\n",
    "\n",
    "• Try to learn about for loops and how to avoid them. Execute examples of factorial.\n"
   ]
  },
  {
   "cell_type": "code",
   "execution_count": null,
   "metadata": {},
   "outputs": [],
   "source": []
  },
  {
   "cell_type": "markdown",
   "metadata": {},
   "source": [
    "• Try nested for loops."
   ]
  },
  {
   "cell_type": "code",
   "execution_count": 2,
   "metadata": {},
   "outputs": [],
   "source": [
    "# try any example"
   ]
  },
  {
   "cell_type": "markdown",
   "metadata": {},
   "source": [
    "• Try out using doing some of the same things this time using while loops."
   ]
  },
  {
   "cell_type": "code",
   "execution_count": 3,
   "metadata": {},
   "outputs": [],
   "source": [
    "# any example"
   ]
  },
  {
   "cell_type": "markdown",
   "metadata": {},
   "source": [
    " ## Function handle (lambda function)\n",
    " \n",
    "• Example: Type: myfun = lambda x: x ** 2 - 3 * x + 2  \n",
    "\n",
    "Observe that x^2 -3x +2 = (x-1)*(x-2); that is, the function has roots in x=1 and x=2.  \n",
    "\n",
    "Then myfun is a function handle which can be used to evaluate the function on an argument. Type: myfun(5) and see what you    get. \n",
    "\n",
    "The function handle allows you to pass the function as argument to other functions. This is a valuable construction in many applications.\n"
   ]
  },
  {
   "cell_type": "code",
   "execution_count": null,
   "metadata": {},
   "outputs": [],
   "source": []
  }
 ],
 "metadata": {
  "kernelspec": {
   "display_name": "Python 3",
   "language": "python",
   "name": "python3"
  },
  "language_info": {
   "codemirror_mode": {
    "name": "ipython",
    "version": 3
   },
   "file_extension": ".py",
   "mimetype": "text/x-python",
   "name": "python",
   "nbconvert_exporter": "python",
   "pygments_lexer": "ipython3",
   "version": "3.7.10"
  },
  "latex_envs": {
   "LaTeX_envs_menu_present": true,
   "autoclose": false,
   "autocomplete": true,
   "bibliofile": "biblio.bib",
   "cite_by": "apalike",
   "current_citInitial": 1,
   "eqLabelWithNumbers": true,
   "eqNumInitial": 1,
   "hotkeys": {
    "equation": "Ctrl-E",
    "itemize": "Ctrl-I"
   },
   "labels_anchors": false,
   "latex_user_defs": false,
   "report_style_numbering": false,
   "user_envs_cfg": false
  }
 },
 "nbformat": 4,
 "nbformat_minor": 2
}
