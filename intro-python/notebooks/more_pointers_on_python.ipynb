{
 "cells": [
  {
   "cell_type": "markdown",
   "id": "53e87778",
   "metadata": {},
   "source": [
    "# CH3133: Numerical Practicum 2022 - Pointers on Python"
   ]
  },
  {
   "cell_type": "markdown",
   "id": "be477348",
   "metadata": {},
   "source": [
    "[Talk: 25 nooby Python habits you need to ditch](https://www.youtube.com/watch?v=qUeud6DvOWI)\n",
    "\n",
    "1. 00:25: Manual string formatting\n",
    "2. 00:36: Manually closing a file\n",
    "3. 00:53: Using \"try:\" and \"finally:\" instead of a context manager\n",
    "4. 01:07: Using a bare \"except:\" clause\n",
    "5. 01:32: Thinking that \"^\" in python means exponentiation (it's a bitwise XOR, exponentiation is \"a ** b\")\n",
    "6. 01:42: Use of default mutable arguments\n",
    "7. 02:07: Never using comprehensions, or only using list comprehensions\n",
    "8. 02:24: ALWAYS using comprehensions\n",
    "9. 02:50: Checking for a type using \"==\"\n",
    "10. 03:23: Using \"==\" to check for None, True, or False\n",
    "11. 03:37: Using an \"if bool(x):\" or \"if len(x)\" check\n",
    "12. 03:51: Using the \"range(len(a))\" idiom\n",
    "13. 04:30: Looping over the keys of a dictionary\n",
    "14. 04:48: Not knowing about the dictionary items methods\n",
    "15. 05:01: Not using tuple unpacking\n",
    "16. 05:11: Creating your own index counter variable\n",
    "17. 05:21: Using \"time.time()\"\" to time things\n",
    "18. 05:43: Littering your code with print statements instead of using the logging module\n",
    "19. 05:59: Using \"shell = True\" on any function in the subprocess library\n",
    "20. 06:13: Doing maths or any kind of data analysis in Python\n",
    "21. 06:23: Using \"import *\" outside of an interactive session\n",
    "22. 06:33: Depending on a specific directory structure for your project\n",
    "23. 07:07: The common misconception that Python is not compiled\n",
    "24. 07:34: Not following PEP 8\n",
    "25. 07:56: Doing anything to do with Python 2"
   ]
  },
  {
   "cell_type": "markdown",
   "id": "27662d7f",
   "metadata": {},
   "source": [
    "## Numpy vs. Scipy \n",
    "[explanation on stackoverflow](https://stackoverflow.com/questions/6200910/relationship-between-scipy-and-numpy?rq=1)"
   ]
  },
  {
   "cell_type": "markdown",
   "id": "d051067c",
   "metadata": {},
   "source": [
    "## Linear Regression in Python"
   ]
  },
  {
   "cell_type": "markdown",
   "id": "410540ea",
   "metadata": {},
   "source": [
    "[Linear Regression in Python on Real Python](https://realpython.com/linear-regression-in-python/?utm_source=notification_summary&utm_medium=email&utm_campaign=2022-05-16)"
   ]
  },
  {
   "cell_type": "code",
   "execution_count": null,
   "id": "a3c4ec5a",
   "metadata": {},
   "outputs": [],
   "source": []
  }
 ],
 "metadata": {
  "kernelspec": {
   "display_name": "Python 3",
   "language": "python",
   "name": "python3"
  },
  "language_info": {
   "codemirror_mode": {
    "name": "ipython",
    "version": 3
   },
   "file_extension": ".py",
   "mimetype": "text/x-python",
   "name": "python",
   "nbconvert_exporter": "python",
   "pygments_lexer": "ipython3",
   "version": "3.7.10"
  }
 },
 "nbformat": 4,
 "nbformat_minor": 5
}
