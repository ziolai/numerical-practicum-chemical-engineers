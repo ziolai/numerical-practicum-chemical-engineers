{
 "cells": [
  {
   "cell_type": "markdown",
   "metadata": {},
   "source": [
    "# 2/4: Functions, Particular Matrices, Matrix-Vector Operations, Linear Systems and more plotting"
   ]
  },
  {
   "cell_type": "markdown",
   "metadata": {},
   "source": [
    "This is the second in a series of four Jupyter notebooks on the use of Python. The scope is to introduce user-defined functions,  matrix-vector operations, linear system solving and more plotting functionality. Remember that you are not in a race to finish the assignments in this notebook. You are rather on a road-trip to discover sites in Python land. Please get in touch in case you find something particularly interesting.    "
   ]
  },
  {
   "cell_type": "markdown",
   "metadata": {},
   "source": [
    "## Import Libraries"
   ]
  },
  {
   "cell_type": "code",
   "execution_count": 1,
   "metadata": {},
   "outputs": [
    {
     "name": "stdout",
     "output_type": "stream",
     "text": [
      "Succesfully imported numpy -- Version: 1.18.1\n",
      "Succesfully imported scipy -- Version: 1.4.1\n",
      "Succesfully imported matplotlib.pyplot\n",
      "Succesfully imported pandas -- Version: 1.0.1\n",
      "Succesfully imported sympy -- Version: 1.5.1\n",
      "Succesfully imported scipy.optimize\n"
     ]
    }
   ],
   "source": [
    "import numpy as np\n",
    "print(\"Succesfully imported %s -- Version: %s\"%(np.__name__,np.__version__))\n",
    "import scipy\n",
    "print(\"Succesfully imported %s -- Version: %s\"%(scipy.__name__,scipy.__version__))\n",
    "import matplotlib.pyplot as plt\n",
    "print(\"Succesfully imported %s\"%plt.__name__)\n",
    "import pandas as pd\n",
    "print(\"Succesfully imported %s -- Version: %s\"%(pd.__name__,pd.__version__))\n",
    "import sympy as sym \n",
    "print(\"Succesfully imported %s -- Version: %s\"%(sym.__name__,sym.__version__))\n",
    "from scipy import optimize\n",
    "print(\"Succesfully imported %s\"%optimize.__name__)"
   ]
  },
  {
   "cell_type": "markdown",
   "metadata": {},
   "source": [
    "## Functions"
   ]
  },
  {
   "cell_type": "markdown",
   "metadata": {},
   "source": [
    "• So far you have used functions like print() and help() which are Built-in functions.\n",
    "Now you will learn how create your own User Defined Function(UDF). For example:"
   ]
  },
  {
   "cell_type": "code",
   "execution_count": 2,
   "metadata": {},
   "outputs": [],
   "source": [
    "# Syntax is def function_name(input(s)):\n",
    "#               code code\n",
    "#               return output \n",
    "\n",
    "def multiply_two_numbers(a,b):\n",
    "    c=a*b\n",
    "    return c"
   ]
  },
  {
   "cell_type": "markdown",
   "metadata": {},
   "source": [
    "Now try to call the UDF multiply_two_numbers(a,b) to get the product of any two numbers a and b below. "
   ]
  },
  {
   "cell_type": "code",
   "execution_count": null,
   "metadata": {
    "scrolled": true
   },
   "outputs": [],
   "source": []
  },
  {
   "cell_type": "markdown",
   "metadata": {},
   "source": [
    "See more examples on https://www.learnpython.org/en/Functions"
   ]
  },
  {
   "cell_type": "markdown",
   "metadata": {},
   "source": [
    "• Define a function poisson1d() which takes an input N and generates a 1D poisson matrix A. Also test it and see the output."
   ]
  },
  {
   "cell_type": "code",
   "execution_count": null,
   "metadata": {},
   "outputs": [],
   "source": []
  },
  {
   "cell_type": "markdown",
   "metadata": {},
   "source": [
    "• Define a function poisson2d() that takes as input N generates the 2D Poisson matrix B. Also test it and see the output."
   ]
  },
  {
   "cell_type": "code",
   "execution_count": null,
   "metadata": {},
   "outputs": [],
   "source": []
  },
  {
   "cell_type": "markdown",
   "metadata": {},
   "source": [
    "## Local and Global Variables"
   ]
  },
  {
   "cell_type": "markdown",
   "metadata": {},
   "source": [
    "Local variables can only be used within the scope whereas global variables can be accessed from anywhere. For instance, in the example below, a and b are both used inside the function but only a exists outside the function as it is declared as a global variable. Thus, the code returns an error when b is to be printed."
   ]
  },
  {
   "cell_type": "code",
   "execution_count": 5,
   "metadata": {},
   "outputs": [
    {
     "name": "stdout",
     "output_type": "stream",
     "text": [
      "15\n",
      "10\n",
      "5\n"
     ]
    }
   ],
   "source": [
    "\n",
    "def myfunction():\n",
    "    global a\n",
    "    a=10;\n",
    "    b=5\n",
    "    c=a+b\n",
    "    return c\n",
    "\n",
    "c=myfunction()\n",
    "print(c)\n",
    "print(a)\n",
    "print(b)"
   ]
  },
  {
   "cell_type": "markdown",
   "metadata": {},
   "source": [
    "## Permutation Matrices"
   ]
  },
  {
   "cell_type": "markdown",
   "metadata": {},
   "source": [
    "Permutation matrices will be valuable to have in context of solving linear systems. \n",
    "• Given the matrix  A =  np.array([[1, 2, 3], [2, 4, 8],[ 3, 9, 27]]) and the matrix P = np.array([[0, 1, 0], [1, 0, 0], [0, 0, 1]]), compute the matrix C = np.dot(P,A) and the matrix C = np.dot(A,P). Explain what the effect in both cases is."
   ]
  },
  {
   "cell_type": "code",
   "execution_count": null,
   "metadata": {},
   "outputs": [],
   "source": []
  },
  {
   "cell_type": "markdown",
   "metadata": {},
   "source": [
    "• Given the matrix P =  np.array([[0, 1, 0], [1, 0, 0], [0, 0, 1]]), compute the matrix C = np.dot(P,P). Explain your findings. "
   ]
  },
  {
   "cell_type": "code",
   "execution_count": null,
   "metadata": {},
   "outputs": [],
   "source": []
  },
  {
   "cell_type": "markdown",
   "metadata": {},
   "source": [
    "• Give a 3-by-3 permutation matrix that can interchange the first and last row of A."
   ]
  },
  {
   "cell_type": "code",
   "execution_count": null,
   "metadata": {},
   "outputs": [],
   "source": []
  },
  {
   "cell_type": "markdown",
   "metadata": {},
   "source": [
    "## Solving Linear Systems"
   ]
  },
  {
   "cell_type": "markdown",
   "metadata": {},
   "source": [
    "Given the matrix  A =  np.array([[1, 2, 3],[2, 4, 8],[3, 9, 27]]) and the vector b =  np.array([[1],[1],[1]]), solve the linear system Ax = b for the unknown vector x using the np.linalg.solve function. "
   ]
  },
  {
   "cell_type": "markdown",
   "metadata": {},
   "source": [
    "See help(np.linalg.solve) and then take a look at https://numpy.org/doc/stable/reference/generated/numpy.linalg.solve.html?highlight=linalg%20solve#numpy.linalg.solve to properly understand how this function works."
   ]
  },
  {
   "cell_type": "code",
   "execution_count": null,
   "metadata": {},
   "outputs": [],
   "source": []
  },
  {
   "cell_type": "markdown",
   "metadata": {},
   "source": [
    "• Check the answer by computing the product of A and x and comparing the result of this product with the vector b."
   ]
  },
  {
   "cell_type": "code",
   "execution_count": null,
   "metadata": {},
   "outputs": [],
   "source": []
  },
  {
   "cell_type": "markdown",
   "metadata": {},
   "source": [
    "• Given the matrix  A =  np.array([[1, 2, 3],[2, 4, 8],[3, 9, 27]]), compute the PLU decomposition of the matrix A using the scipy.linalg.lu (see “help(scipy.linalg.lu)\"). Explain the matrix structure you observe in L and U. Make a plot of the structure of the matrices L and U using the plt.spy(scipy.sparse.csr_matrix(x)) function (Check \"help(plt.spy)\")."
   ]
  },
  {
   "cell_type": "code",
   "execution_count": null,
   "metadata": {},
   "outputs": [],
   "source": []
  },
  {
   "cell_type": "markdown",
   "metadata": {},
   "source": [
    "• Given vector b =  np.array([[1],[1],[1]]), use the matrices P, L and U to solve the linear system Ax = b for the unknown vector x. Compare your answer for x with the previous exercise."
   ]
  },
  {
   "cell_type": "code",
   "execution_count": null,
   "metadata": {},
   "outputs": [],
   "source": []
  },
  {
   "cell_type": "markdown",
   "metadata": {},
   "source": [
    "• Given the matrix  A =  np.array([[1, 2, 3],[2, 4, 8],[3, 9, 27]]) and the vector b =  np.array([[1],[1],[1]]), compute the inverse of the matrix A using the np.linalg.inv (see “help(np.linalg.inv)”). Use the inverse of A to compute the solution of the linear system A x = b for the unknown x. Compare your answer for x with the previous exercise."
   ]
  },
  {
   "cell_type": "code",
   "execution_count": null,
   "metadata": {},
   "outputs": [],
   "source": []
  },
  {
   "cell_type": "markdown",
   "metadata": {},
   "source": [
    "• Next use the matrices P, L and U to solve the linear system Ax = b for the unknown vector x using the np.linalg.inv function. Compare your answer with the previous exercise."
   ]
  },
  {
   "cell_type": "code",
   "execution_count": null,
   "metadata": {},
   "outputs": [],
   "source": []
  },
  {
   "cell_type": "markdown",
   "metadata": {},
   "source": [
    "## Solving linear systems with the 1D Poisson Matrix "
   ]
  },
  {
   "cell_type": "markdown",
   "metadata": {
    "scrolled": true
   },
   "source": [
    "• Set N = 16 and then generate for this value of N the one-dimensional Poisson matrix A ."
   ]
  },
  {
   "cell_type": "code",
   "execution_count": null,
   "metadata": {},
   "outputs": [],
   "source": []
  },
  {
   "cell_type": "markdown",
   "metadata": {},
   "source": [
    "• Define a right-hand side vector b = np.ones((N+1,1))."
   ]
  },
  {
   "cell_type": "code",
   "execution_count": null,
   "metadata": {},
   "outputs": [],
   "source": []
  },
  {
   "cell_type": "markdown",
   "metadata": {},
   "source": [
    "• Solve for this value of N the linear system A x = b for x using the np.linalg.solve command."
   ]
  },
  {
   "cell_type": "code",
   "execution_count": null,
   "metadata": {},
   "outputs": [],
   "source": []
  },
  {
   "cell_type": "markdown",
   "metadata": {},
   "source": [
    "• Solve for this value of N the linear system A x = b for x using the PLU-factorization of the matrix A."
   ]
  },
  {
   "cell_type": "code",
   "execution_count": null,
   "metadata": {},
   "outputs": [],
   "source": []
  },
  {
   "cell_type": "markdown",
   "metadata": {},
   "source": [
    "• Use the command plt.spy to plot the non-zero structure of the matrix L and U."
   ]
  },
  {
   "cell_type": "code",
   "execution_count": null,
   "metadata": {},
   "outputs": [],
   "source": []
  },
  {
   "cell_type": "markdown",
   "metadata": {},
   "source": [
    "• Solve the linear system A x = b for x using the np.linalg.inv command."
   ]
  },
  {
   "cell_type": "code",
   "execution_count": null,
   "metadata": {},
   "outputs": [],
   "source": []
  },
  {
   "cell_type": "markdown",
   "metadata": {},
   "source": [
    "• Use the command plt.spy to plot the non-zero structure of inverse of A."
   ]
  },
  {
   "cell_type": "code",
   "execution_count": null,
   "metadata": {},
   "outputs": [],
   "source": []
  },
  {
   "cell_type": "markdown",
   "metadata": {},
   "source": [
    "• Repeat the above steps for N = 32. "
   ]
  },
  {
   "cell_type": "code",
   "execution_count": null,
   "metadata": {},
   "outputs": [],
   "source": []
  },
  {
   "cell_type": "markdown",
   "metadata": {},
   "source": [
    "Please observe that the inverse of A is dense even though A is sparse    "
   ]
  },
  {
   "cell_type": "markdown",
   "metadata": {},
   "source": [
    "## Solving the 1D Poisson differential equation symbolically"
   ]
  },
  {
   "cell_type": "code",
   "execution_count": null,
   "metadata": {},
   "outputs": [],
   "source": [
    "from sympy import Function, dsolve, symbols, Eq, Derivative"
   ]
  },
  {
   "cell_type": "code",
   "execution_count": null,
   "metadata": {},
   "outputs": [],
   "source": [
    "# Trying to solve the Poisson equation symbolically as a reference \n",
    "# Still need to work on handling the boundary conditions and plotting the solution\n",
    "# This is valuable to have for ordinary differential equations as well \n",
    "# Possibly the version of sympy needs to be upgraded to the most recent version \n",
    "x = symbols('x')\n",
    "u = symbols('u', cls=Function)\n",
    "ics = {u(0):0}\n",
    "eq = Eq(Derivative(u(x),x),x)\n",
    "dsolve(eq,u(x),ics={u(0):0})"
   ]
  },
  {
   "cell_type": "code",
   "execution_count": null,
   "metadata": {},
   "outputs": [],
   "source": []
  },
  {
   "cell_type": "markdown",
   "metadata": {},
   "source": [
    "## Solving linear systems with the 2D Poisson Matrix "
   ]
  },
  {
   "cell_type": "markdown",
   "metadata": {},
   "source": [
    "• Repeat the previous steps for the two-dimensional Poisson matrix. Explain why solving the linear system using the inverse matrix takes a longer time. "
   ]
  },
  {
   "cell_type": "code",
   "execution_count": null,
   "metadata": {},
   "outputs": [],
   "source": []
  },
  {
   "cell_type": "markdown",
   "metadata": {},
   "source": [
    "## Rank of a Matrix"
   ]
  },
  {
   "cell_type": "markdown",
   "metadata": {},
   "source": [
    "• Given the matrices A =  np.array([[1, 2, 3],[2, 4, 8],[3, 9, 27]]), B =  np.array([[1, 2, 3],[2, 4, 8],[3, 6, 9]]) and C =  np.array([[1, 2, 3],[ 2, 4, 6],[3, 6, 9]]), compute the rank of the matrices A, B and C using the function np.linalg.matrix_rank (see “help(np.linalg.matrix_rank)” for details). Explain your findings. \n",
    "\n",
    "(See https://numpy.org/doc/stable/reference/generated/numpy.linalg.matrix_rank.html for even more information)"
   ]
  },
  {
   "cell_type": "code",
   "execution_count": null,
   "metadata": {},
   "outputs": [],
   "source": []
  },
  {
   "cell_type": "markdown",
   "metadata": {},
   "source": [
    "• Given the column vector a =  np.array([[10], [20], [30]]) and the column vector b =  np.array([[1], [2], [3]]), compute the product of matrix a with the transpose of matrix b (use np.matrix.transpose).\n",
    "Give the rank of this matrix and explain your findings. "
   ]
  },
  {
   "cell_type": "code",
   "execution_count": null,
   "metadata": {},
   "outputs": [],
   "source": []
  },
  {
   "cell_type": "markdown",
   "metadata": {},
   "source": [
    "• Do the same using np.reshape() to obtain a vector and using a single call only. (see \"help(np.reshape)\")."
   ]
  },
  {
   "cell_type": "code",
   "execution_count": null,
   "metadata": {},
   "outputs": [],
   "source": []
  },
  {
   "cell_type": "markdown",
   "metadata": {},
   "source": [
    "• Repeat the same procedure using a double loop over the indexes of the matrix and the vector."
   ]
  },
  {
   "cell_type": "code",
   "execution_count": null,
   "metadata": {},
   "outputs": [],
   "source": []
  },
  {
   "cell_type": "markdown",
   "metadata": {},
   "source": [
    "• Compare CPU time required by np.linalg.solve and the explicit computation of the inverse (np.linalg.inv) for increasingly larger matrices. Take a matrix from a matrix library for instance."
   ]
  },
  {
   "cell_type": "code",
   "execution_count": null,
   "metadata": {},
   "outputs": [],
   "source": []
  },
  {
   "cell_type": "markdown",
   "metadata": {},
   "source": [
    "## Plotting Matrices "
   ]
  },
  {
   "cell_type": "markdown",
   "metadata": {},
   "source": [
    "• Use the Python functions plt.contour(), plt.contourf(), plt.imshow() on matrices and read the documentation on them to see how they work and how to interpret different kinds of plots. Also check out help(plt.colorbar) and see how to use this last function along with the above functions."
   ]
  },
  {
   "cell_type": "code",
   "execution_count": null,
   "metadata": {},
   "outputs": [],
   "source": []
  },
  {
   "cell_type": "markdown",
   "metadata": {},
   "source": [
    "## Operations on Matrices"
   ]
  },
  {
   "cell_type": "markdown",
   "metadata": {},
   "source": [
    "Take a look at the topics listed below too and find out how to address them using Python:"
   ]
  },
  {
   "cell_type": "markdown",
   "metadata": {},
   "source": [
    "• Matrix norms, eigenvalues and condition numbers of D^{-1} A for tridiagonal matrix. Show that the eigenvalues interlace.\n",
    "(Hint: Use help() to find out more about np.linalg.norm)"
   ]
  },
  {
   "cell_type": "markdown",
   "metadata": {},
   "source": [
    "• Plot the eigenvectors of D^{-1} A for tridiagonal matrix for various values of N."
   ]
  },
  {
   "cell_type": "markdown",
   "metadata": {},
   "source": [
    "• LU matrix factorization: LU of tridiagonal and penta-diagonal matrix. Look into L and U factor."
   ]
  },
  {
   "cell_type": "markdown",
   "metadata": {},
   "source": [
    "• QR matrix factorization: QR method to compute eigenvalues (Check out https://docs.scipy.org/doc/scipy/reference/generated/scipy.linalg.qr.html)"
   ]
  },
  {
   "cell_type": "markdown",
   "metadata": {},
   "source": [
    "• SVD decomposition: Check out https://numpy.org/doc/stable/reference/generated/numpy.linalg.svd.html"
   ]
  }
 ],
 "metadata": {
  "kernelspec": {
   "display_name": "Python 3",
   "language": "python",
   "name": "python3"
  },
  "language_info": {
   "codemirror_mode": {
    "name": "ipython",
    "version": 3
   },
   "file_extension": ".py",
   "mimetype": "text/x-python",
   "name": "python",
   "nbconvert_exporter": "python",
   "pygments_lexer": "ipython3",
   "version": "3.7.6"
  },
  "latex_envs": {
   "LaTeX_envs_menu_present": true,
   "autoclose": false,
   "autocomplete": true,
   "bibliofile": "biblio.bib",
   "cite_by": "apalike",
   "current_citInitial": 1,
   "eqLabelWithNumbers": true,
   "eqNumInitial": 1,
   "hotkeys": {
    "equation": "Ctrl-E",
    "itemize": "Ctrl-I"
   },
   "labels_anchors": false,
   "latex_user_defs": false,
   "report_style_numbering": false,
   "user_envs_cfg": false
  }
 },
 "nbformat": 4,
 "nbformat_minor": 2
}
