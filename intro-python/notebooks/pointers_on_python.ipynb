{
 "cells": [
  {
   "cell_type": "markdown",
   "id": "6beaae42",
   "metadata": {},
   "source": [
    "# Pointers on Python Programming "
   ]
  },
  {
   "cell_type": "markdown",
   "id": "efa23e5a",
   "metadata": {},
   "source": [
    "Sections that follow are ordered according to importance. \n",
    "\n",
    "## Section 1/: Python \n",
    "\n",
    "### Our introduction \n",
    "Introduction in Python programming in four parts. Used as reference for future parts of the course. (Encourage TU Delft bachelor students to give Part 4/4 a look?, how to provide opportunity to practice, how do other courses do so?)\n",
    "1. [Part 1/4](intro-python/notebooks/ANM_2020_PythonIntro1.ipynb): introduction; operations of vectors and matrices; plotting; \n",
    "2. [Part 2/4](intro-python/notebooks/ANM_2020_PythonIntro2.ipynb): functions, particular matrices, matrix-vector operations, linear Systems and more plotting;\n",
    "3. [Part 3/4](intro-python/notebooks/ANM_2020_PythonIntro3.ipynb): conditional statements, loops, vectorization and function handles; \n",
    "4. [Part 4/4](intro-python/notebooks/ANM_2020_PythonIntro4.ipynb): non-linear systems, ordinary differential equations, partial differential equations, data and optimization\n",
    "\n",
    "### External Courses \n",
    "1. [Harvard CS50 Week 6 Python](https://cs50.harvard.edu/college/2022/spring/weeks/6/) Elementary \n",
    "2. [Udemy Course](https://www.udemy.com/course/the-python-mega-course/?k_clickid=b80c91fd-6e49-4ad4-a74f-4dad023d04ad_124565424&utm_campaign=NEW-FB-PROS-TECH-ROW-LF-Dev-Python-EN-ALL_._ci_692188_._sl_ALL_._vi_TECH_._sd_All_._la_EN_.&utm_medium=udemyads&utm_source=facebook-row&utm_term=_._ag_NEW-FB-PROS-TECH-ROW-LF-Dev-Python-Affinity-EN-ALL_._ci_692188_._pi_1528203673886358_._gi_all_._ai_18--65_._an_hId26t)\n",
    "3. Various level courses on Linked-Inn \n",
    "\n",
    "### References: \n",
    "1. [Gary Steele's Introduction to Python for Physicists](https://gitlab.tudelft.nl/python-for-applied-physics/practicum-lecture-notes) \n",
    "2. [Top 8 Python Podcasts You Should Be Listening to](https://towardsdatascience.com/top-8-python-podcasts-you-should-be-listening-to-f3bf07974486)\n",
    "3. [Python Tutorials](https://docs.python.org/dev/tutorial/index.html) (need to select appropriate parts)\n",
    "   \n",
    "### Critical Reflections on Python  \n",
    "1. Python + Numpy (patches deficiencies of Python) + Scipy (patches deficiencies of Numpy) creates confusion. Replace by Julia instead.  \n",
    "2. When/how (in case at all) to raise awareness on how to code to obtain computational efficiency? How to discuss avoiding loops? How to vectorize code? What are good examples/practices/tools? What are pitfalls to avoid? How to explain the need for Numpy and Scipy (written in C++) for large scale scientific computing?  \n",
    "3. When/how (in case at all) to address the two language problem, i.e., the fact that the bulk of the computations does not happen in Python, but rather in Fortran or C? (Examples are linear algebra, time stepping and FFT among many others). Do we teach Python initially to reveal the need to switch to non-Python later?   \n",
    "4. When/how (in case at all) to address software development practises? When to introduce object-oriented programming?\n",
    "5. When/how (in case at all) to address parallel computing architectures and/or large data sets? \n",
    "6. [Talk: Anthony Shaw - Why is Python slow?](https://www.youtube.com/watch?v=I4nkgJdVZFA)\n",
    "7. [Talk: Sebastian Witowski - Writing faster Python](https://www.youtube.com/watch?v=YjHsOrOOSuI)\n",
    "8. [Talk: 11 Tips And Tricks To Write Better Python Code](https://www.youtube.com/watch?v=8OKTAedgFYg)\n",
    "9. [Talk: 25 nooby Python habits you need to ditch](https://www.youtube.com/watch?v=qUeud6DvOWI)\n",
    "\n",
    "## Section 2/: Jupyter Notebook\n",
    "- How to guide students into the use of [Jupyter notebooks](https://jupyter.org)? \n",
    "- How to guide TA in the use of [nb-grader](https://nbgrader.readthedocs.io/en/stable/)? Refer them to instructional videos by Gary Steele? \n",
    "\n",
    "## Section 3/: Numpy  \n",
    "1. High level overview: replace Python lists by Numpy vectors, matrices and operations on these objects. \n",
    "2. NumPy uses C-order indexing. That means that the last index usually represents the most rapidly changing memory location, unlike Fortran, where the first index represents the most rapidly changing location in memory. This difference represents a great potential for confusion.\n",
    "3. NumPy uses particular rules for broadcasting. Some documentation is [here](https://numpy.org/doc/stable/reference/generated/numpy.broadcast.html?highlight=broadcast#numpy.broadcast); more documentation is required;\n",
    "4. Numpy documentation hard to read. From the very start, users are confronted with other programming languages;  \n",
    "\n",
    "#### Learning Material \n",
    "1. [NumPy: the absolute basics for beginners](https://numpy.org/doc/stable/user/absolute_beginners.html) compulsory read for all student; copy and paste examples to own note;\n",
    "2. [100 numpy exercises](https://github.com/rougier/numpy-100)\n",
    "3. [NumPy: Fundamentals](https://numpy.org/doc/stable/user/basics.indexing.html): array creation, indexing on ndarrys,broadcasting, unversal function basics; \n",
    "4. [Numpy Tutorial](https://numpy.org/numpy-tutorials/content/tutorial-svd.html): linear algebra on ndarrays; \n",
    "5. [Real Python: Look Ma, No For-Loops: Array Programming With NumPy](https://realpython.com/numpy-array-programming/): text that complement the previous with other examples; \n",
    "6. [Real Python: NumPy Tutorial: Your First Steps Into Data Science in Python](https://realpython.com/numpy-tutorial/): text with many small interesting examples and pointers to other resources;  \n",
    "\n",
    "#### References \n",
    "1. [NumPy Reference](https://numpy.org/doc/stable/reference/index.html#reference): the glory details; \n",
    "\n",
    "#### Assignment: Ask TU Delft students give demo, show how they solve problems and talks on topics such as ndarrays, broadcasting and ufunc\n",
    "\n",
    "## Section 4/: Matplotlib \n",
    "- [Matplotlib](matplotlib.org): Matplotlib is a comprehensive library for creating static, animated, and interactive visualizations in Python. Matplotlib makes easy things easy and hard things possible. \n",
    "\n",
    "\n",
    "## Section 5/: Scipy  \n",
    "1. [What is Scipy](https://data-flair.training/blogs/scipy-tutorial): high level overview and many examples;\n",
    "2. [scipy.linalg documentation from Users guide with examples](https://scipy.github.io/devdocs/tutorial/linalg.html) similar exists for other components of scipy. What to choose? \n",
    "3. [scipy-lectures.org](https://scipy-lectures.org) include information on profiling; \n",
    "4. [Hans Petter Langtangen, A Primer in Scientific Computing Using Python, PDF file, 900+ pages](https://hplgit.github.io/primer.html/doc/pub/half/book.pdf): Can we summarize? Can we find other examples?\n",
    "\n",
    "## Section 6/: Sympy \n",
    "- [Sympy](www.sympy.org): SymPy is a Python library for symbolic mathematics. It aims to become a full-featured computer algebra system (CAS) while keeping the code as simple as possible in order to be comprehensible and easily extensible. SymPy is written entirely in Python.\n",
    "\n",
    "## Section 7:/ Jax \n",
    "- [JAX](https://jax.readthedocs.io/en/latest/): AX is Autograd and XLA, brought together for high-performance numerical computing and machine learning research. It provides composable transformations of Python+NumPy programs: differentiate, vectorize, parallelize, Just-In-Time compile to GPU/TPU, and more.\n",
    "\n",
    "## Section 8/: py-pde \n",
    "- [py-pde](https://py-pde.readthedocs.io/en/latest/): py-pde provides methods and classes useful for solving partial differential equations. \n",
    "\n",
    "## Section 9/: Python for Chemical Engineering Applications\n",
    "- [ChemPy and related tools](https://github.com/bjodah/chempy)\n",
    "- [Awesome Cheminformatics](https://project-awesome.org/hsiaoyi0504/awesome-cheminformatics): list of Cheminformatics tools. "
   ]
  },
  {
   "cell_type": "code",
   "execution_count": null,
   "id": "ff5cff7e",
   "metadata": {},
   "outputs": [],
   "source": []
  },
  {
   "cell_type": "code",
   "execution_count": null,
   "id": "5706c10a",
   "metadata": {},
   "outputs": [],
   "source": []
  },
  {
   "cell_type": "code",
   "execution_count": null,
   "id": "865711f5",
   "metadata": {},
   "outputs": [],
   "source": []
  },
  {
   "cell_type": "code",
   "execution_count": null,
   "id": "457864f6",
   "metadata": {},
   "outputs": [],
   "source": []
  },
  {
   "cell_type": "code",
   "execution_count": null,
   "id": "6e4ac280",
   "metadata": {},
   "outputs": [],
   "source": []
  }
 ],
 "metadata": {
  "kernelspec": {
   "display_name": "Python 3",
   "language": "python",
   "name": "python3"
  },
  "language_info": {
   "codemirror_mode": {
    "name": "ipython",
    "version": 3
   },
   "file_extension": ".py",
   "mimetype": "text/x-python",
   "name": "python",
   "nbconvert_exporter": "python",
   "pygments_lexer": "ipython3",
   "version": "3.7.10"
  }
 },
 "nbformat": 4,
 "nbformat_minor": 5
}
