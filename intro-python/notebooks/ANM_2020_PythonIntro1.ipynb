{
 "cells": [
  {
   "cell_type": "markdown",
   "metadata": {},
   "source": [
    "# 1/4: Introduction, vectors, matrix and plotting "
   ]
  },
  {
   "cell_type": "markdown",
   "metadata": {},
   "source": [
    "This is the first in a series of four Jupyter notebooks on the use of Python. The scope is to introduce vectors,  matrices and plotting functionality. None of the assignments in this notebook will be graded. The intention is to provide a sandbox to freely, eagerly and curiously play around in. Supervision by the TAs will be assured.\n",
    "    \n",
    "## Guidelines \n",
    "<ul>\n",
    "<li> Make sure to have the Anaconda distribution of Python installed on your laptop. See BrightSpace for instructions on how to install Anaconda. \n",
    "<li> Students with no or limited previous exposure to Python are encouraged to work through this notebook step by step before going to the next notebook. \n",
    "<li> Students with previous exposure to Python are encouraged to review the material as refresher before going to the next notebook.   \n",
    "</ul>\n",
    "</font>"
   ]
  },
  {
   "cell_type": "markdown",
   "metadata": {},
   "source": [
    "## Import Libraries"
   ]
  },
  {
   "cell_type": "markdown",
   "metadata": {},
   "source": [
    "To be able to work on this Jupyter notebook version 5.6 file containing Python version 3.8 coding, the following libraries must be imported:"
   ]
  },
  {
   "cell_type": "code",
   "execution_count": 1,
   "metadata": {},
   "outputs": [
    {
     "name": "stdout",
     "output_type": "stream",
     "text": [
      "Succesfully imported numpy -- Version: 1.18.1\n",
      "Succesfully imported scipy -- Version: 1.4.1\n",
      "Succesfully imported matplotlib.pyplot\n",
      "Succesfully imported pandas -- Version: 1.0.1\n",
      "Succesfully imported sympy -- Version: 1.5.1\n",
      "Succesfully imported scipy.optimize\n",
      "Succesfully imported numpy.linalg\n",
      "Succesfully imported mpl_toolkits.mplot3d\n"
     ]
    }
   ],
   "source": [
    "import numpy as np\n",
    "print(\"Succesfully imported %s -- Version: %s\"%(np.__name__,np.__version__))\n",
    "import scipy\n",
    "print(\"Succesfully imported %s -- Version: %s\"%(scipy.__name__,scipy.__version__))\n",
    "import matplotlib.pyplot as plt\n",
    "print(\"Succesfully imported %s\"%plt.__name__)\n",
    "import pandas as pd\n",
    "print(\"Succesfully imported %s -- Version: %s\"%(pd.__name__,pd.__version__))\n",
    "import sympy as sym \n",
    "print(\"Succesfully imported %s -- Version: %s\"%(sym.__name__,sym.__version__))\n",
    "from scipy import optimize\n",
    "print(\"Succesfully imported %s\"%optimize.__name__)\n",
    "from numpy import linalg as LA\n",
    "print(\"Succesfully imported %s\"%LA.__name__)\n",
    "from mpl_toolkits import mplot3d\n",
    "print(\"Succesfully imported %s\"%mplot3d.__name__)"
   ]
  },
  {
   "cell_type": "markdown",
   "metadata": {},
   "source": [
    "## Information on the libraries that were imported "
   ]
  },
  {
   "cell_type": "markdown",
   "metadata": {},
   "source": [
    "<li> Python: <a href=\"https://www.python.org\"> Documentation </a> and \n",
    "             <a href=\"https://www.udemy.com/course/programming-numerical-methods-in-python\"> Programming Numerical Methods in Python </a>\n",
    "\n",
    "<li> IPython: <a href=\"https://ipython.org\"> Documentation </a>\n",
    "    \n",
    "<li> Jupyter: <a href=\"https://jupyter-notebook.readthedocs.io/en/stable/\"> Documentation </a>\n",
    "\n",
    "<li> Numpy: <a href=\"https://numpy.org/doc/stable/user/quickstart.html\"> Quickstart Tutorial </a>, <a href=\"https://numpy.org/doc/stable/user/absolute_beginners.html\"> Absolute Basics </a> and <a href=\"https://numpy.org/doc/stable/user/tutorials_index.html\"> Tutorials </a> \n",
    "\n",
    "<li> Scipy: <a href=\"https://docs.scipy.org/doc/scipy/reference/\"> Reference and Tutorials </a> and <a href=\"http://scipy-lectures.org\"> SciPy Lecture Notes </a>\n",
    "\n",
    "<li> Matplotlib: <a href=\"https://matplotlib.org/users/index.html\"> Users Guide </a>\n",
    "\n",
    "<li> Pandas: <a href=\"https://pandas.pydata.org/docs/\"> Documentation </a>  \n",
    "\n",
    "<li> Sympy: <a href=\"https://docs.sympy.org/latest/index.html\"> Documentation </a>\n",
    "\n",
    "<li> Spyder: <a href=\"www.spyder-ide.org\"> Documentation </a>\n",
    " \n",
    "</ul>"
   ]
  },
  {
   "cell_type": "markdown",
   "metadata": {},
   "source": [
    " ## Where to find information?"
   ]
  },
  {
   "cell_type": "markdown",
   "metadata": {},
   "source": [
    " •\tTalk to a teaching assistant in case that installation of Jupyter appears problematic;  \n"
   ]
  },
  {
   "cell_type": "markdown",
   "metadata": {},
   "source": [
    "• Introductory Jupyter course on Linked-Inn learning: https://www.linkedin.com/learning/introducing-jupyter;"
   ]
  },
  {
   "cell_type": "markdown",
   "metadata": {},
   "source": [
    "• Guide about Jupyter notebooks use in Code Academy: https://www.codecademy.com/articles/how-to-use-jupyter-notebooks. To find more information about Jupyter Notebooks, read their documentation at https://jupyter.readthedocs.io/en/latest/; "
   ]
  },
  {
   "cell_type": "markdown",
   "metadata": {},
   "source": [
    "• For information on a specific function in Jupyter, you can type its name with a question mark after it. Alternatively, Python has a built-in help() function that can give you information about any module, keyword, or topic that you might need to know about while writing your Python code; "
   ]
  },
  {
   "cell_type": "markdown",
   "metadata": {},
   "source": [
    "## Advantages of and alternatives for Jupyter"
   ]
  },
  {
   "cell_type": "markdown",
   "metadata": {},
   "source": [
    "•\tJupyter is a free, open-source, interactive tool known as a computational notebook that can be used to combine live software code, computational output, equations, descriptive text and multimedia visualization resources in a single document, which users can both create and share."
   ]
  },
  {
   "cell_type": "markdown",
   "metadata": {},
   "source": [
    "•\tThe Jupyter Notebook is a powerful tool to develop and present data analysis projects. Its uses can include numerical simulation, statistical modeling, data visualization, machine learning, and much more. "
   ]
  },
  {
   "cell_type": "markdown",
   "metadata": {},
   "source": [
    "•\tJupyter Notebooks are an interactive web application that allows users to run structured but iterative Python scripts. In this way, it is possible for the user to write lines of Python code and run them one at a time. Then, if a change is needed, an edit and rerun of the program can be made, all in the same window."
   ]
  },
  {
   "cell_type": "markdown",
   "metadata": {},
   "source": [
    "• An exciting and recent development is the development of the programming language julia (julialang.org). Julia is developed in public domain and promises to combine the easy of use of a scripting language such as Matlab or Python, with the speed of the programming language such as C++. Although Julia is not (yet) a compulsory course requirement, D. Lahaye is excited to share this new development with you."
   ]
  },
  {
   "cell_type": "markdown",
   "metadata": {},
   "source": [
    "## Learn some basics of the Jupyter Notebook"
   ]
  },
  {
   "cell_type": "markdown",
   "metadata": {},
   "source": [
    "• Take a User Interface Tour of Jupyter Notebook from Help on the menubar."
   ]
  },
  {
   "cell_type": "markdown",
   "metadata": {},
   "source": [
    "• Now select this cell and try making a cell below by yourself using the '+' sign in the toolbar above."
   ]
  },
  {
   "cell_type": "markdown",
   "metadata": {},
   "source": [
    "• Now cut that cell using the scissors symbol and put it above this cell using the paste symbol."
   ]
  },
  {
   "cell_type": "markdown",
   "metadata": {},
   "source": [
    "• Copy that cell and paste it below this cell."
   ]
  },
  {
   "cell_type": "markdown",
   "metadata": {},
   "source": [
    "• Now delete both cells by selecting the cell, then go to edit and delete the cells."
   ]
  },
  {
   "cell_type": "markdown",
   "metadata": {},
   "source": [
    "• You can also move cells up and down using the arrow symbols on the toolbar."
   ]
  },
  {
   "cell_type": "markdown",
   "metadata": {},
   "source": [
    "• Take a look at the Keyboard Shortcuts in help()."
   ]
  },
  {
   "cell_type": "markdown",
   "metadata": {},
   "source": [
    "• Practice using all the options and see what else you can do with Jupyter Notebook."
   ]
  },
  {
   "cell_type": "markdown",
   "metadata": {},
   "source": [
    "• Do remember to save your progress from time to time to create checkpoints which you can revert to if anything goes wrong!"
   ]
  },
  {
   "cell_type": "markdown",
   "metadata": {},
   "source": [
    "• Also it is recommended to import all the libraries before you start so you don't have to again and again in every section."
   ]
  },
  {
   "cell_type": "markdown",
   "metadata": {},
   "source": [
    "## The Jupyter Notebook as a advanced calculator "
   ]
  },
  {
   "cell_type": "markdown",
   "metadata": {},
   "source": [
    "•\tUsing the Notebook to perform simple arithmetic computations. For example:"
   ]
  },
  {
   "cell_type": "code",
   "execution_count": 2,
   "metadata": {},
   "outputs": [
    {
     "name": "stdout",
     "output_type": "stream",
     "text": [
      "4\n"
     ]
    }
   ],
   "source": [
    "print(2 + 2)"
   ]
  },
  {
   "cell_type": "markdown",
   "metadata": {},
   "source": [
    "Now you give it a try:"
   ]
  },
  {
   "cell_type": "code",
   "execution_count": null,
   "metadata": {},
   "outputs": [],
   "source": []
  },
  {
   "cell_type": "markdown",
   "metadata": {},
   "source": [
    "•\tUsing the Notebook to assign values to variables and to perform computations using these variables. For example:"
   ]
  },
  {
   "cell_type": "code",
   "execution_count": 3,
   "metadata": {},
   "outputs": [
    {
     "name": "stdout",
     "output_type": "stream",
     "text": [
      "c = 3\n"
     ]
    }
   ],
   "source": [
    "a = 1\n",
    "b = 2\n",
    "c=a+b\n",
    "\n",
    "print('c =',c)"
   ]
  },
  {
   "cell_type": "markdown",
   "metadata": {},
   "source": [
    "Now you give it a try:"
   ]
  },
  {
   "cell_type": "code",
   "execution_count": null,
   "metadata": {},
   "outputs": [],
   "source": []
  },
  {
   "cell_type": "markdown",
   "metadata": {},
   "source": [
    "•\tTry manipulating characters and strings in the Notebook. For example:"
   ]
  },
  {
   "cell_type": "code",
   "execution_count": 4,
   "metadata": {},
   "outputs": [
    {
     "name": "stdout",
     "output_type": "stream",
     "text": [
      "First Letter: T\n",
      "First 4 Letters: This\n",
      "Luke I am your father! \n",
      "aaaaaaaaaa\n",
      "A\n",
      "Example\n",
      "['This', 'string', 'have', '5', 'words']\n"
     ]
    }
   ],
   "source": [
    "\n",
    "string_1  = \"Example string #1\"\n",
    "string_2 = 'Example string #2'\n",
    "#Both methods are equivalent.\n",
    "#If a string is delimited with double quotes, \n",
    "#any double quotation marks within the string will need to be escaped with a backslash (\\):\n",
    "\"My teacher said \\\"Don't forget your homework.\\\"\"\n",
    "\n",
    "# Python does not have a Character data type. \n",
    "#To access individual characters within a string, use bracket notation. \n",
    "#Like lists, Python strings are zero-indexed, so the first character of a string can be accessed with [0]:\n",
    "# For example:\n",
    "string_3 = \"This is a string.\"\n",
    "first_letter = string_3[0]\n",
    "print('First Letter:', first_letter)\n",
    "\n",
    "#To access a range of letters from a larger string, use slicing:\n",
    "#For Example:\n",
    "\n",
    "first4letters =string_3[0:4]\n",
    "print('First 4 Letters:' ,first4letters) \n",
    "\n",
    "#You can use + and * operators with strings\n",
    "# for example:\n",
    "first_name = \"Luke\"\n",
    "last_name = \" I am your father! \"\n",
    "fullname = first_name + last_name\n",
    "print(fullname)\n",
    "\n",
    "#Multiplication can be used to generate multiple copies of strings:\n",
    "#for example:\n",
    "\n",
    "string_a= 'a'\n",
    "string_a_TenTimes = string_a*10\n",
    "print(string_a_TenTimes)\n",
    "\n",
    "#Many basic string manipulation tasks can be handled with built-in methods.\n",
    "#For example, to convert a string to uppercase letters, use upper:\n",
    "print(string_a.upper())\n",
    "\n",
    "#To remove extra whitespace from the beginning or end of a string, use strip:\n",
    "\n",
    "string_4= '       Example       '\n",
    "print(string_4.strip())\n",
    "\n",
    "#trings can be split into a list of substrings with split. \n",
    "#By default, Python will use a blank space as a delimiter, \n",
    "#which is useful for splitting a sentence into individual words:\n",
    "string_5 = 'This string have 5 words'\n",
    "print(string_5.split())\n",
    "\n",
    "#The inverse operation of split is join."
   ]
  },
  {
   "cell_type": "markdown",
   "metadata": {},
   "source": [
    "Now you give it a try:"
   ]
  },
  {
   "cell_type": "code",
   "execution_count": null,
   "metadata": {},
   "outputs": [],
   "source": []
  },
  {
   "cell_type": "markdown",
   "metadata": {},
   "source": [
    "•\tTry simple while-loops, for-loops and if-then-else tests in the Notebook. For example:"
   ]
  },
  {
   "cell_type": "code",
   "execution_count": 5,
   "metadata": {},
   "outputs": [
    {
     "name": "stdout",
     "output_type": "stream",
     "text": [
      "1\n",
      "2\n",
      "3\n",
      "f\n",
      "o\n",
      "u\n",
      "r\n",
      "b is greater than a\n",
      "a and b are equal\n",
      "a is greater than b\n"
     ]
    }
   ],
   "source": [
    "#The While loop will remain active if the condition are true.\n",
    "# for example:\n",
    "\n",
    "count = 0\n",
    "while count < 3:\n",
    "    count = count + 1\n",
    "    print(count)\n",
    "# This loop will run 3 times.\n",
    "#Each time will add 1 to the count and print the value it's value.\n",
    "\n",
    "#The for loop will run a finite numbers of iterations.\n",
    "#for example:\n",
    "\n",
    "example = 'four'\n",
    "for x in example:\n",
    "    print(x)\n",
    "\n",
    "#This loop will run 4 times. \n",
    "#Each time for every character in the variable.\n",
    "\n",
    "#An \"if statement\" is written by using the if keyword.\n",
    "#for example:\n",
    "\n",
    "a = 5\n",
    "b = 10\n",
    "if b > a:\n",
    "  print(\"b is greater than a\")\n",
    "\n",
    "\n",
    "#The elif keyword is pythons way of saying \n",
    "#\"if the previous conditions were not true, then try this condition\".\n",
    "#for example:\n",
    "\n",
    "a = 10\n",
    "b = 10\n",
    "if b > a:\n",
    "  print(\"b is greater than a\")\n",
    "elif a == b:\n",
    "  print(\"a and b are equal\")\n",
    "\n",
    "#The else keyword catches anything which isn't caught by the preceding conditions.\n",
    "\n",
    "\n",
    "a = 10\n",
    "b = 5\n",
    "if b > a:\n",
    "  print(\"b is greater than a\")\n",
    "elif a == b:\n",
    "  print(\"a and b are equal\")\n",
    "else:\n",
    "  print(\"a is greater than b\")"
   ]
  },
  {
   "cell_type": "markdown",
   "metadata": {},
   "source": [
    "Now you give it a try:"
   ]
  },
  {
   "cell_type": "code",
   "execution_count": null,
   "metadata": {},
   "outputs": [],
   "source": []
  },
  {
   "cell_type": "markdown",
   "metadata": {},
   "source": [
    "• Try manipulating lists of items by adding and removing elements from lists and iterating over lists. For example:"
   ]
  },
  {
   "cell_type": "code",
   "execution_count": 6,
   "metadata": {},
   "outputs": [
    {
     "name": "stdout",
     "output_type": "stream",
     "text": [
      "['January', 'February', 'March', 'April']\n",
      "4\n",
      "March\n",
      "['February', 'March']\n",
      "['January', 'February', 'April']\n"
     ]
    }
   ],
   "source": [
    "# To create a list (collection of items that are ordered and changeable):\n",
    "\n",
    "months = list()\n",
    "months.append('January')\n",
    "months.append('February')\n",
    "months.append('March')\n",
    "months.append('April')\n",
    "\n",
    "print(months)\n",
    "print(len(months))\n",
    "\n",
    "\n",
    "#To iterate for every item in a list you can use a for loop\n",
    "\n",
    "for i in months:\n",
    "    if i == 'March' :\n",
    "        print(i)\n",
    "print(months[1:3])\n",
    "\n",
    "\n",
    "#To remove an item from a list:\n",
    "\n",
    "months.remove('March')\n",
    "print(months)\n",
    "\n",
    "#It is important to distinguish between Python lists and vectors/matrices in Python.\n"
   ]
  },
  {
   "cell_type": "markdown",
   "metadata": {},
   "source": [
    "Now you give it a try:"
   ]
  },
  {
   "cell_type": "code",
   "execution_count": null,
   "metadata": {},
   "outputs": [],
   "source": []
  },
  {
   "cell_type": "markdown",
   "metadata": {},
   "source": [
    "## Constructing vectors "
   ]
  },
  {
   "cell_type": "markdown",
   "metadata": {},
   "source": []
  },
  {
   "cell_type": "markdown",
   "metadata": {},
   "source": [
    "• Use the function np.array() to create the row vector a = [10, 20, 30] and print to screen the first, first two, last and last two elements.\n",
    "\n",
    "Do take a look at help(np.array) or https://numpy.org/doc/stable/reference/generated/numpy.array.html to learn how to use this function to build a vector. It is extremely important for this course and you will be using it a lot."
   ]
  },
  {
   "cell_type": "code",
   "execution_count": null,
   "metadata": {},
   "outputs": [],
   "source": []
  },
  {
   "cell_type": "markdown",
   "metadata": {},
   "source": [
    "•\tNow use function np.array() to create a column vector b containing the same elements as the previous vector a. Compare the syntax of a row vector and a column vector. Use the transpose() command to convert a row vector into a column vector, or vice versa. "
   ]
  },
  {
   "cell_type": "code",
   "execution_count": null,
   "metadata": {},
   "outputs": [],
   "source": []
  },
  {
   "cell_type": "markdown",
   "metadata": {},
   "source": [
    "• Create subvectors containing different elements of the vector a. For example: "
   ]
  },
  {
   "cell_type": "code",
   "execution_count": 7,
   "metadata": {},
   "outputs": [
    {
     "name": "stdout",
     "output_type": "stream",
     "text": [
      "c = [[10]\n",
      " [20]]\n"
     ]
    }
   ],
   "source": [
    "#To create a new vector containing the first and second terms of the vector b:\n",
    "b = np.array([[10],[20],[30]])\n",
    "c=b[0:2]\n",
    "\n",
    "print('c =',c) #Notice that this will return all elements starting from the number before the colon (0, or the first element) up to but not including the index after the colon (2). \n"
   ]
  },
  {
   "cell_type": "markdown",
   "metadata": {},
   "source": [
    "Now you give it a try, by creating subvectors containing the last and last two elements of the vector a:"
   ]
  },
  {
   "cell_type": "code",
   "execution_count": null,
   "metadata": {},
   "outputs": [],
   "source": []
  },
  {
   "cell_type": "markdown",
   "metadata": {},
   "source": [
    "• Form a row vector with all three components equal to one and another with all elements equal to zero. To do this, take a look at help(np.zeros) and help(np.ones) and learn how to use these two different functions to obtain the desired vectors, as they can be are very useful when working with large vectors or matrices.\n"
   ]
  },
  {
   "cell_type": "code",
   "execution_count": null,
   "metadata": {},
   "outputs": [],
   "source": []
  },
  {
   "cell_type": "markdown",
   "metadata": {},
   "source": [
    "## Operations on vectors "
   ]
  },
  {
   "cell_type": "markdown",
   "metadata": {},
   "source": [
    "• Python allows to add row and column vectors to form a resulting matrix. For example: "
   ]
  },
  {
   "cell_type": "code",
   "execution_count": 8,
   "metadata": {},
   "outputs": [
    {
     "name": "stdout",
     "output_type": "stream",
     "text": [
      "ba =  [[20 30 40]\n",
      " [30 40 50]\n",
      " [40 50 60]]\n"
     ]
    }
   ],
   "source": [
    "# For the column vector b = np.array([[10],[20],[30]]) and the row vector a = np.array([10,20,30]), the matrix ba = b + a can be computed:\n",
    "\n",
    "b = np.array([[10],[20],[30]])\n",
    "a = np.array([10,20,30])\n",
    "ba=b+a\n",
    "\n",
    "print('ba = ', ba)"
   ]
  },
  {
   "cell_type": "markdown",
   "metadata": {},
   "source": [
    "Now you give it a try:"
   ]
  },
  {
   "cell_type": "code",
   "execution_count": null,
   "metadata": {},
   "outputs": [],
   "source": []
  },
  {
   "cell_type": "markdown",
   "metadata": {},
   "source": [
    "•\tGiven the column vector a = np.array([[10],[20],[30]]), compute the new vector 3*a."
   ]
  },
  {
   "cell_type": "code",
   "execution_count": null,
   "metadata": {},
   "outputs": [],
   "source": []
  },
  {
   "cell_type": "markdown",
   "metadata": {},
   "source": [
    "• Given the column vector a = np.array([[10],[20],[30]]), compute the min, max and norm (distance to zero) of the vector a. Hint: There are functions from numpy that can be used to solve this."
   ]
  },
  {
   "cell_type": "code",
   "execution_count": null,
   "metadata": {},
   "outputs": [],
   "source": [
    "\n"
   ]
  },
  {
   "cell_type": "markdown",
   "metadata": {},
   "source": [
    "•\tGiven the column vector a = np.array([[10],[20],[30]]) and the column vector b = np.array([[.1],[.2],[.3]]), compute the new vector a+b. "
   ]
  },
  {
   "cell_type": "code",
   "execution_count": null,
   "metadata": {},
   "outputs": [],
   "source": []
  },
  {
   "cell_type": "markdown",
   "metadata": {},
   "source": [
    " •\tGiven the column vector a = np.array([[10],[20],[30]]) and the column vector b = np.array([[.1],[.2],[.3]]), compute the inner product of a and b using the function np.inner() for the multiplication of matrices."
   ]
  },
  {
   "cell_type": "code",
   "execution_count": null,
   "metadata": {},
   "outputs": [],
   "source": []
  },
  {
   "cell_type": "markdown",
   "metadata": {},
   "source": [
    "•\tGiven the column vector a = np.array([[10],[20],[30]]) and the column vector b = np.array([[.1],[.2],[.3]]), compute point-wise multiplication (*) of a and b."
   ]
  },
  {
   "cell_type": "code",
   "execution_count": null,
   "metadata": {},
   "outputs": [],
   "source": []
  },
  {
   "cell_type": "markdown",
   "metadata": {},
   "source": [
    "•\tGiven the column vector a = np.array([[10],[20],[30]]) and the column vector b = np.array([[.1],[.2],[.3]]), compute the matrix product using np.dot(a,transpose(b)). Give the size of this matrix. Explain your findings.\n",
    "\n",
    "Do learn about np.dot function here: https://numpy.org/doc/stable/reference/generated/numpy.dot.html, as it is another important function you will be using quite a bit in the future."
   ]
  },
  {
   "cell_type": "code",
   "execution_count": null,
   "metadata": {},
   "outputs": [],
   "source": []
  },
  {
   "cell_type": "markdown",
   "metadata": {},
   "source": [
    "## Plotting vectors"
   ]
  },
  {
   "cell_type": "markdown",
   "metadata": {},
   "source": [
    "• Plot the column vector a = np.array([[10],[20],[30]]). Type help(plt.figure), help(plt.subplots), help(ax.plot) and help(plt.show) to learn about the various possibilities available for obtaining a graph."
   ]
  },
  {
   "cell_type": "code",
   "execution_count": null,
   "metadata": {},
   "outputs": [],
   "source": []
  },
  {
   "cell_type": "markdown",
   "metadata": {},
   "source": [
    "## Plotting functions in one variable"
   ]
  },
  {
   "cell_type": "markdown",
   "metadata": {},
   "source": [
    "• Create the vector x with terms from 0 to 2 * np.pi with an increment of np.pi/100 and the vector y = np.sin(x). Now plot y vs. x. Add an x-axis label, y-axis label and a title to this plot. Next create the vector x1 = [0, np.pi/2, np.pi, 3 * np.pi/4, 2 * np.pi] and the vector y1 = np.sin(x1) and generate another plot of y1 vs. x1 superimposed on the previous plot."
   ]
  },
  {
   "cell_type": "code",
   "execution_count": null,
   "metadata": {},
   "outputs": [],
   "source": [
    " "
   ]
  },
  {
   "cell_type": "markdown",
   "metadata": {},
   "source": [
    "•\tCreate the vector x with terms from -3 to 3 with an increment of 0.01 and the vector y = x*x (using the point-wise or element-wise multiplication of the x with x). Explain why the point wise multiplication is required here. "
   ]
  },
  {
   "cell_type": "code",
   "execution_count": null,
   "metadata": {},
   "outputs": [],
   "source": []
  },
  {
   "cell_type": "markdown",
   "metadata": {},
   "source": [
    "## Constructing Matrices"
   ]
  },
  {
   "cell_type": "markdown",
   "metadata": {},
   "source": [
    "• Use help(np.array) and help(np.matrix) to learn about two different ways to create a matrix. Generate the matrix A = [[1, 2, 3], [2, 4, 8], [3, 9, 27]], and then retrieve (or print to screen) both the first row and the last column of A. There are multiple ways to achieve this, such as using a list and a for loop."
   ]
  },
  {
   "cell_type": "code",
   "execution_count": null,
   "metadata": {},
   "outputs": [],
   "source": []
  },
  {
   "cell_type": "markdown",
   "metadata": {},
   "source": [
    "• Given the matrix A = np.array([[1, 2, 3], [2, 4, 8], [3, 9, 27]]), retrieve (or print to screen) the diagonal of A (using the np.diagonal() function), the lower triangular part of A (using the function np.tril()) and then the upper triangular part of A (using np.triu())."
   ]
  },
  {
   "cell_type": "code",
   "execution_count": null,
   "metadata": {},
   "outputs": [],
   "source": []
  },
  {
   "cell_type": "markdown",
   "metadata": {},
   "source": [
    "• Given the matrix A = np.array([[1,2,3],[2,4,8],[3, 9, 27]]), create and print to screen the matrix B = np.transpose(A) and the matrix C = np.transpose(B)."
   ]
  },
  {
   "cell_type": "code",
   "execution_count": null,
   "metadata": {},
   "outputs": [],
   "source": []
  },
  {
   "cell_type": "markdown",
   "metadata": {},
   "source": [
    "• Use the function np.zeros() to create a 3-by-3 matrix with all elements equal to zero."
   ]
  },
  {
   "cell_type": "code",
   "execution_count": null,
   "metadata": {},
   "outputs": [],
   "source": []
  },
  {
   "cell_type": "markdown",
   "metadata": {},
   "source": [
    "• Use the function np.eye() to create the 3-by-3 identity matrix."
   ]
  },
  {
   "cell_type": "code",
   "execution_count": null,
   "metadata": {},
   "outputs": [],
   "source": []
  },
  {
   "cell_type": "markdown",
   "metadata": {},
   "source": [
    "## Operations on Matrices "
   ]
  },
  {
   "cell_type": "markdown",
   "metadata": {},
   "source": [
    "•\tGiven the matrix A = np.array([[1, 2, 3],[ 2, 4, 8],[ 3, 9, 27]]), compute the new matrix 5*A."
   ]
  },
  {
   "cell_type": "code",
   "execution_count": null,
   "metadata": {},
   "outputs": [],
   "source": []
  },
  {
   "cell_type": "markdown",
   "metadata": {},
   "source": [
    "•\tGiven the matrix A = np.array([[1, 2, 3],[ 2, 4, 8],[ 3, 9, 27]]), find the min, max, and norm of the matrix A (you will learn more about matrix norms very soon) using the functions max(), min() and LA.norm(). "
   ]
  },
  {
   "cell_type": "code",
   "execution_count": null,
   "metadata": {},
   "outputs": [],
   "source": []
  },
  {
   "cell_type": "markdown",
   "metadata": {},
   "source": [
    "•\tGiven the matrix A = np.array([[1, 2, 3],[ 2, 4, 8],[ 3, 9, 27]]) and the matrix B = np.eye(3), compute the new matrix C = A+B and C = B+A. Explain what you observe."
   ]
  },
  {
   "cell_type": "code",
   "execution_count": null,
   "metadata": {},
   "outputs": [],
   "source": []
  },
  {
   "cell_type": "markdown",
   "metadata": {},
   "source": [
    "•\tGiven the matrix A = np.array([[1, 2, 3],[ 2, 4, 8],[ 3, 9, 27]]) and the matrix B = np.ones(3), compute the new matrix C = A * B and C = B * A. Use the definition of the matrix-matrix product to explain your findings."
   ]
  },
  {
   "cell_type": "code",
   "execution_count": null,
   "metadata": {},
   "outputs": [],
   "source": []
  },
  {
   "cell_type": "markdown",
   "metadata": {},
   "source": [
    "•\tGiven the matrix A = np.array([[1, 2, 3],[ 2, 4, 8],[ 3, 9, 27]]), compute the new matrix C= A * A (observe the point wise multiplication) and the new matrix D = np.dot(A,A). Explain your findings using again the definition of the matrix-matrix product. "
   ]
  },
  {
   "cell_type": "code",
   "execution_count": null,
   "metadata": {},
   "outputs": [],
   "source": []
  },
  {
   "cell_type": "markdown",
   "metadata": {},
   "source": [
    "• Starting from matrix A construct three different versions of a matrix B that contains all the elements larger or equal to 5. First, using a double-for loop. Second, without a for-loop. Third, using a single for-loop by iterating over rows or columns.   "
   ]
  },
  {
   "cell_type": "code",
   "execution_count": null,
   "metadata": {},
   "outputs": [],
   "source": [
    "\n",
    "                    "
   ]
  },
  {
   "cell_type": "markdown",
   "metadata": {},
   "source": [
    "•\tGiven the matrix A = np.array([[1, 2, 3],[ 2, 4, 8],[ 3, 9, 27]]) and the vector b = np.array([[1],[1],[1]]), compute the number np.dot(np.dot(np.transpose(b),A),b). Compare your answer with sum(sum(A)). Explain your findings."
   ]
  },
  {
   "cell_type": "code",
   "execution_count": null,
   "metadata": {},
   "outputs": [],
   "source": []
  },
  {
   "cell_type": "markdown",
   "metadata": {},
   "source": [
    "•\tUse the funtion reshape() to construct matrices from vectors and the other way around as well."
   ]
  },
  {
   "cell_type": "code",
   "execution_count": null,
   "metadata": {},
   "outputs": [],
   "source": []
  },
  {
   "cell_type": "markdown",
   "metadata": {},
   "source": [
    "## Triangular matrices  "
   ]
  },
  {
   "cell_type": "markdown",
   "metadata": {},
   "source": [
    "• Given the lower triangular matrix A = np.array([[1,0,0],[2,4,0],[3, 9, 27]]), use the function np.linalg.eig() to compute the eigenvalues of the matrix A. Compare the eigenvalues with diagonal entries of A."
   ]
  },
  {
   "cell_type": "code",
   "execution_count": null,
   "metadata": {},
   "outputs": [],
   "source": []
  },
  {
   "cell_type": "markdown",
   "metadata": {},
   "source": [
    "• Given the lower triangular matrix A = np.array([[1, 0, 0 ],[ 2, 4, 0],[ 3, 9, 27]]), compute and print to screen the new C = A * A (Try both point wise and matrix multiplication). What do you observe about the triangular structure of C? Compute the eigenvalues of C and compare with the diagonal entries."
   ]
  },
  {
   "cell_type": "code",
   "execution_count": null,
   "metadata": {},
   "outputs": [],
   "source": []
  },
  {
   "cell_type": "markdown",
   "metadata": {},
   "source": [
    "• Repeat what you did above for C = AAA, C=pow(A,3), C=pow(A,4), C = pow(A,5) and C=pow(A,6)."
   ]
  },
  {
   "cell_type": "code",
   "execution_count": null,
   "metadata": {},
   "outputs": [],
   "source": [
    "\n",
    "\n"
   ]
  },
  {
   "cell_type": "markdown",
   "metadata": {},
   "source": [
    "• Repeat what you did above for the upper triangular matrix A = np.array([[1, 2, 3],[0, 4, 8],[0, 0, 27]])."
   ]
  },
  {
   "cell_type": "code",
   "execution_count": null,
   "metadata": {},
   "outputs": [],
   "source": []
  },
  {
   "cell_type": "markdown",
   "metadata": {},
   "source": [
    "## Particular Tridiagonal Matrix - One Dimensional Poisson Matrix "
   ]
  },
  {
   "cell_type": "markdown",
   "metadata": {},
   "source": [
    "The scope of this assignment is to construct a particular tridiagonal matrix A that will be used in the future of this course. Assume that u(x) is a function in x on the domain where 0 <= x <= 1. The matrix A that we construct in this assignment allows to compute an approximation for minus one times the double derivative *(-d^2u/dx^2)*. This approximation to the double derivative is computed assuming a uniform (or equidistant) sampling of the interval 0 <=x <= 1. "
   ]
  },
  {
   "cell_type": "markdown",
   "metadata": {},
   "source": [
    "1. Given a value for N (e.g. N=5 or higher), set the vector e = np.ones((N+1).dtype=int). Then e is a row vector of length N+1 with all elements (or components) equal to 1.\n",
    "2. Next, set A = np.zeros((N+1,N+1),dtype=int), then subtract np.diag(e[0:-1],k=0) from A[0:N,1:N+1] and similarly subtract np.diag(e[0:-1],k=0) from A[1:N+1,0:N]. \n",
    "3. Add 2*np.diag(e) to A.\n",
    "4. Use the command plt.spy(scipy.sparse.csr_matrix(A)) (see help plt.spy) to view the non-zero structure of the matrix A.  "
   ]
  },
  {
   "cell_type": "code",
   "execution_count": null,
   "metadata": {
    "scrolled": true
   },
   "outputs": [],
   "source": []
  },
  {
   "cell_type": "markdown",
   "metadata": {},
   "source": [
    "5. Next set A = (N) ** 2 * A (every element of A is thus multiplied with N^2).\n",
    "6. Next set A[0,0] = 1 and A[0,1] = 0; (in this way the first row of A is modified). \n",
    "7. Next set A[-1,-1] = 1 and A[-1,-2] = 0; (in this way the last row of A is modified).\n",
    "8. Next set x = np.linspace(0,1,num=N+1) (x is thus the coordinates of the points along the x-direction at intervals of 1/N). \n",
    "9. Set u = x * np.sin(np.pi * x); (observe the point wise multiplication of two vectors). \n",
    "10. Compute using pen and paper (or using the symbolic toolbox) minus one times the second order derivative - d^2u/dx^2 and plot this function. \n",
    "11. Compute the product of the matrix A and the vector u and plot the result and compare with the previous graph. Discuss your findings. \n",
    "\n",
    "We will define the matrix A to be the one-dimensional Poisson matrix and consider A as the output of a function that will be defined as poisson1d(N) in the next introduction notebook. Observe (again) that the size of A is (N+1)-by-(N+1). It appears that the fan club of this matrix goes well beyond the circles of the ANM course. "
   ]
  },
  {
   "cell_type": "code",
   "execution_count": null,
   "metadata": {},
   "outputs": [],
   "source": []
  },
  {
   "cell_type": "markdown",
   "metadata": {},
   "source": [
    "## Plotting functions in two variables "
   ]
  },
  {
   "cell_type": "markdown",
   "metadata": {},
   "source": [
    "• Read the documentation of the Python funtion np.meshgrid() to plot the function u(x,y) = 16 * x * (x-1) * y * (y-1) on the unit square, i.e., the domain defined by \n",
    "0 <= x <= 1 and 0 <= y <= 1."
   ]
  },
  {
   "cell_type": "code",
   "execution_count": null,
   "metadata": {},
   "outputs": [],
   "source": []
  },
  {
   "cell_type": "markdown",
   "metadata": {},
   "source": [
    "## Kronecker Product of Matrices "
   ]
  },
  {
   "cell_type": "markdown",
   "metadata": {},
   "source": [
    "•\tGiven the matrix A = np.array([[1, 2, 3],[ 2, 4, 8],[ 3, 9, 27]]) and the matrix B = np.ones(3), compute the Kronecker product of A and B using the Python np.kron() function. Observe that np.kron(A,B) and np.kron(B,A) differ; that is, the order of the factors does matter."
   ]
  },
  {
   "cell_type": "code",
   "execution_count": null,
   "metadata": {},
   "outputs": [],
   "source": []
  },
  {
   "cell_type": "markdown",
   "metadata": {
    "scrolled": true
   },
   "source": [
    "## Penta-Diagonal Matrix"
   ]
  },
  {
   "cell_type": "markdown",
   "metadata": {},
   "source": [
    "The scope of this assignment is to extend the construction of the Poisson matrix (see above) from one to two spatial dimensions.\n",
    "\n",
    "1. Set N = 3 (or any alternative value).  \n",
    "2. Set x = np.linspace(0,1,num=N+1), y = np.linspace(0,1,num=N+1) and [X,Y] = np.meshgrid(x,y). Observe that X and Y are matrices of size (N+1)-by-(N+1). \n",
    "3. Set U = 16 * X * (X-1) * Y * (Y-1).  \n",
    "4. Set A = poisson1d(N) (see above) and I=np.ones((N+1,N+1),dtype=int) (I is here the (N+1)-by(N+1) identity matrix)\n",
    "5. Set the matrices B1= np.kron(A,I), B2 = np.kron(I,A) and B = B1+B2.\n",
    "6. Plot the sparsity pattern of the matrix B1, B2 and B using the plt.spy command. Explain your findings.\n",
    "7. Set u = np.reshape(U,(N+1) ** 2,1) (u is here a vector with (N+1)^2 components)\n",
    "8. Set v1 = np.dot(B1,u), v2 = np.dot(B2,u) and v = np.dot(B,u). Find the size of v1, v2 and v. \n",
    "9. Set V1 = np.reshape(v1,N+1,N+1), V2 = np.reshape(v2,N+1,N+1) V = np.reshape(v,N+1,N+1).  \n",
    "10. Use the meshgrid command to plot U, V1, V2 and V as a function on x and y. Make sure to properly label the x and y axis. Explain your findings.  \n",
    "\n",
    "The matrix B is a close ally of the one-dimensional Poisson matrix A and will resurface during ANM and beyond. We will refer to B as the two-dimensional Poisson matrix and consider B as the output of a function that will be defined as poisson2d(N) in the next introduction notebook. Observe (again) that the size of B is (N+1)^2-by-(N+1)^2. "
   ]
  },
  {
   "cell_type": "code",
   "execution_count": null,
   "metadata": {},
   "outputs": [],
   "source": [
    "\n"
   ]
  },
  {
   "cell_type": "markdown",
   "metadata": {},
   "source": [
    "## Broadcasting"
   ]
  },
  {
   "cell_type": "markdown",
   "metadata": {},
   "source": [
    "• Binary operation on arrays are performed elementwise by Python. This means that when arrays of different sizes are involved in a binary operation, broadcasting is used. For example:"
   ]
  },
  {
   "cell_type": "code",
   "execution_count": 9,
   "metadata": {},
   "outputs": [
    {
     "name": "stdout",
     "output_type": "stream",
     "text": [
      "[[1. 1. 1. 1. 1.]\n",
      " [1. 1. 1. 1. 1.]\n",
      " [1. 1. 1. 1. 1.]\n",
      " [1. 1. 1. 1. 1.]\n",
      " [1. 1. 1. 1. 1.]]\n",
      "5\n",
      "[[6. 6. 6. 6. 6.]\n",
      " [6. 6. 6. 6. 6.]\n",
      " [6. 6. 6. 6. 6.]\n",
      " [6. 6. 6. 6. 6.]\n",
      " [6. 6. 6. 6. 6.]]\n"
     ]
    }
   ],
   "source": [
    "#Below, A is a 5 x 5 array whereas b is just a number. Here, b has been broascasted into a 5 x 5 array of which every value is 5.\n",
    "\n",
    "A = np.ones((5,5))\n",
    "print(A)\n",
    "b=5\n",
    "print(b)\n",
    "print(A + b)"
   ]
  },
  {
   "cell_type": "markdown",
   "metadata": {},
   "source": [
    "Now you give it a try:"
   ]
  },
  {
   "cell_type": "code",
   "execution_count": null,
   "metadata": {},
   "outputs": [],
   "source": []
  },
  {
   "cell_type": "markdown",
   "metadata": {},
   "source": [
    "More information about constructing arrays with different shapes and how they are managed by Python during arithmetic operations: https://numpy.org/doc/stable/user/basics.broadcasting.html#basics-broadcasting"
   ]
  }
 ],
 "metadata": {
  "kernelspec": {
   "display_name": "Python 3",
   "language": "python",
   "name": "python3"
  },
  "language_info": {
   "codemirror_mode": {
    "name": "ipython",
    "version": 3
   },
   "file_extension": ".py",
   "mimetype": "text/x-python",
   "name": "python",
   "nbconvert_exporter": "python",
   "pygments_lexer": "ipython3",
   "version": "3.7.10"
  },
  "latex_envs": {
   "LaTeX_envs_menu_present": true,
   "autoclose": false,
   "autocomplete": true,
   "bibliofile": "biblio.bib",
   "cite_by": "apalike",
   "current_citInitial": 1,
   "eqLabelWithNumbers": true,
   "eqNumInitial": 1,
   "hotkeys": {
    "equation": "Ctrl-E",
    "itemize": "Ctrl-I"
   },
   "labels_anchors": false,
   "latex_user_defs": false,
   "report_style_numbering": false,
   "user_envs_cfg": false
  }
 },
 "nbformat": 4,
 "nbformat_minor": 4
}
