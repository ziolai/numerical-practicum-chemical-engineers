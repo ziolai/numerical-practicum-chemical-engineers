{
 "cells": [
  {
   "cell_type": "markdown",
   "metadata": {},
   "source": [
    "# 4/4:  Non-Linear Systems, Ordinary Differential Equations, Partial Differential Equations, Data and Optimization "
   ]
  },
  {
   "cell_type": "markdown",
   "metadata": {},
   "source": [
    "## Import Libraries"
   ]
  },
  {
   "cell_type": "code",
   "execution_count": 1,
   "metadata": {},
   "outputs": [
    {
     "name": "stdout",
     "output_type": "stream",
     "text": [
      "Succesfully imported numpy -- Version: 1.18.1\n",
      "Succesfully imported scipy -- Version: 1.4.1\n",
      "Succesfully imported matplotlib.pyplot\n",
      "Succesfully imported pandas -- Version: 1.0.1\n",
      "Succesfully imported sympy -- Version: 1.5.1\n",
      "Succesfully imported scipy.optimize\n",
      "Succesfully imported fsolve\n",
      "Succesfully imported find_peaks\n",
      "Succesfully imported orth\n",
      "Succesfully imported odeint\n"
     ]
    }
   ],
   "source": [
    "import numpy as np\n",
    "print(\"Succesfully imported %s -- Version: %s\"%(np.__name__,np.__version__))\n",
    "import scipy\n",
    "print(\"Succesfully imported %s -- Version: %s\"%(scipy.__name__,scipy.__version__))\n",
    "import matplotlib.pyplot as plt\n",
    "print(\"Succesfully imported %s\"%plt.__name__)\n",
    "import pandas as pd\n",
    "print(\"Succesfully imported %s -- Version: %s\"%(pd.__name__,pd.__version__))\n",
    "import sympy as sym \n",
    "print(\"Succesfully imported %s -- Version: %s\"%(sym.__name__,sym.__version__))\n",
    "from scipy import optimize\n",
    "print(\"Succesfully imported %s\"%optimize.__name__)\n",
    "from scipy.optimize import fsolve\n",
    "print(\"Succesfully imported %s\"%fsolve.__name__)\n",
    "from scipy.signal import find_peaks\n",
    "print(\"Succesfully imported %s\"%find_peaks.__name__)\n",
    "from scipy.linalg import orth\n",
    "print(\"Succesfully imported %s\"%orth.__name__)\n",
    "from scipy.integrate import odeint\n",
    "print(\"Succesfully imported %s\"%odeint.__name__)"
   ]
  },
  {
   "cell_type": "markdown",
   "metadata": {},
   "source": [
    "## Complex Numbers"
   ]
  },
  {
   "cell_type": "markdown",
   "metadata": {},
   "source": [
    "• Cartesian representation: Verify that (np.real(z)) ** 2 + (np.imag(z)) ** 2 = (np.linalg.norm(z)) ** 2. Explain your finding."
   ]
  },
  {
   "cell_type": "code",
   "execution_count": null,
   "metadata": {},
   "outputs": [],
   "source": []
  },
  {
   "cell_type": "markdown",
   "metadata": {},
   "source": [
    "• Polar representation: Set t = np.arange(0,3.01,0.01) , theta = 2 * np.pi * t, r = t and z = r * np.cos(theta) + r * np.sin(theta) * 1j.\n",
    "\n",
    "Plot using plt.plot(np.real(z),np.imag(z)). What do you see? Explain your findings. \n",
    "\n",
    "Verify that (np.cos(2 * np.pi * k * x), np.sin(2 * np.pi * k * x)) for k > 0 forms an orthogonal basis using function scipy.linalg.orth."
   ]
  },
  {
   "cell_type": "code",
   "execution_count": null,
   "metadata": {},
   "outputs": [],
   "source": []
  },
  {
   "cell_type": "markdown",
   "metadata": {},
   "source": [
    "• Try to plot harmonic functions and damped harmonic functions. Also, use the sympy.harmonic() function to find and plot harmonic numbers. "
   ]
  },
  {
   "cell_type": "code",
   "execution_count": null,
   "metadata": {},
   "outputs": [],
   "source": []
  },
  {
   "cell_type": "markdown",
   "metadata": {},
   "source": [
    "## 1. Non-Linear Systems: Finding roots of a scalar non-linear function using the fzero function"
   ]
  },
  {
   "cell_type": "markdown",
   "metadata": {},
   "source": [
    "The objective of the next exercise is to introduce the young numerical chemical engineering to solving a non- linear equations using the function scipy.optimize.fsolve(). As example we will consider finding the roots of the characteristic polynomial of a 2-by-2 matrix A. If A = np.array([[1,0],[2,3]]), then the characteristic polynomial of A is given by p(x) = x ^ 2 - 4 * x + 3 = (x-1) * (x-3). As p(x=1) = 0 and p(x=3) = 0, the polynomial p(x) has roots x = 1 and x = 3. These two roots define the eigenvalues of A. The objective of this exercise is to compute the eigenvalues of A using the scipy.optimize.fsolve function:  "
   ]
  },
  {
   "cell_type": "markdown",
   "metadata": {},
   "source": [
    "• Step 1: Constructing the characteristic polynomial\n",
    "\n",
    "Given the matrix  A = np.array([[1,0],[2,3]]), the np.poly() function computes the coefficient of the characteric polynomial of A. Consider that pc = np.poly(A)."
   ]
  },
  {
   "cell_type": "code",
   "execution_count": null,
   "metadata": {},
   "outputs": [],
   "source": []
  },
  {
   "cell_type": "markdown",
   "metadata": {},
   "source": [
    "• Step 2: Plotting the characteristic polynomial\n",
    "\n",
    "The Python function np.polyval allows to evaluate a polynomial. This function requires two input values. The call np.polyval(pc,x) evaluates the polynomial defined by pc in the input argument x. To plot the characteristic polynomial of A,   set xx = np.arange(0,5,0.01) and yy = np.polyval(pc,xx) and call plt.plot(xx,yy)."
   ]
  },
  {
   "cell_type": "code",
   "execution_count": null,
   "metadata": {},
   "outputs": [],
   "source": []
  },
  {
   "cell_type": "markdown",
   "metadata": {},
   "source": [
    "• Step 3: Finding the zero of the characteristic polynomial\n",
    "\n",
    "The roots of the characteristic polynomial can now be found using the function scipy.optimize.fsolve(). But consider that in order to use it, first a function myfun for the characteristic polynomical must be defined. Now, solve fsolve(myfun,0) and fsolve(myfun,5) and compare the answers found."
   ]
  },
  {
   "cell_type": "code",
   "execution_count": null,
   "metadata": {},
   "outputs": [],
   "source": [
    "\n"
   ]
  },
  {
   "cell_type": "markdown",
   "metadata": {},
   "source": [
    "## 2. Non-Linear Systems: Solving systems of non-linear equations using the fsolve function "
   ]
  },
  {
   "cell_type": "markdown",
   "metadata": {},
   "source": [
    "• Extend the previous exercise to find the zeros of the function np.cos(x) for -1 <= x <= 1. Define a function that takes the scalars x and y as input and that returns the output value z = peaks(x,y) by using the function fsolve. Supplying the output argument is essential to make the peaks function work as desired. Then use the function find_peaks from scipy.signal and compare the results obtained from the function you made to the ones given by the Python function."
   ]
  },
  {
   "cell_type": "code",
   "execution_count": null,
   "metadata": {},
   "outputs": [],
   "source": []
  },
  {
   "cell_type": "markdown",
   "metadata": {},
   "source": [
    "• Find the 2-by-2 matrix X that satisfies X * X * X = np.array([1, 2],[3, 4])."
   ]
  },
  {
   "cell_type": "code",
   "execution_count": null,
   "metadata": {},
   "outputs": [],
   "source": [
    "\n"
   ]
  },
  {
   "cell_type": "markdown",
   "metadata": {},
   "source": [
    "More information on how to solve non-linear systems using Python: https://docs.scipy.org/doc/scipy/reference/generated/scipy.optimize.fsolve.html\n",
    "https://docs.scipy.org/doc/scipy/reference/generated/scipy.signal.find_peaks.html"
   ]
  },
  {
   "cell_type": "markdown",
   "metadata": {},
   "source": [
    "## 1. ODE: Solving a scalar first order non-stiff ordinary differential equation using scipy.integrate.odeint"
   ]
  },
  {
   "cell_type": "markdown",
   "metadata": {},
   "source": [
    "• Consider y(t) to be a function in t and let y’(t) denote the derivative y’(t) = dy/dt. Consider the first order ordinary differential equation y’(t) = f(t) with f(t) = 2 * t (or alternatives such as f(t) = t^3 -1 or f(t) = t * sin(t)) with the initial condition y(t=0) = 1. Solve this initial value problem analytically using pen and paper and plot the solution obtained on the interval 0 <= t <= 5."
   ]
  },
  {
   "cell_type": "code",
   "execution_count": null,
   "metadata": {},
   "outputs": [],
   "source": []
  },
  {
   "cell_type": "markdown",
   "metadata": {},
   "source": [
    "• Solve the initial value problem numerically using the Python function odeint(). Define to this end the function func(t)= 2*t Perform time integration using tspan=np.linspace(0, 1, 101) and initial condition y(0)=[0], to obtain y=odeint(func, y0, tspan). Then, plot the result obtained for y vs. t."
   ]
  },
  {
   "cell_type": "code",
   "execution_count": null,
   "metadata": {},
   "outputs": [],
   "source": []
  },
  {
   "cell_type": "markdown",
   "metadata": {},
   "source": [
    "• Plot the absolute value of the difference between the analytical and the numerical approximation using a logarithmic scale on the y-axis. Consult the information found in help(odeint) and find ways to reduce the difference between the analytical and numerical solution."
   ]
  },
  {
   "cell_type": "code",
   "execution_count": null,
   "metadata": {},
   "outputs": [],
   "source": []
  },
  {
   "cell_type": "markdown",
   "metadata": {},
   "source": [
    "## 2. ODE: Solving a scalar second order non-stiff ordinary differential equation using scipy.integrate.odeint"
   ]
  },
  {
   "cell_type": "markdown",
   "metadata": {},
   "source": [
    "Harmonically oscillating point masses daily appear in the practice of a numerical chemical engineering studying systems of molecules or granular flows. In this section we consider the idealized case of a single point mass. Harmonic oscillator with and without damping. "
   ]
  },
  {
   "cell_type": "markdown",
   "metadata": {},
   "source": [
    "• Consider y(t) to be again a function in t. Let y’(t) and y’’(t) denote the first and second order derivatives y’(t) = dy/dt and y’’(t) = d^2y/dt^2, respectively. Consider the second order differential equation d^y / dt^2 = -(k/m) y(t) with initial conditions y(0)=[1] and y'(0)=[0]. Assume k/m=4. This initial value problem models the motion of a point with mass m attached to a spring with constant k having initial position 1 and initial velocity 0. Analytically solve this initial value problem using for instance the characteristic equation. Plot the solution for y(t) and y’(t) obtained on the interval 0<=t<=5. Give a physical interpretation of the graphs obtained."
   ]
  },
  {
   "cell_type": "code",
   "execution_count": null,
   "metadata": {},
   "outputs": [],
   "source": []
  },
  {
   "cell_type": "markdown",
   "metadata": {},
   "source": [
    "• Rewrite the scalar second order differential equation for the position y(t) as a coupled system of two first order equations for the position y(t) and the velocity y’(t). Show that this coupled system can be written in a matrix-vector form as d/dt [y(1) , y(2)] = [0 1, -k/m 0] [y(1) , y(2)] supplied with the initial condition [y(1) , y(2)] = [1, 0 ]."
   ]
  },
  {
   "cell_type": "code",
   "execution_count": null,
   "metadata": {},
   "outputs": [],
   "source": []
  },
  {
   "cell_type": "markdown",
   "metadata": {},
   "source": [
    "• Solve the initial value problem numerically using the function scipy.integrate.odeint. Assume that k/m = 3. Define the function func(t,y)=([y(1), -3*y(0)]), which takes as input the couple (t,y) and gives as output the vector. Perform time integration to obtain y=odeint(func, [1, 0], np.linspace(0, 5, 101)) and plot the result obtained for y vs. t. Give a physical interpretation of the graphs obtained."
   ]
  },
  {
   "cell_type": "code",
   "execution_count": null,
   "metadata": {},
   "outputs": [],
   "source": []
  },
  {
   "cell_type": "markdown",
   "metadata": {},
   "source": [
    "• Assume next that a damping term proportional to velocity is added to the system. Extend the model. Solve the model analytically and numerically. Give an interpretation of the results obtained. With damping: func(t,y)=([y(1), -3*y(0)-0.1*y(1)]). Perform time integration to obtain y=odeint(func, [1, 1], np.linspace(0, 6*np.pi, 101)) and make a plot of y vs. t."
   ]
  },
  {
   "cell_type": "code",
   "execution_count": null,
   "metadata": {},
   "outputs": [],
   "source": []
  },
  {
   "cell_type": "markdown",
   "metadata": {},
   "source": [
    "• Extend the model assuming a periodic forcing term that compensates the damping caused by friction."
   ]
  },
  {
   "cell_type": "code",
   "execution_count": null,
   "metadata": {},
   "outputs": [],
   "source": []
  },
  {
   "cell_type": "markdown",
   "metadata": {},
   "source": [
    "• Extend the model assuming that the particles are placed in a reactive vessel such that the particle either gains or looses mass during its trajectory. Allow for sudden drops or gains in mass to verify how the numerics cope with sudden changes. "
   ]
  },
  {
   "cell_type": "code",
   "execution_count": null,
   "metadata": {},
   "outputs": [],
   "source": []
  },
  {
   "cell_type": "markdown",
   "metadata": {},
   "source": [
    "•\tThe model assuming a constant spring constant works well under the assumption that the distance from the equilibrium point remains small. In case that this condition is violated, a non-linear model for the spring is required. Extend the model assuming that k[y(t)] = k_0 * (1+y^2(t))."
   ]
  },
  {
   "cell_type": "code",
   "execution_count": null,
   "metadata": {},
   "outputs": [],
   "source": []
  },
  {
   "cell_type": "markdown",
   "metadata": {},
   "source": [
    "## 3. ODE: Example of a stiff system, system of coupled reactions with slow and fast reactions. Combustion of methane in various steps"
   ]
  },
  {
   "cell_type": "markdown",
   "metadata": {},
   "source": [
    "• Consult documentation to find alternatives for odeint. For instance, here: http://www.stochasticlifestyle.com/comparison-differential-equation-solver-suites-matlab-r-julia-python-c-fortran/ "
   ]
  },
  {
   "cell_type": "markdown",
   "metadata": {},
   "source": [
    "• Solving (systems of) stiff ordinary differential equations (Hint: scipy.integrate.ode(f).set_integrator('vode', method='bdf', order=15)) applied to the Van der Pol equation. For more information see: https://docs.scipy.org/doc/scipy/reference/generated/scipy.integrate.ode.html"
   ]
  },
  {
   "cell_type": "markdown",
   "metadata": {},
   "source": [
    "More information on ODEs:\n",
    "https://docs.scipy.org/doc/scipy/reference/generated/scipy.integrate.odeint.html"
   ]
  },
  {
   "cell_type": "markdown",
   "metadata": {},
   "source": [
    "## PDE"
   ]
  },
  {
   "cell_type": "markdown",
   "metadata": {},
   "source": [
    "• Solve 1D scalar diffusion using 1D matrix introduced before and Gaussian pulse with various locations as a source term. See this: https://docs.scipy.org/doc/scipy/reference/generated/scipy.signal.gausspulse.html"
   ]
  },
  {
   "cell_type": "markdown",
   "metadata": {},
   "source": [
    "• Extend to convection-diffusion (by adding a bi-diagonal matrix). Explore upwind and down-wind discretization."
   ]
  },
  {
   "cell_type": "markdown",
   "metadata": {},
   "source": [
    "• Extend to wave equation (by subtracting a diagonal matrix)."
   ]
  },
  {
   "cell_type": "markdown",
   "metadata": {},
   "source": [
    "More information on PDEs: https://link.springer.com/book/10.1007/978-3-319-52462-7 / https://docs.sympy.org/latest/modules/solvers/pde.html"
   ]
  },
  {
   "cell_type": "markdown",
   "metadata": {},
   "source": [
    "## Optimization without constraints using derivatives (fminunc) (requires more thought):"
   ]
  },
  {
   "cell_type": "markdown",
   "metadata": {},
   "source": [
    "Consider the function f(x,y) = x^2 + a y^2 for a = 1, a = 0.1 and a = 0.01 on the domain where -1 <= x, y <= 1; clearly f(x,y) has a unique min in (x,y) = (0,0) where f(0,0) = 0."
   ]
  },
  {
   "cell_type": "markdown",
   "metadata": {},
   "source": [
    "• Compute and plot the gradient. For information on how to do it, see this: http://www.adeveloperdiary.com/data-science/how-to-visualize-gradient-descent-using-contour-plot-in-python/."
   ]
  },
  {
   "cell_type": "markdown",
   "metadata": {},
   "source": [
    "• Compute the Hessian. For information on how to do it, see this: https://pypi.org/project/numdifftools/"
   ]
  },
  {
   "cell_type": "markdown",
   "metadata": {},
   "source": [
    "• Find min using steepest descent for various values of a (and Algorithm to 'quasi-newton’)."
   ]
  },
  {
   "cell_type": "markdown",
   "metadata": {},
   "source": [
    "• Idem using CG; compare number of iterations with previous method."
   ]
  },
  {
   "cell_type": "markdown",
   "metadata": {},
   "source": [
    "• Idem using Newton method."
   ]
  },
  {
   "cell_type": "markdown",
   "metadata": {},
   "source": [
    "## Optimization without using derivatives: derivatives not (immediately) available"
   ]
  },
  {
   "cell_type": "markdown",
   "metadata": {},
   "source": [
    "• Please see this: https://scipy-lectures.org/advanced/mathematical_optimization/"
   ]
  },
  {
   "cell_type": "markdown",
   "metadata": {},
   "source": [
    "• Optimization output of a reaction based on inputs, temperature output in 1D diffusion problem given as input postion and width of two pulses."
   ]
  }
 ],
 "metadata": {
  "kernelspec": {
   "display_name": "Python 3",
   "language": "python",
   "name": "python3"
  },
  "language_info": {
   "codemirror_mode": {
    "name": "ipython",
    "version": 3
   },
   "file_extension": ".py",
   "mimetype": "text/x-python",
   "name": "python",
   "nbconvert_exporter": "python",
   "pygments_lexer": "ipython3",
   "version": "3.7.10"
  },
  "latex_envs": {
   "LaTeX_envs_menu_present": true,
   "autoclose": false,
   "autocomplete": true,
   "bibliofile": "biblio.bib",
   "cite_by": "apalike",
   "current_citInitial": 1,
   "eqLabelWithNumbers": true,
   "eqNumInitial": 1,
   "hotkeys": {
    "equation": "Ctrl-E",
    "itemize": "Ctrl-I"
   },
   "labels_anchors": false,
   "latex_user_defs": false,
   "report_style_numbering": false,
   "user_envs_cfg": false
  }
 },
 "nbformat": 4,
 "nbformat_minor": 2
}
